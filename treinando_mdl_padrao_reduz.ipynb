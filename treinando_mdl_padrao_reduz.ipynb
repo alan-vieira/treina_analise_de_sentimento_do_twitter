{
 "cells": [
  {
   "cell_type": "code",
   "execution_count": 28,
   "metadata": {},
   "outputs": [],
   "source": [
    "import pandas as pd"
   ]
  },
  {
   "attachments": {},
   "cell_type": "markdown",
   "metadata": {},
   "source": [
    "## Carregando o dataset"
   ]
  },
  {
   "cell_type": "code",
   "execution_count": 29,
   "metadata": {},
   "outputs": [
    {
     "data": {
      "text/html": [
       "<div>\n",
       "<style scoped>\n",
       "    .dataframe tbody tr th:only-of-type {\n",
       "        vertical-align: middle;\n",
       "    }\n",
       "\n",
       "    .dataframe tbody tr th {\n",
       "        vertical-align: top;\n",
       "    }\n",
       "\n",
       "    .dataframe thead th {\n",
       "        text-align: right;\n",
       "    }\n",
       "</style>\n",
       "<table border=\"1\" class=\"dataframe\">\n",
       "  <thead>\n",
       "    <tr style=\"text-align: right;\">\n",
       "      <th></th>\n",
       "      <th>Unnamed: 0</th>\n",
       "      <th>created_at</th>\n",
       "      <th>id</th>\n",
       "      <th>id_str</th>\n",
       "      <th>text</th>\n",
       "      <th>truncated</th>\n",
       "      <th>entities</th>\n",
       "      <th>extended_entities</th>\n",
       "      <th>metadata</th>\n",
       "      <th>source</th>\n",
       "      <th>...</th>\n",
       "      <th>is_quote_status</th>\n",
       "      <th>retweet_count</th>\n",
       "      <th>favorite_count</th>\n",
       "      <th>favorited</th>\n",
       "      <th>retweeted</th>\n",
       "      <th>possibly_sensitive</th>\n",
       "      <th>lang</th>\n",
       "      <th>trend_t</th>\n",
       "      <th>score</th>\n",
       "      <th>sentiment</th>\n",
       "    </tr>\n",
       "  </thead>\n",
       "  <tbody>\n",
       "    <tr>\n",
       "      <th>0</th>\n",
       "      <td>0</td>\n",
       "      <td>Wed Feb 22 19:05:12 +0000 2023</td>\n",
       "      <td>1628470980925423620</td>\n",
       "      <td>1628470980925423620</td>\n",
       "      <td>Como atuam\\n#MoonlightChickenEP5 \\n#HEARTLIMING https://t.co/Tbp1Gdy7ll</td>\n",
       "      <td>False</td>\n",
       "      <td>{'hashtags': [{'text': 'MoonlightChickenEP5', 'indices': [11, 31]}, {'text': 'HEARTLIMING', 'indices': [33, 45]}], 'symbols': [], 'user_mentions': [], 'urls': [], 'media': [{'id': 1628470977553174528, 'id_str': '1628470977553174528', 'indices': [46, 69], 'media_url': 'http://pbs.twimg.com/media/Fpl9ueAXEAAMPCm.jpg', 'media_url_https': 'https://pbs.twimg.com/media/Fpl9ueAXEAAMPCm.jpg', 'url': 'https://t.co/Tbp1Gdy7ll', 'display_url': 'pic.twitter.com/Tbp1Gdy7ll', 'expanded_url': 'https://twitter.com/twayvl/status/1628470980925423620/photo/1', 'type': 'photo', 'sizes': {'thumb': {'w': 150, 'h': 150, 'resize': 'crop'}, 'medium': {'w': 736, 'h': 752, 'resize': 'fit'}, 'large': {'w': 736, 'h': 752, 'resize': 'fit'}, 'small': {'w': 666, 'h': 680, 'resize': 'fit'}}}]}</td>\n",
       "      <td>{'media': [{'id': 1628470977553174528, 'id_str': '1628470977553174528', 'indices': [46, 69], 'media_url': 'http://pbs.twimg.com/media/Fpl9ueAXEAAMPCm.jpg', 'media_url_https': 'https://pbs.twimg.com/media/Fpl9ueAXEAAMPCm.jpg', 'url': 'https://t.co/Tbp1Gdy7ll', 'display_url': 'pic.twitter.com/Tbp1Gdy7ll', 'expanded_url': 'https://twitter.com/twayvl/status/1628470980925423620/photo/1', 'type': 'photo', 'sizes': {'thumb': {'w': 150, 'h': 150, 'resize': 'crop'}, 'medium': {'w': 736, 'h': 752, 'resize': 'fit'}, 'large': {'w': 736, 'h': 752, 'resize': 'fit'}, 'small': {'w': 666, 'h': 680, 'resize': 'fit'}}}]}</td>\n",
       "      <td>{'iso_language_code': 'pt', 'result_type': 'recent'}</td>\n",
       "      <td>&lt;a href=\"http://twitter.com/download/android\" rel=\"nofollow\"&gt;Twitter for Android&lt;/a&gt;</td>\n",
       "      <td>...</td>\n",
       "      <td>False</td>\n",
       "      <td>0</td>\n",
       "      <td>0</td>\n",
       "      <td>False</td>\n",
       "      <td>False</td>\n",
       "      <td>False</td>\n",
       "      <td>pt</td>\n",
       "      <td>MoonlightChickenEP5</td>\n",
       "      <td>0.0000</td>\n",
       "      <td>1</td>\n",
       "    </tr>\n",
       "    <tr>\n",
       "      <th>1</th>\n",
       "      <td>1</td>\n",
       "      <td>Wed Feb 22 19:03:55 +0000 2023</td>\n",
       "      <td>1628470659444613122</td>\n",
       "      <td>1628470659444613122</td>\n",
       "      <td>Eles me fazem acreditar que, relacionamento entre amigos, não funciona, mais cedo ou mais tarde, vai desmoronar 😭.… https://t.co/P0Cjt7iTyU</td>\n",
       "      <td>True</td>\n",
       "      <td>{'hashtags': [], 'symbols': [], 'user_mentions': [], 'urls': [{'url': 'https://t.co/P0Cjt7iTyU', 'expanded_url': 'https://twitter.com/i/web/status/1628470659444613122', 'display_url': 'twitter.com/i/web/status/1…', 'indices': [116, 139]}]}</td>\n",
       "      <td>NaN</td>\n",
       "      <td>{'iso_language_code': 'pt', 'result_type': 'recent'}</td>\n",
       "      <td>&lt;a href=\"http://twitter.com/download/android\" rel=\"nofollow\"&gt;Twitter for Android&lt;/a&gt;</td>\n",
       "      <td>...</td>\n",
       "      <td>False</td>\n",
       "      <td>0</td>\n",
       "      <td>0</td>\n",
       "      <td>False</td>\n",
       "      <td>False</td>\n",
       "      <td>False</td>\n",
       "      <td>pt</td>\n",
       "      <td>MoonlightChickenEP5</td>\n",
       "      <td>0.2263</td>\n",
       "      <td>2</td>\n",
       "    </tr>\n",
       "    <tr>\n",
       "      <th>2</th>\n",
       "      <td>2</td>\n",
       "      <td>Wed Feb 22 19:03:34 +0000 2023</td>\n",
       "      <td>1628470570709925890</td>\n",
       "      <td>1628470570709925890</td>\n",
       "      <td>pq eu sinto q isso aqui vai dar muito briga?????? #MoonlightChickenEP5 https://t.co/WHzEhLJK62</td>\n",
       "      <td>False</td>\n",
       "      <td>{'hashtags': [{'text': 'MoonlightChickenEP5', 'indices': [50, 70]}], 'symbols': [], 'user_mentions': [], 'urls': [], 'media': [{'id': 1628470563600490502, 'id_str': '1628470563600490502', 'indices': [71, 94], 'media_url': 'http://pbs.twimg.com/media/Fpl9WX6WYAYh0xC.jpg', 'media_url_https': 'https://pbs.twimg.com/media/Fpl9WX6WYAYh0xC.jpg', 'url': 'https://t.co/WHzEhLJK62', 'display_url': 'pic.twitter.com/WHzEhLJK62', 'expanded_url': 'https://twitter.com/jmwpallet/status/1628470570709925890/photo/1', 'type': 'photo', 'sizes': {'thumb': {'w': 150, 'h': 150, 'resize': 'crop'}, 'large': {'w': 1600, 'h': 720, 'resize': 'fit'}, 'medium': {'w': 1200, 'h': 540, 'resize': 'fit'}, 'small': {'w': 680, 'h': 306, 'resize': 'fit'}}}]}</td>\n",
       "      <td>{'media': [{'id': 1628470563600490502, 'id_str': '1628470563600490502', 'indices': [71, 94], 'media_url': 'http://pbs.twimg.com/media/Fpl9WX6WYAYh0xC.jpg', 'media_url_https': 'https://pbs.twimg.com/media/Fpl9WX6WYAYh0xC.jpg', 'url': 'https://t.co/WHzEhLJK62', 'display_url': 'pic.twitter.com/WHzEhLJK62', 'expanded_url': 'https://twitter.com/jmwpallet/status/1628470570709925890/photo/1', 'type': 'photo', 'sizes': {'thumb': {'w': 150, 'h': 150, 'resize': 'crop'}, 'large': {'w': 1600, 'h': 720, 'resize': 'fit'}, 'medium': {'w': 1200, 'h': 540, 'resize': 'fit'}, 'small': {'w': 680, 'h': 306, 'resize': 'fit'}}}, {'id': 1628470567325122567, 'id_str': '1628470567325122567', 'indices': [71, 94], 'media_url': 'http://pbs.twimg.com/media/Fpl9WlyXwAcxdtt.jpg', 'media_url_https': 'https://pbs.twimg.com/media/Fpl9WlyXwAcxdtt.jpg', 'url': 'https://t.co/WHzEhLJK62', 'display_url': 'pic.twitter.com/WHzEhLJK62', 'expanded_url': 'https://twitter.com/jmwpallet/status/1628470570709925890/photo/1', 'type': 'photo', 'sizes': {'thumb': {'w': 150, 'h': 150, 'resize': 'crop'}, 'medium': {'w': 1200, 'h': 540, 'resize': 'fit'}, 'small': {'w': 680, 'h': 306, 'resize': 'fit'}, 'large': {'w': 1600, 'h': 720, 'resize': 'fit'}}}]}</td>\n",
       "      <td>{'iso_language_code': 'pt', 'result_type': 'recent'}</td>\n",
       "      <td>&lt;a href=\"http://twitter.com/download/android\" rel=\"nofollow\"&gt;Twitter for Android&lt;/a&gt;</td>\n",
       "      <td>...</td>\n",
       "      <td>False</td>\n",
       "      <td>0</td>\n",
       "      <td>0</td>\n",
       "      <td>False</td>\n",
       "      <td>False</td>\n",
       "      <td>False</td>\n",
       "      <td>pt</td>\n",
       "      <td>MoonlightChickenEP5</td>\n",
       "      <td>0.0000</td>\n",
       "      <td>1</td>\n",
       "    </tr>\n",
       "    <tr>\n",
       "      <th>3</th>\n",
       "      <td>3</td>\n",
       "      <td>Wed Feb 22 19:03:22 +0000 2023</td>\n",
       "      <td>1628470520084676610</td>\n",
       "      <td>1628470520084676610</td>\n",
       "      <td>O nome salvo dos dois nos Contatos. Fofos.🤏🏽\\n#MoonlightChickenEP5 https://t.co/u85vXyh2nM</td>\n",
       "      <td>False</td>\n",
       "      <td>{'hashtags': [{'text': 'MoonlightChickenEP5', 'indices': [45, 65]}], 'symbols': [], 'user_mentions': [], 'urls': [], 'media': [{'id': 1628470511100481538, 'id_str': '1628470511100481538', 'indices': [66, 89], 'media_url': 'http://pbs.twimg.com/media/Fpl9TUVX0AIJ7Dc.jpg', 'media_url_https': 'https://pbs.twimg.com/media/Fpl9TUVX0AIJ7Dc.jpg', 'url': 'https://t.co/u85vXyh2nM', 'display_url': 'pic.twitter.com/u85vXyh2nM', 'expanded_url': 'https://twitter.com/alineluizass/status/1628470520084676610/photo/1', 'type': 'photo', 'sizes': {'thumb': {'w': 150, 'h': 150, 'resize': 'crop'}, 'small': {'w': 680, 'h': 680, 'resize': 'fit'}, 'large': {'w': 1241, 'h': 1241, 'resize': 'fit'}, 'medium': {'w': 1200, 'h': 1200, 'resize': 'fit'}}}]}</td>\n",
       "      <td>{'media': [{'id': 1628470511100481538, 'id_str': '1628470511100481538', 'indices': [66, 89], 'media_url': 'http://pbs.twimg.com/media/Fpl9TUVX0AIJ7Dc.jpg', 'media_url_https': 'https://pbs.twimg.com/media/Fpl9TUVX0AIJ7Dc.jpg', 'url': 'https://t.co/u85vXyh2nM', 'display_url': 'pic.twitter.com/u85vXyh2nM', 'expanded_url': 'https://twitter.com/alineluizass/status/1628470520084676610/photo/1', 'type': 'photo', 'sizes': {'thumb': {'w': 150, 'h': 150, 'resize': 'crop'}, 'small': {'w': 680, 'h': 680, 'resize': 'fit'}, 'large': {'w': 1241, 'h': 1241, 'resize': 'fit'}, 'medium': {'w': 1200, 'h': 1200, 'resize': 'fit'}}}, {'id': 1628470511083593729, 'id_str': '1628470511083593729', 'indices': [66, 89], 'media_url': 'http://pbs.twimg.com/media/Fpl9TURWIAE4UrR.jpg', 'media_url_https': 'https://pbs.twimg.com/media/Fpl9TURWIAE4UrR.jpg', 'url': 'https://t.co/u85vXyh2nM', 'display_url': 'pic.twitter.com/u85vXyh2nM', 'expanded_url': 'https://twitter.com/alineluizass/status/1628470520084676610/photo/1', 'type': 'photo', 'sizes': {'thumb': {'w': 150, 'h': 150, 'resize': 'crop'}, 'small': {'w': 680, 'h': 680, 'resize': 'fit'}, 'large': {'w': 1241, 'h': 1241, 'resize': 'fit'}, 'medium': {'w': 1200, 'h': 1200, 'resize': 'fit'}}}]}</td>\n",
       "      <td>{'iso_language_code': 'pt', 'result_type': 'recent'}</td>\n",
       "      <td>&lt;a href=\"http://twitter.com/download/iphone\" rel=\"nofollow\"&gt;Twitter for iPhone&lt;/a&gt;</td>\n",
       "      <td>...</td>\n",
       "      <td>False</td>\n",
       "      <td>1</td>\n",
       "      <td>2</td>\n",
       "      <td>False</td>\n",
       "      <td>False</td>\n",
       "      <td>False</td>\n",
       "      <td>pt</td>\n",
       "      <td>MoonlightChickenEP5</td>\n",
       "      <td>0.0000</td>\n",
       "      <td>1</td>\n",
       "    </tr>\n",
       "    <tr>\n",
       "      <th>4</th>\n",
       "      <td>4</td>\n",
       "      <td>Wed Feb 22 19:03:10 +0000 2023</td>\n",
       "      <td>1628470471942455297</td>\n",
       "      <td>1628470471942455297</td>\n",
       "      <td>\"Os peixes grandes sempre comem os peixes pequenos\"\\n\"O importante e ele ter dinheiro, pq quem tem dinheiro sempre v… https://t.co/oGCAXGEqJ0</td>\n",
       "      <td>True</td>\n",
       "      <td>{'hashtags': [], 'symbols': [], 'user_mentions': [], 'urls': [{'url': 'https://t.co/oGCAXGEqJ0', 'expanded_url': 'https://twitter.com/i/web/status/1628470471942455297', 'display_url': 'twitter.com/i/web/status/1…', 'indices': [117, 140]}]}</td>\n",
       "      <td>NaN</td>\n",
       "      <td>{'iso_language_code': 'pt', 'result_type': 'recent'}</td>\n",
       "      <td>&lt;a href=\"http://twitter.com/download/android\" rel=\"nofollow\"&gt;Twitter for Android&lt;/a&gt;</td>\n",
       "      <td>...</td>\n",
       "      <td>False</td>\n",
       "      <td>0</td>\n",
       "      <td>0</td>\n",
       "      <td>False</td>\n",
       "      <td>False</td>\n",
       "      <td>NaN</td>\n",
       "      <td>pt</td>\n",
       "      <td>MoonlightChickenEP5</td>\n",
       "      <td>0.5423</td>\n",
       "      <td>2</td>\n",
       "    </tr>\n",
       "  </tbody>\n",
       "</table>\n",
       "<p>5 rows × 30 columns</p>\n",
       "</div>"
      ],
      "text/plain": [
       "   Unnamed: 0                      created_at                   id  \\\n",
       "0           0  Wed Feb 22 19:05:12 +0000 2023  1628470980925423620   \n",
       "1           1  Wed Feb 22 19:03:55 +0000 2023  1628470659444613122   \n",
       "2           2  Wed Feb 22 19:03:34 +0000 2023  1628470570709925890   \n",
       "3           3  Wed Feb 22 19:03:22 +0000 2023  1628470520084676610   \n",
       "4           4  Wed Feb 22 19:03:10 +0000 2023  1628470471942455297   \n",
       "\n",
       "                id_str  \\\n",
       "0  1628470980925423620   \n",
       "1  1628470659444613122   \n",
       "2  1628470570709925890   \n",
       "3  1628470520084676610   \n",
       "4  1628470471942455297   \n",
       "\n",
       "                                                                                                                                            text  \\\n",
       "0                                                                        Como atuam\\n#MoonlightChickenEP5 \\n#HEARTLIMING https://t.co/Tbp1Gdy7ll   \n",
       "1    Eles me fazem acreditar que, relacionamento entre amigos, não funciona, mais cedo ou mais tarde, vai desmoronar 😭.… https://t.co/P0Cjt7iTyU   \n",
       "2                                                 pq eu sinto q isso aqui vai dar muito briga?????? #MoonlightChickenEP5 https://t.co/WHzEhLJK62   \n",
       "3                                                     O nome salvo dos dois nos Contatos. Fofos.🤏🏽\\n#MoonlightChickenEP5 https://t.co/u85vXyh2nM   \n",
       "4  \"Os peixes grandes sempre comem os peixes pequenos\"\\n\"O importante e ele ter dinheiro, pq quem tem dinheiro sempre v… https://t.co/oGCAXGEqJ0   \n",
       "\n",
       "   truncated  \\\n",
       "0      False   \n",
       "1       True   \n",
       "2      False   \n",
       "3      False   \n",
       "4       True   \n",
       "\n",
       "                                                                                                                                                                                                                                                                                                                                                                                                                                                                                                                                                                                                                                                                                                                                                                                              entities  \\\n",
       "0  {'hashtags': [{'text': 'MoonlightChickenEP5', 'indices': [11, 31]}, {'text': 'HEARTLIMING', 'indices': [33, 45]}], 'symbols': [], 'user_mentions': [], 'urls': [], 'media': [{'id': 1628470977553174528, 'id_str': '1628470977553174528', 'indices': [46, 69], 'media_url': 'http://pbs.twimg.com/media/Fpl9ueAXEAAMPCm.jpg', 'media_url_https': 'https://pbs.twimg.com/media/Fpl9ueAXEAAMPCm.jpg', 'url': 'https://t.co/Tbp1Gdy7ll', 'display_url': 'pic.twitter.com/Tbp1Gdy7ll', 'expanded_url': 'https://twitter.com/twayvl/status/1628470980925423620/photo/1', 'type': 'photo', 'sizes': {'thumb': {'w': 150, 'h': 150, 'resize': 'crop'}, 'medium': {'w': 736, 'h': 752, 'resize': 'fit'}, 'large': {'w': 736, 'h': 752, 'resize': 'fit'}, 'small': {'w': 666, 'h': 680, 'resize': 'fit'}}}]}   \n",
       "1                                                                                                                                                                                                                                                                                                                                                                                                                                                                                                                                                      {'hashtags': [], 'symbols': [], 'user_mentions': [], 'urls': [{'url': 'https://t.co/P0Cjt7iTyU', 'expanded_url': 'https://twitter.com/i/web/status/1628470659444613122', 'display_url': 'twitter.com/i/web/status/1…', 'indices': [116, 139]}]}   \n",
       "2                                           {'hashtags': [{'text': 'MoonlightChickenEP5', 'indices': [50, 70]}], 'symbols': [], 'user_mentions': [], 'urls': [], 'media': [{'id': 1628470563600490502, 'id_str': '1628470563600490502', 'indices': [71, 94], 'media_url': 'http://pbs.twimg.com/media/Fpl9WX6WYAYh0xC.jpg', 'media_url_https': 'https://pbs.twimg.com/media/Fpl9WX6WYAYh0xC.jpg', 'url': 'https://t.co/WHzEhLJK62', 'display_url': 'pic.twitter.com/WHzEhLJK62', 'expanded_url': 'https://twitter.com/jmwpallet/status/1628470570709925890/photo/1', 'type': 'photo', 'sizes': {'thumb': {'w': 150, 'h': 150, 'resize': 'crop'}, 'large': {'w': 1600, 'h': 720, 'resize': 'fit'}, 'medium': {'w': 1200, 'h': 540, 'resize': 'fit'}, 'small': {'w': 680, 'h': 306, 'resize': 'fit'}}}]}   \n",
       "3                                      {'hashtags': [{'text': 'MoonlightChickenEP5', 'indices': [45, 65]}], 'symbols': [], 'user_mentions': [], 'urls': [], 'media': [{'id': 1628470511100481538, 'id_str': '1628470511100481538', 'indices': [66, 89], 'media_url': 'http://pbs.twimg.com/media/Fpl9TUVX0AIJ7Dc.jpg', 'media_url_https': 'https://pbs.twimg.com/media/Fpl9TUVX0AIJ7Dc.jpg', 'url': 'https://t.co/u85vXyh2nM', 'display_url': 'pic.twitter.com/u85vXyh2nM', 'expanded_url': 'https://twitter.com/alineluizass/status/1628470520084676610/photo/1', 'type': 'photo', 'sizes': {'thumb': {'w': 150, 'h': 150, 'resize': 'crop'}, 'small': {'w': 680, 'h': 680, 'resize': 'fit'}, 'large': {'w': 1241, 'h': 1241, 'resize': 'fit'}, 'medium': {'w': 1200, 'h': 1200, 'resize': 'fit'}}}]}   \n",
       "4                                                                                                                                                                                                                                                                                                                                                                                                                                                                                                                                                      {'hashtags': [], 'symbols': [], 'user_mentions': [], 'urls': [{'url': 'https://t.co/oGCAXGEqJ0', 'expanded_url': 'https://twitter.com/i/web/status/1628470471942455297', 'display_url': 'twitter.com/i/web/status/1…', 'indices': [117, 140]}]}   \n",
       "\n",
       "                                                                                                                                                                                                                                                                                                                                                                                                                                                                                                                                                                                                                                                                                                                                                                                                                                                                                                                                                                                                                                                                                                                                                                                                                                                             extended_entities  \\\n",
       "0                                                                                                                                                                                                                                                                                                                                                                                                                                                                                                                                                                                                                                            {'media': [{'id': 1628470977553174528, 'id_str': '1628470977553174528', 'indices': [46, 69], 'media_url': 'http://pbs.twimg.com/media/Fpl9ueAXEAAMPCm.jpg', 'media_url_https': 'https://pbs.twimg.com/media/Fpl9ueAXEAAMPCm.jpg', 'url': 'https://t.co/Tbp1Gdy7ll', 'display_url': 'pic.twitter.com/Tbp1Gdy7ll', 'expanded_url': 'https://twitter.com/twayvl/status/1628470980925423620/photo/1', 'type': 'photo', 'sizes': {'thumb': {'w': 150, 'h': 150, 'resize': 'crop'}, 'medium': {'w': 736, 'h': 752, 'resize': 'fit'}, 'large': {'w': 736, 'h': 752, 'resize': 'fit'}, 'small': {'w': 666, 'h': 680, 'resize': 'fit'}}}]}   \n",
       "1                                                                                                                                                                                                                                                                                                                                                                                                                                                                                                                                                                                                                                                                                                                                                                                                                                                                                                                                                                                                                                                                                                                                                                                                                                                                          NaN   \n",
       "2            {'media': [{'id': 1628470563600490502, 'id_str': '1628470563600490502', 'indices': [71, 94], 'media_url': 'http://pbs.twimg.com/media/Fpl9WX6WYAYh0xC.jpg', 'media_url_https': 'https://pbs.twimg.com/media/Fpl9WX6WYAYh0xC.jpg', 'url': 'https://t.co/WHzEhLJK62', 'display_url': 'pic.twitter.com/WHzEhLJK62', 'expanded_url': 'https://twitter.com/jmwpallet/status/1628470570709925890/photo/1', 'type': 'photo', 'sizes': {'thumb': {'w': 150, 'h': 150, 'resize': 'crop'}, 'large': {'w': 1600, 'h': 720, 'resize': 'fit'}, 'medium': {'w': 1200, 'h': 540, 'resize': 'fit'}, 'small': {'w': 680, 'h': 306, 'resize': 'fit'}}}, {'id': 1628470567325122567, 'id_str': '1628470567325122567', 'indices': [71, 94], 'media_url': 'http://pbs.twimg.com/media/Fpl9WlyXwAcxdtt.jpg', 'media_url_https': 'https://pbs.twimg.com/media/Fpl9WlyXwAcxdtt.jpg', 'url': 'https://t.co/WHzEhLJK62', 'display_url': 'pic.twitter.com/WHzEhLJK62', 'expanded_url': 'https://twitter.com/jmwpallet/status/1628470570709925890/photo/1', 'type': 'photo', 'sizes': {'thumb': {'w': 150, 'h': 150, 'resize': 'crop'}, 'medium': {'w': 1200, 'h': 540, 'resize': 'fit'}, 'small': {'w': 680, 'h': 306, 'resize': 'fit'}, 'large': {'w': 1600, 'h': 720, 'resize': 'fit'}}}]}   \n",
       "3  {'media': [{'id': 1628470511100481538, 'id_str': '1628470511100481538', 'indices': [66, 89], 'media_url': 'http://pbs.twimg.com/media/Fpl9TUVX0AIJ7Dc.jpg', 'media_url_https': 'https://pbs.twimg.com/media/Fpl9TUVX0AIJ7Dc.jpg', 'url': 'https://t.co/u85vXyh2nM', 'display_url': 'pic.twitter.com/u85vXyh2nM', 'expanded_url': 'https://twitter.com/alineluizass/status/1628470520084676610/photo/1', 'type': 'photo', 'sizes': {'thumb': {'w': 150, 'h': 150, 'resize': 'crop'}, 'small': {'w': 680, 'h': 680, 'resize': 'fit'}, 'large': {'w': 1241, 'h': 1241, 'resize': 'fit'}, 'medium': {'w': 1200, 'h': 1200, 'resize': 'fit'}}}, {'id': 1628470511083593729, 'id_str': '1628470511083593729', 'indices': [66, 89], 'media_url': 'http://pbs.twimg.com/media/Fpl9TURWIAE4UrR.jpg', 'media_url_https': 'https://pbs.twimg.com/media/Fpl9TURWIAE4UrR.jpg', 'url': 'https://t.co/u85vXyh2nM', 'display_url': 'pic.twitter.com/u85vXyh2nM', 'expanded_url': 'https://twitter.com/alineluizass/status/1628470520084676610/photo/1', 'type': 'photo', 'sizes': {'thumb': {'w': 150, 'h': 150, 'resize': 'crop'}, 'small': {'w': 680, 'h': 680, 'resize': 'fit'}, 'large': {'w': 1241, 'h': 1241, 'resize': 'fit'}, 'medium': {'w': 1200, 'h': 1200, 'resize': 'fit'}}}]}   \n",
       "4                                                                                                                                                                                                                                                                                                                                                                                                                                                                                                                                                                                                                                                                                                                                                                                                                                                                                                                                                                                                                                                                                                                                                                                                                                                                          NaN   \n",
       "\n",
       "                                               metadata  \\\n",
       "0  {'iso_language_code': 'pt', 'result_type': 'recent'}   \n",
       "1  {'iso_language_code': 'pt', 'result_type': 'recent'}   \n",
       "2  {'iso_language_code': 'pt', 'result_type': 'recent'}   \n",
       "3  {'iso_language_code': 'pt', 'result_type': 'recent'}   \n",
       "4  {'iso_language_code': 'pt', 'result_type': 'recent'}   \n",
       "\n",
       "                                                                                 source  \\\n",
       "0  <a href=\"http://twitter.com/download/android\" rel=\"nofollow\">Twitter for Android</a>   \n",
       "1  <a href=\"http://twitter.com/download/android\" rel=\"nofollow\">Twitter for Android</a>   \n",
       "2  <a href=\"http://twitter.com/download/android\" rel=\"nofollow\">Twitter for Android</a>   \n",
       "3    <a href=\"http://twitter.com/download/iphone\" rel=\"nofollow\">Twitter for iPhone</a>   \n",
       "4  <a href=\"http://twitter.com/download/android\" rel=\"nofollow\">Twitter for Android</a>   \n",
       "\n",
       "   ...  is_quote_status  retweet_count  favorite_count  favorited retweeted  \\\n",
       "0  ...            False              0               0      False     False   \n",
       "1  ...            False              0               0      False     False   \n",
       "2  ...            False              0               0      False     False   \n",
       "3  ...            False              1               2      False     False   \n",
       "4  ...            False              0               0      False     False   \n",
       "\n",
       "  possibly_sensitive  lang              trend_t   score  sentiment  \n",
       "0              False    pt  MoonlightChickenEP5  0.0000          1  \n",
       "1              False    pt  MoonlightChickenEP5  0.2263          2  \n",
       "2              False    pt  MoonlightChickenEP5  0.0000          1  \n",
       "3              False    pt  MoonlightChickenEP5  0.0000          1  \n",
       "4                NaN    pt  MoonlightChickenEP5  0.5423          2  \n",
       "\n",
       "[5 rows x 30 columns]"
      ]
     },
     "execution_count": 29,
     "metadata": {},
     "output_type": "execute_result"
    }
   ],
   "source": [
    "df = pd.read_csv('tweets_raw_sem_duplicata.csv')\n",
    "df.head()"
   ]
  },
  {
   "cell_type": "code",
   "execution_count": 30,
   "metadata": {},
   "outputs": [
    {
     "data": {
      "text/html": [
       "<div>\n",
       "<style scoped>\n",
       "    .dataframe tbody tr th:only-of-type {\n",
       "        vertical-align: middle;\n",
       "    }\n",
       "\n",
       "    .dataframe tbody tr th {\n",
       "        vertical-align: top;\n",
       "    }\n",
       "\n",
       "    .dataframe thead th {\n",
       "        text-align: right;\n",
       "    }\n",
       "</style>\n",
       "<table border=\"1\" class=\"dataframe\">\n",
       "  <thead>\n",
       "    <tr style=\"text-align: right;\">\n",
       "      <th></th>\n",
       "      <th>text</th>\n",
       "      <th>sentiment</th>\n",
       "    </tr>\n",
       "  </thead>\n",
       "  <tbody>\n",
       "    <tr>\n",
       "      <th>0</th>\n",
       "      <td>Como atuam\\n#MoonlightChickenEP5 \\n#HEARTLIMING https://t.co/Tbp1Gdy7ll</td>\n",
       "      <td>1</td>\n",
       "    </tr>\n",
       "    <tr>\n",
       "      <th>1</th>\n",
       "      <td>Eles me fazem acreditar que, relacionamento entre amigos, não funciona, mais cedo ou mais tarde, vai desmoronar 😭.… https://t.co/P0Cjt7iTyU</td>\n",
       "      <td>2</td>\n",
       "    </tr>\n",
       "    <tr>\n",
       "      <th>2</th>\n",
       "      <td>pq eu sinto q isso aqui vai dar muito briga?????? #MoonlightChickenEP5 https://t.co/WHzEhLJK62</td>\n",
       "      <td>1</td>\n",
       "    </tr>\n",
       "    <tr>\n",
       "      <th>3</th>\n",
       "      <td>O nome salvo dos dois nos Contatos. Fofos.🤏🏽\\n#MoonlightChickenEP5 https://t.co/u85vXyh2nM</td>\n",
       "      <td>1</td>\n",
       "    </tr>\n",
       "    <tr>\n",
       "      <th>4</th>\n",
       "      <td>\"Os peixes grandes sempre comem os peixes pequenos\"\\n\"O importante e ele ter dinheiro, pq quem tem dinheiro sempre v… https://t.co/oGCAXGEqJ0</td>\n",
       "      <td>2</td>\n",
       "    </tr>\n",
       "  </tbody>\n",
       "</table>\n",
       "</div>"
      ],
      "text/plain": [
       "                                                                                                                                            text  \\\n",
       "0                                                                        Como atuam\\n#MoonlightChickenEP5 \\n#HEARTLIMING https://t.co/Tbp1Gdy7ll   \n",
       "1    Eles me fazem acreditar que, relacionamento entre amigos, não funciona, mais cedo ou mais tarde, vai desmoronar 😭.… https://t.co/P0Cjt7iTyU   \n",
       "2                                                 pq eu sinto q isso aqui vai dar muito briga?????? #MoonlightChickenEP5 https://t.co/WHzEhLJK62   \n",
       "3                                                     O nome salvo dos dois nos Contatos. Fofos.🤏🏽\\n#MoonlightChickenEP5 https://t.co/u85vXyh2nM   \n",
       "4  \"Os peixes grandes sempre comem os peixes pequenos\"\\n\"O importante e ele ter dinheiro, pq quem tem dinheiro sempre v… https://t.co/oGCAXGEqJ0   \n",
       "\n",
       "   sentiment  \n",
       "0          1  \n",
       "1          2  \n",
       "2          1  \n",
       "3          1  \n",
       "4          2  "
      ]
     },
     "execution_count": 30,
     "metadata": {},
     "output_type": "execute_result"
    }
   ],
   "source": [
    "# separando apenas as variáveis que quero visualizar\n",
    "tweet_df = df[['text','sentiment']]\n",
    "tweet_df.head()"
   ]
  },
  {
   "cell_type": "code",
   "execution_count": 31,
   "metadata": {},
   "outputs": [
    {
     "data": {
      "text/plain": [
       "1    6435\n",
       "0    6029\n",
       "2    4912\n",
       "Name: sentiment, dtype: int64"
      ]
     },
     "execution_count": 31,
     "metadata": {},
     "output_type": "execute_result"
    }
   ],
   "source": [
    "tweet_df['sentiment'].value_counts()"
   ]
  },
  {
   "cell_type": "code",
   "execution_count": 32,
   "metadata": {},
   "outputs": [
    {
     "data": {
      "image/png": "[encoded data removed]",
      "text/plain": [
       "<Figure size 640x480 with 1 Axes>"
      ]
     },
     "metadata": {},
     "output_type": "display_data"
    }
   ],
   "source": [
    "# visualizando os dados em gráfico\n",
    "import matplotlib.pyplot as plt\n",
    "import seaborn as sns\n",
    "\n",
    "sns.countplot(x=tweet_df.sentiment)\n",
    "plt.xlabel('class')\n",
    "plt.ylabel('tweets')\n",
    "plt.show();"
   ]
  },
  {
   "attachments": {},
   "cell_type": "markdown",
   "metadata": {},
   "source": [
    "## Efentuando a limpeza dos dados"
   ]
  },
  {
   "cell_type": "code",
   "execution_count": 33,
   "metadata": {},
   "outputs": [
    {
     "name": "stdout",
     "output_type": "stream",
     "text": [
      "Requirement already satisfied: nltk in c:\\users\\alsvi\\notebooks\\analise_sentimet_twitter_2023\\venv\\lib\\site-packages (3.8.1)\n",
      "Requirement already satisfied: tqdm in c:\\users\\alsvi\\notebooks\\analise_sentimet_twitter_2023\\venv\\lib\\site-packages (from nltk) (4.64.1)\n",
      "Requirement already satisfied: regex>=2021.8.3 in c:\\users\\alsvi\\notebooks\\analise_sentimet_twitter_2023\\venv\\lib\\site-packages (from nltk) (2022.10.31)\n",
      "Requirement already satisfied: joblib in c:\\users\\alsvi\\notebooks\\analise_sentimet_twitter_2023\\venv\\lib\\site-packages (from nltk) (1.2.0)\n",
      "Requirement already satisfied: click in c:\\users\\alsvi\\notebooks\\analise_sentimet_twitter_2023\\venv\\lib\\site-packages (from nltk) (8.1.3)\n",
      "Requirement already satisfied: colorama in c:\\users\\alsvi\\notebooks\\analise_sentimet_twitter_2023\\venv\\lib\\site-packages (from click->nltk) (0.4.6)\n",
      "Note: you may need to restart the kernel to use updated packages.\n"
     ]
    }
   ],
   "source": [
    "%pip install nltk"
   ]
  },
  {
   "cell_type": "code",
   "execution_count": 34,
   "metadata": {},
   "outputs": [
    {
     "name": "stderr",
     "output_type": "stream",
     "text": [
      "C:\\Users\\alsvi\\AppData\\Local\\Programs\\Python\\Python310\\lib\\runpy.py:126: RuntimeWarning: 'nltk.downloader' found in sys.modules after import of package 'nltk', but prior to execution of 'nltk.downloader'; this may result in unpredictable behaviour\n",
      "  warn(RuntimeWarning(msg))\n",
      "[nltk_data] Downloading package stopwords to\n",
      "[nltk_data]     C:\\Users\\alsvi\\AppData\\Roaming\\nltk_data...\n",
      "[nltk_data]   Package stopwords is already up-to-date!\n"
     ]
    }
   ],
   "source": [
    "# baixando as stopwords\n",
    "!python -m nltk.downloader stopwords"
   ]
  },
  {
   "cell_type": "code",
   "execution_count": 35,
   "metadata": {},
   "outputs": [],
   "source": [
    "import nltk\n",
    "import re"
   ]
  },
  {
   "cell_type": "code",
   "execution_count": 36,
   "metadata": {},
   "outputs": [],
   "source": [
    "def remove_caracteres(instancia):\n",
    "    ''' \n",
    "    Função de remoção de caracteres:\n",
    "    'http\\S+' - remove url \n",
    "    lower() - tranforma o texto em minúsculo\n",
    "    '[0-9]+' - remove números\n",
    "    '[^\\w\\s]' -  remove pontuação\n",
    "    '[!#$%^&*()]' - remove caractéres espaciais\n",
    "    '''\n",
    "    instancia = re.sub(r'http\\S+', '', instancia).lower()\n",
    "    instancia = re.sub(r'[0-9]+', '', instancia)\n",
    "    instancia = re.sub(r'[^\\w\\s]', '', instancia)\n",
    "    instancia = re.sub('[!#$%^&*()]', '', instancia)\n",
    "    stopwords = set(nltk.corpus.stopwords.words('portuguese'))\n",
    "    palavras = [i for i in instancia.split() if not i in stopwords]\n",
    "    return (' '.join(palavras))"
   ]
  },
  {
   "cell_type": "code",
   "execution_count": 37,
   "metadata": {},
   "outputs": [],
   "source": [
    "def remove_emojis(string):\n",
    "    '''Função que remove emojis'''\n",
    "    emoji_pattern = re.compile(\"[\"\n",
    "                                u\"\\U0001F600-\\U0001F64F\"  # emoticons\n",
    "                                u\"\\U0001F300-\\U0001F5FF\"  # symbols & pictographs\n",
    "                                u\"\\U0001F680-\\U0001F6FF\"  # transport & map symbols\n",
    "                                u\"\\U0001F1E0-\\U0001F1FF\"  # flags (iOS)\n",
    "                                u\"\\U00002500-\\U00002BEF\"  # chinese char\n",
    "                                u\"\\U00002702-\\U000027B0\"\n",
    "                                u\"\\U00002702-\\U000027B0\"\n",
    "                                u\"\\U000024C2-\\U0001F251\"\n",
    "                                u\"\\U0001f926-\\U0001f937\"\n",
    "                                u\"\\U00010000-\\U0010ffff\"\n",
    "                                u\"\\u2640-\\u2642\"\n",
    "                                u\"\\u2600-\\u2B55\"\n",
    "                                u\"\\u200d\"\n",
    "                                u\"\\u23cf\"\n",
    "                                u\"\\u23e9\"\n",
    "                                u\"\\u231a\"\n",
    "                                u\"\\ufe0f\"  # dingbats\n",
    "                                u\"\\u3030\"\n",
    "                                \"]+\", flags=re.UNICODE)\n",
    "    return emoji_pattern.sub(r'', string)"
   ]
  },
  {
   "cell_type": "code",
   "execution_count": 38,
   "metadata": {},
   "outputs": [
    {
     "name": "stderr",
     "output_type": "stream",
     "text": [
      "C:\\Users\\alsvi\\AppData\\Local\\Temp\\ipykernel_19844\\1715463276.py:2: SettingWithCopyWarning: \n",
      "A value is trying to be set on a copy of a slice from a DataFrame.\n",
      "Try using .loc[row_indexer,col_indexer] = value instead\n",
      "\n",
      "See the caveats in the documentation: https://pandas.pydata.org/pandas-docs/stable/user_guide/indexing.html#returning-a-view-versus-a-copy\n",
      "  tweet_df['text_clean'] = tweet_df['text'].apply(remove_caracteres).apply(remove_emojis)\n"
     ]
    },
    {
     "data": {
      "text/html": [
       "<div>\n",
       "<style scoped>\n",
       "    .dataframe tbody tr th:only-of-type {\n",
       "        vertical-align: middle;\n",
       "    }\n",
       "\n",
       "    .dataframe tbody tr th {\n",
       "        vertical-align: top;\n",
       "    }\n",
       "\n",
       "    .dataframe thead th {\n",
       "        text-align: right;\n",
       "    }\n",
       "</style>\n",
       "<table border=\"1\" class=\"dataframe\">\n",
       "  <thead>\n",
       "    <tr style=\"text-align: right;\">\n",
       "      <th></th>\n",
       "      <th>text</th>\n",
       "      <th>sentiment</th>\n",
       "      <th>text_clean</th>\n",
       "    </tr>\n",
       "  </thead>\n",
       "  <tbody>\n",
       "    <tr>\n",
       "      <th>0</th>\n",
       "      <td>Como atuam\\n#MoonlightChickenEP5 \\n#HEARTLIMING https://t.co/Tbp1Gdy7ll</td>\n",
       "      <td>1</td>\n",
       "      <td>atuam moonlightchickenep heartliming</td>\n",
       "    </tr>\n",
       "    <tr>\n",
       "      <th>1</th>\n",
       "      <td>Eles me fazem acreditar que, relacionamento entre amigos, não funciona, mais cedo ou mais tarde, vai desmoronar 😭.… https://t.co/P0Cjt7iTyU</td>\n",
       "      <td>2</td>\n",
       "      <td>fazem acreditar relacionamento amigos funciona cedo tarde vai desmoronar</td>\n",
       "    </tr>\n",
       "    <tr>\n",
       "      <th>2</th>\n",
       "      <td>pq eu sinto q isso aqui vai dar muito briga?????? #MoonlightChickenEP5 https://t.co/WHzEhLJK62</td>\n",
       "      <td>1</td>\n",
       "      <td>pq sinto q aqui vai dar briga moonlightchickenep</td>\n",
       "    </tr>\n",
       "    <tr>\n",
       "      <th>3</th>\n",
       "      <td>O nome salvo dos dois nos Contatos. Fofos.🤏🏽\\n#MoonlightChickenEP5 https://t.co/u85vXyh2nM</td>\n",
       "      <td>1</td>\n",
       "      <td>nome salvo dois contatos fofos moonlightchickenep</td>\n",
       "    </tr>\n",
       "    <tr>\n",
       "      <th>4</th>\n",
       "      <td>\"Os peixes grandes sempre comem os peixes pequenos\"\\n\"O importante e ele ter dinheiro, pq quem tem dinheiro sempre v… https://t.co/oGCAXGEqJ0</td>\n",
       "      <td>2</td>\n",
       "      <td>peixes grandes sempre comem peixes pequenos importante ter dinheiro pq dinheiro sempre v</td>\n",
       "    </tr>\n",
       "  </tbody>\n",
       "</table>\n",
       "</div>"
      ],
      "text/plain": [
       "                                                                                                                                            text  \\\n",
       "0                                                                        Como atuam\\n#MoonlightChickenEP5 \\n#HEARTLIMING https://t.co/Tbp1Gdy7ll   \n",
       "1    Eles me fazem acreditar que, relacionamento entre amigos, não funciona, mais cedo ou mais tarde, vai desmoronar 😭.… https://t.co/P0Cjt7iTyU   \n",
       "2                                                 pq eu sinto q isso aqui vai dar muito briga?????? #MoonlightChickenEP5 https://t.co/WHzEhLJK62   \n",
       "3                                                     O nome salvo dos dois nos Contatos. Fofos.🤏🏽\\n#MoonlightChickenEP5 https://t.co/u85vXyh2nM   \n",
       "4  \"Os peixes grandes sempre comem os peixes pequenos\"\\n\"O importante e ele ter dinheiro, pq quem tem dinheiro sempre v… https://t.co/oGCAXGEqJ0   \n",
       "\n",
       "   sentiment  \\\n",
       "0          1   \n",
       "1          2   \n",
       "2          1   \n",
       "3          1   \n",
       "4          2   \n",
       "\n",
       "                                                                                 text_clean  \n",
       "0                                                      atuam moonlightchickenep heartliming  \n",
       "1                  fazem acreditar relacionamento amigos funciona cedo tarde vai desmoronar  \n",
       "2                                          pq sinto q aqui vai dar briga moonlightchickenep  \n",
       "3                                         nome salvo dois contatos fofos moonlightchickenep  \n",
       "4  peixes grandes sempre comem peixes pequenos importante ter dinheiro pq dinheiro sempre v  "
      ]
     },
     "execution_count": 38,
     "metadata": {},
     "output_type": "execute_result"
    }
   ],
   "source": [
    "# aplicando a limpeza dos dados\n",
    "tweet_df['text_clean'] = tweet_df['text'].apply(remove_caracteres).apply(remove_emojis)\n",
    "\n",
    "pd.set_option('display.max_colwidth', None)\n",
    "tweet_df.head()"
   ]
  },
  {
   "attachments": {},
   "cell_type": "markdown",
   "metadata": {},
   "source": [
    "## Lematização com Spacy"
   ]
  },
  {
   "cell_type": "code",
   "execution_count": 39,
   "metadata": {},
   "outputs": [
    {
     "name": "stdout",
     "output_type": "stream",
     "text": [
      "Requirement already satisfied: pip in c:\\users\\alsvi\\notebooks\\analise_sentimet_twitter_2023\\venv\\lib\\site-packages (23.0.1)\n",
      "Requirement already satisfied: setuptools in c:\\users\\alsvi\\notebooks\\analise_sentimet_twitter_2023\\venv\\lib\\site-packages (67.4.0)\n",
      "Requirement already satisfied: wheel in c:\\users\\alsvi\\notebooks\\analise_sentimet_twitter_2023\\venv\\lib\\site-packages (0.38.4)\n",
      "Note: you may need to restart the kernel to use updated packages.\n",
      "Requirement already satisfied: spacy in c:\\users\\alsvi\\notebooks\\analise_sentimet_twitter_2023\\venv\\lib\\site-packages (3.5.0)\n",
      "Requirement already satisfied: typer<0.8.0,>=0.3.0 in c:\\users\\alsvi\\notebooks\\analise_sentimet_twitter_2023\\venv\\lib\\site-packages (from spacy) (0.7.0)\n",
      "Requirement already satisfied: thinc<8.2.0,>=8.1.0 in c:\\users\\alsvi\\notebooks\\analise_sentimet_twitter_2023\\venv\\lib\\site-packages (from spacy) (8.1.7)\n",
      "Requirement already satisfied: langcodes<4.0.0,>=3.2.0 in c:\\users\\alsvi\\notebooks\\analise_sentimet_twitter_2023\\venv\\lib\\site-packages (from spacy) (3.3.0)\n",
      "Requirement already satisfied: spacy-loggers<2.0.0,>=1.0.0 in c:\\users\\alsvi\\notebooks\\analise_sentimet_twitter_2023\\venv\\lib\\site-packages (from spacy) (1.0.4)\n",
      "Requirement already satisfied: smart-open<7.0.0,>=5.2.1 in c:\\users\\alsvi\\notebooks\\analise_sentimet_twitter_2023\\venv\\lib\\site-packages (from spacy) (6.3.0)\n",
      "Requirement already satisfied: preshed<3.1.0,>=3.0.2 in c:\\users\\alsvi\\notebooks\\analise_sentimet_twitter_2023\\venv\\lib\\site-packages (from spacy) (3.0.8)\n",
      "Requirement already satisfied: tqdm<5.0.0,>=4.38.0 in c:\\users\\alsvi\\notebooks\\analise_sentimet_twitter_2023\\venv\\lib\\site-packages (from spacy) (4.64.1)\n",
      "Requirement already satisfied: catalogue<2.1.0,>=2.0.6 in c:\\users\\alsvi\\notebooks\\analise_sentimet_twitter_2023\\venv\\lib\\site-packages (from spacy) (2.0.8)\n",
      "Requirement already satisfied: murmurhash<1.1.0,>=0.28.0 in c:\\users\\alsvi\\notebooks\\analise_sentimet_twitter_2023\\venv\\lib\\site-packages (from spacy) (1.0.9)\n",
      "Requirement already satisfied: jinja2 in c:\\users\\alsvi\\notebooks\\analise_sentimet_twitter_2023\\venv\\lib\\site-packages (from spacy) (3.1.2)\n",
      "Requirement already satisfied: numpy>=1.15.0 in c:\\users\\alsvi\\notebooks\\analise_sentimet_twitter_2023\\venv\\lib\\site-packages (from spacy) (1.24.1)\n",
      "Requirement already satisfied: requests<3.0.0,>=2.13.0 in c:\\users\\alsvi\\notebooks\\analise_sentimet_twitter_2023\\venv\\lib\\site-packages (from spacy) (2.28.2)\n",
      "Requirement already satisfied: spacy-legacy<3.1.0,>=3.0.11 in c:\\users\\alsvi\\notebooks\\analise_sentimet_twitter_2023\\venv\\lib\\site-packages (from spacy) (3.0.12)\n",
      "Requirement already satisfied: wasabi<1.2.0,>=0.9.1 in c:\\users\\alsvi\\notebooks\\analise_sentimet_twitter_2023\\venv\\lib\\site-packages (from spacy) (1.1.1)\n",
      "Requirement already satisfied: pydantic!=1.8,!=1.8.1,<1.11.0,>=1.7.4 in c:\\users\\alsvi\\notebooks\\analise_sentimet_twitter_2023\\venv\\lib\\site-packages (from spacy) (1.10.4)\n",
      "Requirement already satisfied: cymem<2.1.0,>=2.0.2 in c:\\users\\alsvi\\notebooks\\analise_sentimet_twitter_2023\\venv\\lib\\site-packages (from spacy) (2.0.7)\n",
      "Requirement already satisfied: srsly<3.0.0,>=2.4.3 in c:\\users\\alsvi\\notebooks\\analise_sentimet_twitter_2023\\venv\\lib\\site-packages (from spacy) (2.4.5)\n",
      "Requirement already satisfied: setuptools in c:\\users\\alsvi\\notebooks\\analise_sentimet_twitter_2023\\venv\\lib\\site-packages (from spacy) (67.4.0)\n",
      "Requirement already satisfied: pathy>=0.10.0 in c:\\users\\alsvi\\notebooks\\analise_sentimet_twitter_2023\\venv\\lib\\site-packages (from spacy) (0.10.1)\n",
      "Requirement already satisfied: packaging>=20.0 in c:\\users\\alsvi\\notebooks\\analise_sentimet_twitter_2023\\venv\\lib\\site-packages (from spacy) (23.0)\n",
      "Requirement already satisfied: typing-extensions>=4.2.0 in c:\\users\\alsvi\\notebooks\\analise_sentimet_twitter_2023\\venv\\lib\\site-packages (from pydantic!=1.8,!=1.8.1,<1.11.0,>=1.7.4->spacy) (4.4.0)\n",
      "Requirement already satisfied: urllib3<1.27,>=1.21.1 in c:\\users\\alsvi\\notebooks\\analise_sentimet_twitter_2023\\venv\\lib\\site-packages (from requests<3.0.0,>=2.13.0->spacy) (1.26.14)\n",
      "Requirement already satisfied: idna<4,>=2.5 in c:\\users\\alsvi\\notebooks\\analise_sentimet_twitter_2023\\venv\\lib\\site-packages (from requests<3.0.0,>=2.13.0->spacy) (3.4)\n",
      "Requirement already satisfied: charset-normalizer<4,>=2 in c:\\users\\alsvi\\notebooks\\analise_sentimet_twitter_2023\\venv\\lib\\site-packages (from requests<3.0.0,>=2.13.0->spacy) (3.0.1)\n",
      "Requirement already satisfied: certifi>=2017.4.17 in c:\\users\\alsvi\\notebooks\\analise_sentimet_twitter_2023\\venv\\lib\\site-packages (from requests<3.0.0,>=2.13.0->spacy) (2022.12.7)\n",
      "Requirement already satisfied: confection<1.0.0,>=0.0.1 in c:\\users\\alsvi\\notebooks\\analise_sentimet_twitter_2023\\venv\\lib\\site-packages (from thinc<8.2.0,>=8.1.0->spacy) (0.0.4)\n",
      "Requirement already satisfied: blis<0.8.0,>=0.7.8 in c:\\users\\alsvi\\notebooks\\analise_sentimet_twitter_2023\\venv\\lib\\site-packages (from thinc<8.2.0,>=8.1.0->spacy) (0.7.9)\n",
      "Requirement already satisfied: colorama in c:\\users\\alsvi\\notebooks\\analise_sentimet_twitter_2023\\venv\\lib\\site-packages (from tqdm<5.0.0,>=4.38.0->spacy) (0.4.6)\n",
      "Requirement already satisfied: click<9.0.0,>=7.1.1 in c:\\users\\alsvi\\notebooks\\analise_sentimet_twitter_2023\\venv\\lib\\site-packages (from typer<0.8.0,>=0.3.0->spacy) (8.1.3)\n",
      "Requirement already satisfied: MarkupSafe>=2.0 in c:\\users\\alsvi\\notebooks\\analise_sentimet_twitter_2023\\venv\\lib\\site-packages (from jinja2->spacy) (2.1.2)\n",
      "Note: you may need to restart the kernel to use updated packages.\n",
      "Collecting pt-core-news-sm==3.5.0\n",
      "  Downloading https://github.com/explosion/spacy-models/releases/download/pt_core_news_sm-3.5.0/pt_core_news_sm-3.5.0-py3-none-any.whl (13.0 MB)\n",
      "     ---------------------------------------- 0.0/13.0 MB ? eta -:--:--\n",
      "     ---------------------------------------- 0.0/13.0 MB ? eta -:--:--\n",
      "     ---------------------------------------- 0.0/13.0 MB ? eta -:--:--\n",
      "     --------------------------------------- 0.0/13.0 MB 245.8 kB/s eta 0:00:53\n",
      "     --------------------------------------- 0.0/13.0 MB 245.8 kB/s eta 0:00:53\n",
      "     --------------------------------------- 0.1/13.0 MB 374.1 kB/s eta 0:00:35\n",
      "     --------------------------------------- 0.1/13.0 MB 374.1 kB/s eta 0:00:35\n",
      "     --------------------------------------- 0.1/13.0 MB 374.6 kB/s eta 0:00:35\n",
      "      -------------------------------------- 0.2/13.0 MB 499.5 kB/s eta 0:00:26\n",
      "      -------------------------------------- 0.2/13.0 MB 499.5 kB/s eta 0:00:26\n",
      "      -------------------------------------- 0.3/13.0 MB 610.3 kB/s eta 0:00:21\n",
      "      -------------------------------------- 0.3/13.0 MB 610.3 kB/s eta 0:00:21\n",
      "     - ------------------------------------- 0.5/13.0 MB 818.5 kB/s eta 0:00:16\n",
      "     - ------------------------------------- 0.5/13.0 MB 818.5 kB/s eta 0:00:16\n",
      "     - ------------------------------------- 0.6/13.0 MB 826.1 kB/s eta 0:00:16\n",
      "     -- ------------------------------------- 0.7/13.0 MB 1.1 MB/s eta 0:00:12\n",
      "     -- ------------------------------------- 0.7/13.0 MB 1.1 MB/s eta 0:00:12\n",
      "     --- ------------------------------------ 1.1/13.0 MB 1.4 MB/s eta 0:00:09\n",
      "     --- ------------------------------------ 1.2/13.0 MB 1.4 MB/s eta 0:00:09\n",
      "     ---- ----------------------------------- 1.3/13.0 MB 1.5 MB/s eta 0:00:08\n",
      "     ----- ---------------------------------- 1.7/13.0 MB 1.9 MB/s eta 0:00:07\n",
      "     ----- ---------------------------------- 1.8/13.0 MB 1.8 MB/s eta 0:00:07\n",
      "     ------- -------------------------------- 2.3/13.0 MB 2.2 MB/s eta 0:00:05\n",
      "     ------- -------------------------------- 2.5/13.0 MB 2.4 MB/s eta 0:00:05\n",
      "     --------- ------------------------------ 2.9/13.0 MB 2.6 MB/s eta 0:00:04\n",
      "     ---------- ----------------------------- 3.5/13.0 MB 3.0 MB/s eta 0:00:04\n",
      "     ----------- ---------------------------- 3.9/13.0 MB 3.2 MB/s eta 0:00:03\n",
      "     ------------ --------------------------- 4.2/13.0 MB 3.3 MB/s eta 0:00:03\n",
      "     ------------ --------------------------- 4.2/13.0 MB 3.3 MB/s eta 0:00:03\n",
      "     -------------- ------------------------- 4.6/13.0 MB 3.4 MB/s eta 0:00:03\n",
      "     --------------- ------------------------ 5.0/13.0 MB 3.6 MB/s eta 0:00:03\n",
      "     ----------------- ---------------------- 5.5/13.0 MB 3.8 MB/s eta 0:00:02\n",
      "     ------------------ --------------------- 6.0/13.0 MB 4.0 MB/s eta 0:00:02\n",
      "     ------------------- -------------------- 6.4/13.0 MB 4.2 MB/s eta 0:00:02\n",
      "     -------------------- ------------------- 6.7/13.0 MB 4.2 MB/s eta 0:00:02\n",
      "     --------------------- ------------------ 6.9/13.0 MB 4.2 MB/s eta 0:00:02\n",
      "     --------------------- ------------------ 6.9/13.0 MB 4.1 MB/s eta 0:00:02\n",
      "     --------------------- ------------------ 7.0/13.0 MB 4.1 MB/s eta 0:00:02\n",
      "     --------------------- ------------------ 7.0/13.0 MB 3.9 MB/s eta 0:00:02\n",
      "     --------------------- ------------------ 7.1/13.0 MB 3.9 MB/s eta 0:00:02\n",
      "     --------------------- ------------------ 7.1/13.0 MB 3.8 MB/s eta 0:00:02\n",
      "     --------------------- ------------------ 7.1/13.0 MB 3.7 MB/s eta 0:00:02\n",
      "     ---------------------- ----------------- 7.1/13.0 MB 3.7 MB/s eta 0:00:02\n",
      "     ---------------------- ----------------- 7.2/13.0 MB 3.6 MB/s eta 0:00:02\n",
      "     ---------------------- ----------------- 7.2/13.0 MB 3.6 MB/s eta 0:00:02\n",
      "     ---------------------- ----------------- 7.2/13.0 MB 3.4 MB/s eta 0:00:02\n",
      "     ---------------------- ----------------- 7.3/13.0 MB 3.4 MB/s eta 0:00:02\n",
      "     ---------------------- ----------------- 7.3/13.0 MB 3.3 MB/s eta 0:00:02\n",
      "     ---------------------- ----------------- 7.5/13.0 MB 3.3 MB/s eta 0:00:02\n",
      "     ----------------------- ---------------- 7.6/13.0 MB 3.3 MB/s eta 0:00:02\n",
      "     ----------------------- ---------------- 7.8/13.0 MB 3.3 MB/s eta 0:00:02\n",
      "     ------------------------ --------------- 7.8/13.0 MB 3.3 MB/s eta 0:00:02\n",
      "     ------------------------ --------------- 7.9/13.0 MB 3.2 MB/s eta 0:00:02\n",
      "     ------------------------ --------------- 7.9/13.0 MB 3.2 MB/s eta 0:00:02\n",
      "     ------------------------ --------------- 8.0/13.0 MB 3.2 MB/s eta 0:00:02\n",
      "     ------------------------ --------------- 8.1/13.0 MB 3.1 MB/s eta 0:00:02\n",
      "     ------------------------- -------------- 8.2/13.0 MB 3.1 MB/s eta 0:00:02\n",
      "     ------------------------- -------------- 8.3/13.0 MB 3.1 MB/s eta 0:00:02\n",
      "     ------------------------- -------------- 8.4/13.0 MB 3.1 MB/s eta 0:00:02\n",
      "     ------------------------- -------------- 8.4/13.0 MB 3.0 MB/s eta 0:00:02\n",
      "     -------------------------- ------------- 8.5/13.0 MB 3.0 MB/s eta 0:00:02\n",
      "     -------------------------- ------------- 8.6/13.0 MB 3.0 MB/s eta 0:00:02\n",
      "     --------------------------- ------------ 8.8/13.0 MB 3.0 MB/s eta 0:00:02\n",
      "     --------------------------- ------------ 8.9/13.0 MB 3.0 MB/s eta 0:00:02\n",
      "     --------------------------- ------------ 9.0/13.0 MB 3.0 MB/s eta 0:00:02\n",
      "     --------------------------- ------------ 9.1/13.0 MB 3.0 MB/s eta 0:00:02\n",
      "     ---------------------------- ----------- 9.1/13.0 MB 3.0 MB/s eta 0:00:02\n",
      "     ---------------------------- ----------- 9.2/13.0 MB 2.9 MB/s eta 0:00:02\n",
      "     ---------------------------- ----------- 9.2/13.0 MB 2.9 MB/s eta 0:00:02\n",
      "     ---------------------------- ----------- 9.3/13.0 MB 2.9 MB/s eta 0:00:02\n",
      "     ----------------------------- ---------- 9.4/13.0 MB 2.9 MB/s eta 0:00:02\n",
      "     ----------------------------- ---------- 9.5/13.0 MB 2.9 MB/s eta 0:00:02\n",
      "     ----------------------------- ---------- 9.7/13.0 MB 2.9 MB/s eta 0:00:02\n",
      "     ------------------------------ --------- 9.9/13.0 MB 2.9 MB/s eta 0:00:02\n",
      "     ------------------------------- -------- 10.1/13.0 MB 2.9 MB/s eta 0:00:02\n",
      "     ------------------------------- -------- 10.2/13.0 MB 2.9 MB/s eta 0:00:01\n",
      "     ------------------------------- -------- 10.3/13.0 MB 3.0 MB/s eta 0:00:01\n",
      "     ------------------------------- -------- 10.3/13.0 MB 3.0 MB/s eta 0:00:01\n",
      "     -------------------------------- ------- 10.4/13.0 MB 3.1 MB/s eta 0:00:01\n",
      "     -------------------------------- ------- 10.5/13.0 MB 3.1 MB/s eta 0:00:01\n",
      "     -------------------------------- ------- 10.6/13.0 MB 3.2 MB/s eta 0:00:01\n",
      "     -------------------------------- ------- 10.7/13.0 MB 3.2 MB/s eta 0:00:01\n",
      "     --------------------------------- ------ 10.8/13.0 MB 3.2 MB/s eta 0:00:01\n",
      "     --------------------------------- ------ 10.9/13.0 MB 3.2 MB/s eta 0:00:01\n",
      "     --------------------------------- ------ 10.9/13.0 MB 3.1 MB/s eta 0:00:01\n",
      "     --------------------------------- ------ 11.0/13.0 MB 3.1 MB/s eta 0:00:01\n",
      "     ---------------------------------- ----- 11.1/13.0 MB 3.1 MB/s eta 0:00:01\n",
      "     ---------------------------------- ----- 11.1/13.0 MB 3.1 MB/s eta 0:00:01\n",
      "     ---------------------------------- ----- 11.3/13.0 MB 3.1 MB/s eta 0:00:01\n",
      "     ----------------------------------- ---- 11.4/13.0 MB 3.0 MB/s eta 0:00:01\n",
      "     ----------------------------------- ---- 11.5/13.0 MB 3.1 MB/s eta 0:00:01\n",
      "     ----------------------------------- ---- 11.6/13.0 MB 3.0 MB/s eta 0:00:01\n",
      "     ------------------------------------ --- 11.7/13.0 MB 3.0 MB/s eta 0:00:01\n",
      "     ------------------------------------ --- 11.8/13.0 MB 3.0 MB/s eta 0:00:01\n",
      "     ------------------------------------ --- 11.9/13.0 MB 2.9 MB/s eta 0:00:01\n",
      "     ------------------------------------ --- 12.0/13.0 MB 3.0 MB/s eta 0:00:01\n",
      "     ------------------------------------- -- 12.1/13.0 MB 2.9 MB/s eta 0:00:01\n",
      "     ------------------------------------- -- 12.2/13.0 MB 2.9 MB/s eta 0:00:01\n",
      "     ------------------------------------- -- 12.2/13.0 MB 2.9 MB/s eta 0:00:01\n",
      "     ------------------------------------- -- 12.3/13.0 MB 2.8 MB/s eta 0:00:01\n",
      "     -------------------------------------- - 12.4/13.0 MB 2.8 MB/s eta 0:00:01\n",
      "     -------------------------------------- - 12.5/13.0 MB 2.8 MB/s eta 0:00:01\n",
      "     -------------------------------------- - 12.6/13.0 MB 2.8 MB/s eta 0:00:01\n",
      "     ---------------------------------------  12.7/13.0 MB 2.7 MB/s eta 0:00:01\n",
      "     ---------------------------------------  12.8/13.0 MB 2.7 MB/s eta 0:00:01\n",
      "     ---------------------------------------  12.8/13.0 MB 2.7 MB/s eta 0:00:01\n",
      "     ---------------------------------------  12.9/13.0 MB 2.7 MB/s eta 0:00:01\n",
      "     ---------------------------------------  13.0/13.0 MB 2.7 MB/s eta 0:00:01\n",
      "     ---------------------------------------  13.0/13.0 MB 2.7 MB/s eta 0:00:01\n",
      "     ---------------------------------------- 13.0/13.0 MB 2.6 MB/s eta 0:00:00\n",
      "Requirement already satisfied: spacy<3.6.0,>=3.5.0 in c:\\users\\alsvi\\notebooks\\analise_sentimet_twitter_2023\\venv\\lib\\site-packages (from pt-core-news-sm==3.5.0) (3.5.0)\n",
      "Requirement already satisfied: setuptools in c:\\users\\alsvi\\notebooks\\analise_sentimet_twitter_2023\\venv\\lib\\site-packages (from spacy<3.6.0,>=3.5.0->pt-core-news-sm==3.5.0) (67.4.0)\n",
      "Requirement already satisfied: packaging>=20.0 in c:\\users\\alsvi\\notebooks\\analise_sentimet_twitter_2023\\venv\\lib\\site-packages (from spacy<3.6.0,>=3.5.0->pt-core-news-sm==3.5.0) (23.0)\n",
      "Requirement already satisfied: langcodes<4.0.0,>=3.2.0 in c:\\users\\alsvi\\notebooks\\analise_sentimet_twitter_2023\\venv\\lib\\site-packages (from spacy<3.6.0,>=3.5.0->pt-core-news-sm==3.5.0) (3.3.0)\n",
      "Requirement already satisfied: tqdm<5.0.0,>=4.38.0 in c:\\users\\alsvi\\notebooks\\analise_sentimet_twitter_2023\\venv\\lib\\site-packages (from spacy<3.6.0,>=3.5.0->pt-core-news-sm==3.5.0) (4.64.1)\n",
      "Requirement already satisfied: spacy-loggers<2.0.0,>=1.0.0 in c:\\users\\alsvi\\notebooks\\analise_sentimet_twitter_2023\\venv\\lib\\site-packages (from spacy<3.6.0,>=3.5.0->pt-core-news-sm==3.5.0) (1.0.4)\n",
      "Requirement already satisfied: preshed<3.1.0,>=3.0.2 in c:\\users\\alsvi\\notebooks\\analise_sentimet_twitter_2023\\venv\\lib\\site-packages (from spacy<3.6.0,>=3.5.0->pt-core-news-sm==3.5.0) (3.0.8)\n",
      "Requirement already satisfied: numpy>=1.15.0 in c:\\users\\alsvi\\notebooks\\analise_sentimet_twitter_2023\\venv\\lib\\site-packages (from spacy<3.6.0,>=3.5.0->pt-core-news-sm==3.5.0) (1.24.1)\n",
      "Requirement already satisfied: pydantic!=1.8,!=1.8.1,<1.11.0,>=1.7.4 in c:\\users\\alsvi\\notebooks\\analise_sentimet_twitter_2023\\venv\\lib\\site-packages (from spacy<3.6.0,>=3.5.0->pt-core-news-sm==3.5.0) (1.10.4)\n",
      "Requirement already satisfied: catalogue<2.1.0,>=2.0.6 in c:\\users\\alsvi\\notebooks\\analise_sentimet_twitter_2023\\venv\\lib\\site-packages (from spacy<3.6.0,>=3.5.0->pt-core-news-sm==3.5.0) (2.0.8)\n",
      "Requirement already satisfied: srsly<3.0.0,>=2.4.3 in c:\\users\\alsvi\\notebooks\\analise_sentimet_twitter_2023\\venv\\lib\\site-packages (from spacy<3.6.0,>=3.5.0->pt-core-news-sm==3.5.0) (2.4.5)\n",
      "Requirement already satisfied: requests<3.0.0,>=2.13.0 in c:\\users\\alsvi\\notebooks\\analise_sentimet_twitter_2023\\venv\\lib\\site-packages (from spacy<3.6.0,>=3.5.0->pt-core-news-sm==3.5.0) (2.28.2)\n",
      "Requirement already satisfied: spacy-legacy<3.1.0,>=3.0.11 in c:\\users\\alsvi\\notebooks\\analise_sentimet_twitter_2023\\venv\\lib\\site-packages (from spacy<3.6.0,>=3.5.0->pt-core-news-sm==3.5.0) (3.0.12)\n",
      "Requirement already satisfied: smart-open<7.0.0,>=5.2.1 in c:\\users\\alsvi\\notebooks\\analise_sentimet_twitter_2023\\venv\\lib\\site-packages (from spacy<3.6.0,>=3.5.0->pt-core-news-sm==3.5.0) (6.3.0)\n",
      "Requirement already satisfied: pathy>=0.10.0 in c:\\users\\alsvi\\notebooks\\analise_sentimet_twitter_2023\\venv\\lib\\site-packages (from spacy<3.6.0,>=3.5.0->pt-core-news-sm==3.5.0) (0.10.1)\n",
      "Requirement already satisfied: typer<0.8.0,>=0.3.0 in c:\\users\\alsvi\\notebooks\\analise_sentimet_twitter_2023\\venv\\lib\\site-packages (from spacy<3.6.0,>=3.5.0->pt-core-news-sm==3.5.0) (0.7.0)\n",
      "Requirement already satisfied: cymem<2.1.0,>=2.0.2 in c:\\users\\alsvi\\notebooks\\analise_sentimet_twitter_2023\\venv\\lib\\site-packages (from spacy<3.6.0,>=3.5.0->pt-core-news-sm==3.5.0) (2.0.7)\n",
      "Requirement already satisfied: murmurhash<1.1.0,>=0.28.0 in c:\\users\\alsvi\\notebooks\\analise_sentimet_twitter_2023\\venv\\lib\\site-packages (from spacy<3.6.0,>=3.5.0->pt-core-news-sm==3.5.0) (1.0.9)\n",
      "Requirement already satisfied: jinja2 in c:\\users\\alsvi\\notebooks\\analise_sentimet_twitter_2023\\venv\\lib\\site-packages (from spacy<3.6.0,>=3.5.0->pt-core-news-sm==3.5.0) (3.1.2)\n",
      "Requirement already satisfied: thinc<8.2.0,>=8.1.0 in c:\\users\\alsvi\\notebooks\\analise_sentimet_twitter_2023\\venv\\lib\\site-packages (from spacy<3.6.0,>=3.5.0->pt-core-news-sm==3.5.0) (8.1.7)\n",
      "Requirement already satisfied: wasabi<1.2.0,>=0.9.1 in c:\\users\\alsvi\\notebooks\\analise_sentimet_twitter_2023\\venv\\lib\\site-packages (from spacy<3.6.0,>=3.5.0->pt-core-news-sm==3.5.0) (1.1.1)\n",
      "Requirement already satisfied: typing-extensions>=4.2.0 in c:\\users\\alsvi\\notebooks\\analise_sentimet_twitter_2023\\venv\\lib\\site-packages (from pydantic!=1.8,!=1.8.1,<1.11.0,>=1.7.4->spacy<3.6.0,>=3.5.0->pt-core-news-sm==3.5.0) (4.4.0)\n",
      "Requirement already satisfied: charset-normalizer<4,>=2 in c:\\users\\alsvi\\notebooks\\analise_sentimet_twitter_2023\\venv\\lib\\site-packages (from requests<3.0.0,>=2.13.0->spacy<3.6.0,>=3.5.0->pt-core-news-sm==3.5.0) (3.0.1)\n",
      "Requirement already satisfied: urllib3<1.27,>=1.21.1 in c:\\users\\alsvi\\notebooks\\analise_sentimet_twitter_2023\\venv\\lib\\site-packages (from requests<3.0.0,>=2.13.0->spacy<3.6.0,>=3.5.0->pt-core-news-sm==3.5.0) (1.26.14)\n",
      "Requirement already satisfied: idna<4,>=2.5 in c:\\users\\alsvi\\notebooks\\analise_sentimet_twitter_2023\\venv\\lib\\site-packages (from requests<3.0.0,>=2.13.0->spacy<3.6.0,>=3.5.0->pt-core-news-sm==3.5.0) (3.4)\n",
      "Requirement already satisfied: certifi>=2017.4.17 in c:\\users\\alsvi\\notebooks\\analise_sentimet_twitter_2023\\venv\\lib\\site-packages (from requests<3.0.0,>=2.13.0->spacy<3.6.0,>=3.5.0->pt-core-news-sm==3.5.0) (2022.12.7)\n",
      "Requirement already satisfied: confection<1.0.0,>=0.0.1 in c:\\users\\alsvi\\notebooks\\analise_sentimet_twitter_2023\\venv\\lib\\site-packages (from thinc<8.2.0,>=8.1.0->spacy<3.6.0,>=3.5.0->pt-core-news-sm==3.5.0) (0.0.4)\n",
      "Requirement already satisfied: blis<0.8.0,>=0.7.8 in c:\\users\\alsvi\\notebooks\\analise_sentimet_twitter_2023\\venv\\lib\\site-packages (from thinc<8.2.0,>=8.1.0->spacy<3.6.0,>=3.5.0->pt-core-news-sm==3.5.0) (0.7.9)\n",
      "Requirement already satisfied: colorama in c:\\users\\alsvi\\notebooks\\analise_sentimet_twitter_2023\\venv\\lib\\site-packages (from tqdm<5.0.0,>=4.38.0->spacy<3.6.0,>=3.5.0->pt-core-news-sm==3.5.0) (0.4.6)\n",
      "Requirement already satisfied: click<9.0.0,>=7.1.1 in c:\\users\\alsvi\\notebooks\\analise_sentimet_twitter_2023\\venv\\lib\\site-packages (from typer<0.8.0,>=0.3.0->spacy<3.6.0,>=3.5.0->pt-core-news-sm==3.5.0) (8.1.3)\n",
      "Requirement already satisfied: MarkupSafe>=2.0 in c:\\users\\alsvi\\notebooks\\analise_sentimet_twitter_2023\\venv\\lib\\site-packages (from jinja2->spacy<3.6.0,>=3.5.0->pt-core-news-sm==3.5.0) (2.1.2)\n",
      "\u001b[38;5;2m✔ Download and installation successful\u001b[0m\n",
      "You can now load the package via spacy.load('pt_core_news_sm')\n"
     ]
    }
   ],
   "source": [
    "%pip install -U pip setuptools wheel\n",
    "%pip install -U spacy\n",
    "!python -m spacy download pt_core_news_sm"
   ]
  },
  {
   "cell_type": "code",
   "execution_count": 40,
   "metadata": {},
   "outputs": [],
   "source": [
    "import spacy\n",
    "nlp = spacy.load('pt_core_news_sm')"
   ]
  },
  {
   "cell_type": "code",
   "execution_count": 41,
   "metadata": {},
   "outputs": [
    {
     "name": "stderr",
     "output_type": "stream",
     "text": [
      "C:\\Users\\alsvi\\AppData\\Local\\Temp\\ipykernel_19844\\1740279429.py:1: SettingWithCopyWarning: \n",
      "A value is trying to be set on a copy of a slice from a DataFrame.\n",
      "Try using .loc[row_indexer,col_indexer] = value instead\n",
      "\n",
      "See the caveats in the documentation: https://pandas.pydata.org/pandas-docs/stable/user_guide/indexing.html#returning-a-view-versus-a-copy\n",
      "  tweet_df['text_lemma'] = tweet_df['text_clean'].apply(lambda row: \" \".join([w.lemma_ for w in nlp(row)]))\n",
      "C:\\Users\\alsvi\\AppData\\Local\\Temp\\ipykernel_19844\\1740279429.py:2: SettingWithCopyWarning: \n",
      "A value is trying to be set on a copy of a slice from a DataFrame.\n",
      "Try using .loc[row_indexer,col_indexer] = value instead\n",
      "\n",
      "See the caveats in the documentation: https://pandas.pydata.org/pandas-docs/stable/user_guide/indexing.html#returning-a-view-versus-a-copy\n",
      "  tweet_df['text_lemma'] = tweet_df['text_lemma'].apply(remove_caracteres)\n"
     ]
    },
    {
     "data": {
      "text/html": [
       "<div>\n",
       "<style scoped>\n",
       "    .dataframe tbody tr th:only-of-type {\n",
       "        vertical-align: middle;\n",
       "    }\n",
       "\n",
       "    .dataframe tbody tr th {\n",
       "        vertical-align: top;\n",
       "    }\n",
       "\n",
       "    .dataframe thead th {\n",
       "        text-align: right;\n",
       "    }\n",
       "</style>\n",
       "<table border=\"1\" class=\"dataframe\">\n",
       "  <thead>\n",
       "    <tr style=\"text-align: right;\">\n",
       "      <th></th>\n",
       "      <th>text</th>\n",
       "      <th>sentiment</th>\n",
       "      <th>text_clean</th>\n",
       "      <th>text_lemma</th>\n",
       "    </tr>\n",
       "  </thead>\n",
       "  <tbody>\n",
       "    <tr>\n",
       "      <th>0</th>\n",
       "      <td>Como atuam\\n#MoonlightChickenEP5 \\n#HEARTLIMING https://t.co/Tbp1Gdy7ll</td>\n",
       "      <td>1</td>\n",
       "      <td>atuam moonlightchickenep heartliming</td>\n",
       "      <td>atuar moonlightchickenep heartliming</td>\n",
       "    </tr>\n",
       "    <tr>\n",
       "      <th>1</th>\n",
       "      <td>Eles me fazem acreditar que, relacionamento entre amigos, não funciona, mais cedo ou mais tarde, vai desmoronar 😭.… https://t.co/P0Cjt7iTyU</td>\n",
       "      <td>2</td>\n",
       "      <td>fazem acreditar relacionamento amigos funciona cedo tarde vai desmoronar</td>\n",
       "      <td>fazer acreditar relacionamento amigo funcionar cedo tarde ir desmoronar</td>\n",
       "    </tr>\n",
       "    <tr>\n",
       "      <th>2</th>\n",
       "      <td>pq eu sinto q isso aqui vai dar muito briga?????? #MoonlightChickenEP5 https://t.co/WHzEhLJK62</td>\n",
       "      <td>1</td>\n",
       "      <td>pq sinto q aqui vai dar briga moonlightchickenep</td>\n",
       "      <td>pq sinto q aqui ir dar briga moonlightchickeneurpr</td>\n",
       "    </tr>\n",
       "    <tr>\n",
       "      <th>3</th>\n",
       "      <td>O nome salvo dos dois nos Contatos. Fofos.🤏🏽\\n#MoonlightChickenEP5 https://t.co/u85vXyh2nM</td>\n",
       "      <td>1</td>\n",
       "      <td>nome salvo dois contatos fofos moonlightchickenep</td>\n",
       "      <td>nome salvo dois contato fofo moonlightchickenep</td>\n",
       "    </tr>\n",
       "    <tr>\n",
       "      <th>4</th>\n",
       "      <td>\"Os peixes grandes sempre comem os peixes pequenos\"\\n\"O importante e ele ter dinheiro, pq quem tem dinheiro sempre v… https://t.co/oGCAXGEqJ0</td>\n",
       "      <td>2</td>\n",
       "      <td>peixes grandes sempre comem peixes pequenos importante ter dinheiro pq dinheiro sempre v</td>\n",
       "      <td>peixe grande sempre comer peixe pequeno importante ter dinheiro pq dinheiro sempre v</td>\n",
       "    </tr>\n",
       "  </tbody>\n",
       "</table>\n",
       "</div>"
      ],
      "text/plain": [
       "                                                                                                                                            text  \\\n",
       "0                                                                        Como atuam\\n#MoonlightChickenEP5 \\n#HEARTLIMING https://t.co/Tbp1Gdy7ll   \n",
       "1    Eles me fazem acreditar que, relacionamento entre amigos, não funciona, mais cedo ou mais tarde, vai desmoronar 😭.… https://t.co/P0Cjt7iTyU   \n",
       "2                                                 pq eu sinto q isso aqui vai dar muito briga?????? #MoonlightChickenEP5 https://t.co/WHzEhLJK62   \n",
       "3                                                     O nome salvo dos dois nos Contatos. Fofos.🤏🏽\\n#MoonlightChickenEP5 https://t.co/u85vXyh2nM   \n",
       "4  \"Os peixes grandes sempre comem os peixes pequenos\"\\n\"O importante e ele ter dinheiro, pq quem tem dinheiro sempre v… https://t.co/oGCAXGEqJ0   \n",
       "\n",
       "   sentiment  \\\n",
       "0          1   \n",
       "1          2   \n",
       "2          1   \n",
       "3          1   \n",
       "4          2   \n",
       "\n",
       "                                                                                 text_clean  \\\n",
       "0                                                      atuam moonlightchickenep heartliming   \n",
       "1                  fazem acreditar relacionamento amigos funciona cedo tarde vai desmoronar   \n",
       "2                                          pq sinto q aqui vai dar briga moonlightchickenep   \n",
       "3                                         nome salvo dois contatos fofos moonlightchickenep   \n",
       "4  peixes grandes sempre comem peixes pequenos importante ter dinheiro pq dinheiro sempre v   \n",
       "\n",
       "                                                                             text_lemma  \n",
       "0                                                  atuar moonlightchickenep heartliming  \n",
       "1               fazer acreditar relacionamento amigo funcionar cedo tarde ir desmoronar  \n",
       "2                                    pq sinto q aqui ir dar briga moonlightchickeneurpr  \n",
       "3                                       nome salvo dois contato fofo moonlightchickenep  \n",
       "4  peixe grande sempre comer peixe pequeno importante ter dinheiro pq dinheiro sempre v  "
      ]
     },
     "execution_count": 41,
     "metadata": {},
     "output_type": "execute_result"
    }
   ],
   "source": [
    "tweet_df['text_lemma'] = tweet_df['text_clean'].apply(lambda row: \" \".join([w.lemma_ for w in nlp(row)]))\n",
    "tweet_df['text_lemma'] = tweet_df['text_lemma'].apply(remove_caracteres)\n",
    "tweet_df.head()"
   ]
  },
  {
   "attachments": {},
   "cell_type": "markdown",
   "metadata": {},
   "source": [
    "# Machine Learning - Utils"
   ]
  },
  {
   "cell_type": "code",
   "execution_count": 42,
   "metadata": {},
   "outputs": [
    {
     "name": "stdout",
     "output_type": "stream",
     "text": [
      "Requirement already satisfied: scikit-learn in c:\\users\\alsvi\\notebooks\\analise_sentimet_twitter_2023\\venv\\lib\\site-packages (1.2.1)\n",
      "Requirement already satisfied: numpy>=1.17.3 in c:\\users\\alsvi\\notebooks\\analise_sentimet_twitter_2023\\venv\\lib\\site-packages (from scikit-learn) (1.24.1)\n",
      "Requirement already satisfied: joblib>=1.1.1 in c:\\users\\alsvi\\notebooks\\analise_sentimet_twitter_2023\\venv\\lib\\site-packages (from scikit-learn) (1.2.0)\n",
      "Requirement already satisfied: scipy>=1.3.2 in c:\\users\\alsvi\\notebooks\\analise_sentimet_twitter_2023\\venv\\lib\\site-packages (from scikit-learn) (1.10.0)\n",
      "Requirement already satisfied: threadpoolctl>=2.0.0 in c:\\users\\alsvi\\notebooks\\analise_sentimet_twitter_2023\\venv\\lib\\site-packages (from scikit-learn) (3.1.0)\n",
      "Note: you may need to restart the kernel to use updated packages.\n"
     ]
    }
   ],
   "source": [
    "%pip install scikit-learn"
   ]
  },
  {
   "cell_type": "code",
   "execution_count": 43,
   "metadata": {},
   "outputs": [],
   "source": [
    "from sklearn.model_selection import train_test_split\n",
    "from sklearn.pipeline import Pipeline\n",
    "\n",
    "# Vetorizadores\n",
    "from sklearn.feature_extraction.text import CountVectorizer\n",
    "from sklearn.feature_extraction.text import TfidfVectorizer\n",
    "\n",
    "# Classificadores\n",
    "from sklearn.linear_model import LogisticRegression\n",
    "from sklearn.linear_model import PassiveAggressiveClassifier\n",
    "from sklearn.ensemble import RandomForestClassifier\n",
    "from sklearn.linear_model import SGDClassifier\n",
    "from sklearn.svm import SVC\n",
    "\n",
    "# Avaliador\n",
    "from sklearn.model_selection import cross_val_predict"
   ]
  },
  {
   "cell_type": "code",
   "execution_count": 44,
   "metadata": {},
   "outputs": [],
   "source": [
    "# Tokenização especial para tweets\n",
    "from nltk.tokenize import TweetTokenizer\n",
    "\n",
    "tweet_tokenizer = TweetTokenizer()"
   ]
  },
  {
   "cell_type": "code",
   "execution_count": 45,
   "metadata": {},
   "outputs": [],
   "source": [
    "def escolher_pipeline(pipe):\n",
    "    ''' Função para escolher os pipelines dos modelos a serem treinados '''\n",
    "    \n",
    "    if(pipe == 1):\n",
    "        modelo1 = Pipeline([\n",
    "            ('countVectorizer', CountVectorizer(analyzer='word', tokenizer=tweet_tokenizer.tokenize)),\n",
    "            ('modelo', LogisticRegression(solver='liblinear'))\n",
    "        ])\n",
    "        return modelo1\n",
    "    \n",
    "    elif(pipe == 2):\n",
    "        modelo2 = Pipeline([\n",
    "            ('tfidfVectorizer', TfidfVectorizer(analyzer='word', tokenizer=tweet_tokenizer.tokenize)),\n",
    "            ('modelo', LogisticRegression(solver='liblinear'))\n",
    "        ])\n",
    "        return modelo2\n",
    "    \n",
    "    elif(pipe == 3):\n",
    "        modelo3 = Pipeline([\n",
    "            ('countVectorizer', CountVectorizer(analyzer='word', tokenizer=tweet_tokenizer.tokenize)),\n",
    "            ('modelo', PassiveAggressiveClassifier())\n",
    "        ])\n",
    "        return modelo3\n",
    "    \n",
    "    elif(pipe == 4):\n",
    "        modelo4 = Pipeline([\n",
    "            ('tfidfVectorizer', TfidfVectorizer(analyzer='word', tokenizer=tweet_tokenizer.tokenize)),\n",
    "            ('modelo', PassiveAggressiveClassifier())\n",
    "        ])\n",
    "        return modelo4\n",
    "    \n",
    "    elif(pipe == 5):\n",
    "        modelo5 = Pipeline([\n",
    "            ('countVectorizer', CountVectorizer(analyzer='word', tokenizer=tweet_tokenizer.tokenize)),\n",
    "            ('modelo', RandomForestClassifier())\n",
    "        ])\n",
    "        return modelo5\n",
    "    \n",
    "    elif(pipe == 6):\n",
    "        modelo6 = Pipeline([\n",
    "            ('tfidfVectorizer', TfidfVectorizer(analyzer='word', tokenizer=tweet_tokenizer.tokenize)),\n",
    "            ('modelo', RandomForestClassifier())\n",
    "        ])\n",
    "        return modelo6\n",
    "    \n",
    "    elif(pipe == 7):\n",
    "        modelo7 = Pipeline([\n",
    "            ('countVectorizer', CountVectorizer(analyzer='word', tokenizer=tweet_tokenizer.tokenize)),\n",
    "            ('modelo', SGDClassifier(max_iter=1000))\n",
    "        ])\n",
    "        return modelo7\n",
    "    \n",
    "    elif(pipe == 8):\n",
    "        modelo8 = Pipeline([\n",
    "            ('tfidfVectorizer', TfidfVectorizer(analyzer='word', tokenizer=tweet_tokenizer.tokenize)),\n",
    "            ('modelo', SGDClassifier(max_iter=1000))\n",
    "        ])\n",
    "        return modelo8\n",
    "    \n",
    "    elif(pipe == 9):\n",
    "        modelo9 = Pipeline([\n",
    "            ('countVectorizer', CountVectorizer(analyzer='word', tokenizer=tweet_tokenizer.tokenize)),\n",
    "            ('modelo', SVC())\n",
    "        ])\n",
    "        return modelo9\n",
    "    \n",
    "    elif(pipe == 10):\n",
    "        modelo10 = Pipeline([\n",
    "            ('tfidfVectorizer', TfidfVectorizer(analyzer='word', tokenizer=tweet_tokenizer.tokenize)),\n",
    "            ('modelo', SVC())\n",
    "        ])\n",
    "        return modelo10"
   ]
  },
  {
   "cell_type": "code",
   "execution_count": 46,
   "metadata": {},
   "outputs": [
    {
     "name": "stdout",
     "output_type": "stream",
     "text": [
      "Requirement already satisfied: mlxtend in c:\\users\\alsvi\\notebooks\\analise_sentimet_twitter_2023\\venv\\lib\\site-packages (0.21.0)\n",
      "Requirement already satisfied: numpy>=1.16.2 in c:\\users\\alsvi\\notebooks\\analise_sentimet_twitter_2023\\venv\\lib\\site-packages (from mlxtend) (1.24.1)\n",
      "Requirement already satisfied: scikit-learn>=1.0.2 in c:\\users\\alsvi\\notebooks\\analise_sentimet_twitter_2023\\venv\\lib\\site-packages (from mlxtend) (1.2.1)\n",
      "Requirement already satisfied: pandas>=0.24.2 in c:\\users\\alsvi\\notebooks\\analise_sentimet_twitter_2023\\venv\\lib\\site-packages (from mlxtend) (1.5.3)\n",
      "Requirement already satisfied: setuptools in c:\\users\\alsvi\\notebooks\\analise_sentimet_twitter_2023\\venv\\lib\\site-packages (from mlxtend) (67.4.0)\n",
      "Requirement already satisfied: scipy>=1.2.1 in c:\\users\\alsvi\\notebooks\\analise_sentimet_twitter_2023\\venv\\lib\\site-packages (from mlxtend) (1.10.0)\n",
      "Requirement already satisfied: joblib>=0.13.2 in c:\\users\\alsvi\\notebooks\\analise_sentimet_twitter_2023\\venv\\lib\\site-packages (from mlxtend) (1.2.0)\n",
      "Requirement already satisfied: matplotlib>=3.0.0 in c:\\users\\alsvi\\notebooks\\analise_sentimet_twitter_2023\\venv\\lib\\site-packages (from mlxtend) (3.6.3)\n",
      "Requirement already satisfied: fonttools>=4.22.0 in c:\\users\\alsvi\\notebooks\\analise_sentimet_twitter_2023\\venv\\lib\\site-packages (from matplotlib>=3.0.0->mlxtend) (4.38.0)\n",
      "Requirement already satisfied: kiwisolver>=1.0.1 in c:\\users\\alsvi\\notebooks\\analise_sentimet_twitter_2023\\venv\\lib\\site-packages (from matplotlib>=3.0.0->mlxtend) (1.4.4)\n",
      "Requirement already satisfied: packaging>=20.0 in c:\\users\\alsvi\\notebooks\\analise_sentimet_twitter_2023\\venv\\lib\\site-packages (from matplotlib>=3.0.0->mlxtend) (23.0)\n",
      "Requirement already satisfied: pillow>=6.2.0 in c:\\users\\alsvi\\notebooks\\analise_sentimet_twitter_2023\\venv\\lib\\site-packages (from matplotlib>=3.0.0->mlxtend) (9.4.0)\n",
      "Requirement already satisfied: pyparsing>=2.2.1 in c:\\users\\alsvi\\notebooks\\analise_sentimet_twitter_2023\\venv\\lib\\site-packages (from matplotlib>=3.0.0->mlxtend) (3.0.9)\n",
      "Requirement already satisfied: cycler>=0.10 in c:\\users\\alsvi\\notebooks\\analise_sentimet_twitter_2023\\venv\\lib\\site-packages (from matplotlib>=3.0.0->mlxtend) (0.11.0)\n",
      "Requirement already satisfied: contourpy>=1.0.1 in c:\\users\\alsvi\\notebooks\\analise_sentimet_twitter_2023\\venv\\lib\\site-packages (from matplotlib>=3.0.0->mlxtend) (1.0.7)\n",
      "Requirement already satisfied: python-dateutil>=2.7 in c:\\users\\alsvi\\notebooks\\analise_sentimet_twitter_2023\\venv\\lib\\site-packages (from matplotlib>=3.0.0->mlxtend) (2.8.2)\n",
      "Requirement already satisfied: pytz>=2020.1 in c:\\users\\alsvi\\notebooks\\analise_sentimet_twitter_2023\\venv\\lib\\site-packages (from pandas>=0.24.2->mlxtend) (2022.7.1)\n",
      "Requirement already satisfied: threadpoolctl>=2.0.0 in c:\\users\\alsvi\\notebooks\\analise_sentimet_twitter_2023\\venv\\lib\\site-packages (from scikit-learn>=1.0.2->mlxtend) (3.1.0)\n",
      "Requirement already satisfied: six>=1.5 in c:\\users\\alsvi\\notebooks\\analise_sentimet_twitter_2023\\venv\\lib\\site-packages (from python-dateutil>=2.7->matplotlib>=3.0.0->mlxtend) (1.16.0)\n",
      "Note: you may need to restart the kernel to use updated packages.\n"
     ]
    }
   ],
   "source": [
    "%pip install mlxtend"
   ]
  },
  {
   "cell_type": "code",
   "execution_count": 47,
   "metadata": {},
   "outputs": [],
   "source": [
    "from sklearn import metrics\n",
    "from sklearn.metrics import precision_score, recall_score, f1_score, accuracy_score\n",
    "from mlxtend.evaluate import confusion_matrix\n",
    "from mlxtend.plotting import plot_confusion_matrix\n",
    "\n",
    "def matriz_confusao(y_test, modelo_predicao):\n",
    "    ''' Função que exibe a matrix de confusão para avalização do modelo '''\n",
    "    \n",
    "    # imprimir relatório de classificação\n",
    "    print(\"Relatório de Classificação:\\n\", \n",
    "            metrics.classification_report(y_test, modelo_predicao))\n",
    "    \n",
    "    # imprimir a acurácia do modelo\n",
    "    print(\"Acurácia: {:.4f}\\n\".format(accuracy_score(y_test, modelo_predicao)))\n",
    "    \n",
    "    # imprimir a matrix de confusão\n",
    "    print(\"Matrix de confusão:\\n\", pd.crosstab(y_test, modelo_predicao, \n",
    "                                                rownames=['Real'], \n",
    "                                                colnames=['Predito'], \n",
    "                                                margins=True),  '')\n",
    "    \n",
    "    # plotar a matrix de confusão\n",
    "    cm = confusion_matrix(y_target = y_test, \n",
    "                            y_predicted = modelo_predicao, binary=False)\n",
    "    fig, ax = plot_confusion_matrix(conf_mat = cm)\n",
    "    plt.show()\n",
    "    print('\\n')"
   ]
  },
  {
   "attachments": {},
   "cell_type": "markdown",
   "metadata": {},
   "source": [
    "# Machine Learning - Construindo modelo"
   ]
  },
  {
   "cell_type": "code",
   "execution_count": 48,
   "metadata": {},
   "outputs": [
    {
     "data": {
      "text/plain": [
       "((17376,), (17376,))"
      ]
     },
     "execution_count": 48,
     "metadata": {},
     "output_type": "execute_result"
    }
   ],
   "source": [
    "X = tweet_df['text_lemma']\n",
    "y = tweet_df['sentiment']\n",
    "\n",
    "X.shape, y.shape"
   ]
  },
  {
   "cell_type": "code",
   "execution_count": 49,
   "metadata": {},
   "outputs": [
    {
     "data": {
      "text/plain": [
       "((13032,), (13032,), (4344,), (4344,))"
      ]
     },
     "execution_count": 49,
     "metadata": {},
     "output_type": "execute_result"
    }
   ],
   "source": [
    "#separando os dados em treino e teste\n",
    "X_train, X_test, y_train, y_test = train_test_split(X, y, test_size=0.25, random_state=123)\n",
    "X_train.shape, y_train.shape, X_test.shape, y_test.shape"
   ]
  },
  {
   "attachments": {},
   "cell_type": "markdown",
   "metadata": {},
   "source": [
    "## Modelos"
   ]
  },
  {
   "cell_type": "code",
   "execution_count": 50,
   "metadata": {},
   "outputs": [
    {
     "name": "stderr",
     "output_type": "stream",
     "text": [
      "c:\\Users\\alsvi\\notebooks\\analise_sentimet_twitter_2023\\venv\\lib\\site-packages\\sklearn\\feature_extraction\\text.py:528: UserWarning: The parameter 'token_pattern' will not be used since 'tokenizer' is not None'\n",
      "  warnings.warn(\n"
     ]
    },
    {
     "name": "stdout",
     "output_type": "stream",
     "text": [
      "************************************************************************************************************************************\n",
      "Modelo: Pipeline(steps=[('countVectorizer',\n",
      "                 CountVectorizer(tokenizer=<bound method TweetTokenizer.tokenize of <nltk.tokenize.casual.TweetTokenizer object at 0x0000026AC7C1B640>>)),\n",
      "                ('modelo', LogisticRegression(solver='liblinear'))])\n",
      "\n",
      "AVALIANDO O MODELO\n",
      "\n",
      "Relatório de Classificação:\n",
      "               precision    recall  f1-score   support\n",
      "\n",
      "           0       0.78      0.71      0.75      1475\n",
      "           1       0.72      0.85      0.78      1632\n",
      "           2       0.85      0.75      0.80      1237\n",
      "\n",
      "    accuracy                           0.78      4344\n",
      "   macro avg       0.79      0.77      0.78      4344\n",
      "weighted avg       0.78      0.78      0.77      4344\n",
      "\n",
      "Acurácia: 0.7753\n",
      "\n",
      "Matrix de confusão:\n",
      " Predito     0     1     2   All\n",
      "Real                           \n",
      "0        1047   331    97  1475\n",
      "1         178  1390    64  1632\n",
      "2         109   197   931  1237\n",
      "All      1334  1918  1092  4344 \n"
     ]
    },
    {
     "data": {
      "image/png": "[encoded data removed]",
      "text/plain": [
       "<Figure size 640x480 with 1 Axes>"
      ]
     },
     "metadata": {},
     "output_type": "display_data"
    },
    {
     "name": "stdout",
     "output_type": "stream",
     "text": [
      "\n",
      "\n",
      "\n",
      "VALIDAÇÃO CRUZADA\n",
      "\n"
     ]
    },
    {
     "name": "stderr",
     "output_type": "stream",
     "text": [
      "c:\\Users\\alsvi\\notebooks\\analise_sentimet_twitter_2023\\venv\\lib\\site-packages\\sklearn\\feature_extraction\\text.py:528: UserWarning: The parameter 'token_pattern' will not be used since 'tokenizer' is not None'\n",
      "  warnings.warn(\n",
      "c:\\Users\\alsvi\\notebooks\\analise_sentimet_twitter_2023\\venv\\lib\\site-packages\\sklearn\\feature_extraction\\text.py:528: UserWarning: The parameter 'token_pattern' will not be used since 'tokenizer' is not None'\n",
      "  warnings.warn(\n",
      "c:\\Users\\alsvi\\notebooks\\analise_sentimet_twitter_2023\\venv\\lib\\site-packages\\sklearn\\feature_extraction\\text.py:528: UserWarning: The parameter 'token_pattern' will not be used since 'tokenizer' is not None'\n",
      "  warnings.warn(\n",
      "c:\\Users\\alsvi\\notebooks\\analise_sentimet_twitter_2023\\venv\\lib\\site-packages\\sklearn\\feature_extraction\\text.py:528: UserWarning: The parameter 'token_pattern' will not be used since 'tokenizer' is not None'\n",
      "  warnings.warn(\n",
      "c:\\Users\\alsvi\\notebooks\\analise_sentimet_twitter_2023\\venv\\lib\\site-packages\\sklearn\\feature_extraction\\text.py:528: UserWarning: The parameter 'token_pattern' will not be used since 'tokenizer' is not None'\n",
      "  warnings.warn(\n",
      "c:\\Users\\alsvi\\notebooks\\analise_sentimet_twitter_2023\\venv\\lib\\site-packages\\sklearn\\feature_extraction\\text.py:528: UserWarning: The parameter 'token_pattern' will not be used since 'tokenizer' is not None'\n",
      "  warnings.warn(\n",
      "c:\\Users\\alsvi\\notebooks\\analise_sentimet_twitter_2023\\venv\\lib\\site-packages\\sklearn\\feature_extraction\\text.py:528: UserWarning: The parameter 'token_pattern' will not be used since 'tokenizer' is not None'\n",
      "  warnings.warn(\n",
      "c:\\Users\\alsvi\\notebooks\\analise_sentimet_twitter_2023\\venv\\lib\\site-packages\\sklearn\\feature_extraction\\text.py:528: UserWarning: The parameter 'token_pattern' will not be used since 'tokenizer' is not None'\n",
      "  warnings.warn(\n",
      "c:\\Users\\alsvi\\notebooks\\analise_sentimet_twitter_2023\\venv\\lib\\site-packages\\sklearn\\feature_extraction\\text.py:528: UserWarning: The parameter 'token_pattern' will not be used since 'tokenizer' is not None'\n",
      "  warnings.warn(\n",
      "c:\\Users\\alsvi\\notebooks\\analise_sentimet_twitter_2023\\venv\\lib\\site-packages\\sklearn\\feature_extraction\\text.py:528: UserWarning: The parameter 'token_pattern' will not be used since 'tokenizer' is not None'\n",
      "  warnings.warn(\n"
     ]
    },
    {
     "name": "stdout",
     "output_type": "stream",
     "text": [
      "Relatório de Classificação:\n",
      "               precision    recall  f1-score   support\n",
      "\n",
      "           0       0.77      0.68      0.72      6029\n",
      "           1       0.70      0.84      0.76      6435\n",
      "           2       0.81      0.72      0.76      4912\n",
      "\n",
      "    accuracy                           0.75     17376\n",
      "   macro avg       0.76      0.75      0.75     17376\n",
      "weighted avg       0.76      0.75      0.75     17376\n",
      "\n",
      "Acurácia: 0.7492\n",
      "\n",
      "Matrix de confusão:\n",
      " Predito     0     1     2    All\n",
      "Real                            \n",
      "0        4075  1457   497   6029\n",
      "1         720  5399   316   6435\n",
      "2         499   869  3544   4912\n",
      "All      5294  7725  4357  17376 \n"
     ]
    },
    {
     "data": {
      "image/png": "[encoded data removed]",
      "text/plain": [
       "<Figure size 640x480 with 1 Axes>"
      ]
     },
     "metadata": {},
     "output_type": "display_data"
    },
    {
     "name": "stdout",
     "output_type": "stream",
     "text": [
      "\n",
      "\n"
     ]
    },
    {
     "name": "stderr",
     "output_type": "stream",
     "text": [
      "c:\\Users\\alsvi\\notebooks\\analise_sentimet_twitter_2023\\venv\\lib\\site-packages\\sklearn\\feature_extraction\\text.py:528: UserWarning: The parameter 'token_pattern' will not be used since 'tokenizer' is not None'\n",
      "  warnings.warn(\n"
     ]
    },
    {
     "name": "stdout",
     "output_type": "stream",
     "text": [
      "************************************************************************************************************************************\n",
      "Modelo: Pipeline(steps=[('tfidfVectorizer',\n",
      "                 TfidfVectorizer(tokenizer=<bound method TweetTokenizer.tokenize of <nltk.tokenize.casual.TweetTokenizer object at 0x0000026AC7C1B640>>)),\n",
      "                ('modelo', LogisticRegression(solver='liblinear'))])\n",
      "\n",
      "AVALIANDO O MODELO\n",
      "\n",
      "Relatório de Classificação:\n",
      "               precision    recall  f1-score   support\n",
      "\n",
      "           0       0.72      0.72      0.72      1475\n",
      "           1       0.70      0.82      0.76      1632\n",
      "           2       0.85      0.68      0.76      1237\n",
      "\n",
      "    accuracy                           0.74      4344\n",
      "   macro avg       0.76      0.74      0.74      4344\n",
      "weighted avg       0.75      0.74      0.74      4344\n",
      "\n",
      "Acurácia: 0.7440\n",
      "\n",
      "Matrix de confusão:\n",
      " Predito     0     1    2   All\n",
      "Real                          \n",
      "0        1057   324   94  1475\n",
      "1         244  1333   55  1632\n",
      "2         161   234  842  1237\n",
      "All      1462  1891  991  4344 \n"
     ]
    },
    {
     "data": {
      "image/png": "[encoded data removed]",
      "text/plain": [
       "<Figure size 640x480 with 1 Axes>"
      ]
     },
     "metadata": {},
     "output_type": "display_data"
    },
    {
     "name": "stdout",
     "output_type": "stream",
     "text": [
      "\n",
      "\n",
      "\n",
      "VALIDAÇÃO CRUZADA\n",
      "\n"
     ]
    },
    {
     "name": "stderr",
     "output_type": "stream",
     "text": [
      "c:\\Users\\alsvi\\notebooks\\analise_sentimet_twitter_2023\\venv\\lib\\site-packages\\sklearn\\feature_extraction\\text.py:528: UserWarning: The parameter 'token_pattern' will not be used since 'tokenizer' is not None'\n",
      "  warnings.warn(\n",
      "c:\\Users\\alsvi\\notebooks\\analise_sentimet_twitter_2023\\venv\\lib\\site-packages\\sklearn\\feature_extraction\\text.py:528: UserWarning: The parameter 'token_pattern' will not be used since 'tokenizer' is not None'\n",
      "  warnings.warn(\n",
      "c:\\Users\\alsvi\\notebooks\\analise_sentimet_twitter_2023\\venv\\lib\\site-packages\\sklearn\\feature_extraction\\text.py:528: UserWarning: The parameter 'token_pattern' will not be used since 'tokenizer' is not None'\n",
      "  warnings.warn(\n",
      "c:\\Users\\alsvi\\notebooks\\analise_sentimet_twitter_2023\\venv\\lib\\site-packages\\sklearn\\feature_extraction\\text.py:528: UserWarning: The parameter 'token_pattern' will not be used since 'tokenizer' is not None'\n",
      "  warnings.warn(\n",
      "c:\\Users\\alsvi\\notebooks\\analise_sentimet_twitter_2023\\venv\\lib\\site-packages\\sklearn\\feature_extraction\\text.py:528: UserWarning: The parameter 'token_pattern' will not be used since 'tokenizer' is not None'\n",
      "  warnings.warn(\n",
      "c:\\Users\\alsvi\\notebooks\\analise_sentimet_twitter_2023\\venv\\lib\\site-packages\\sklearn\\feature_extraction\\text.py:528: UserWarning: The parameter 'token_pattern' will not be used since 'tokenizer' is not None'\n",
      "  warnings.warn(\n",
      "c:\\Users\\alsvi\\notebooks\\analise_sentimet_twitter_2023\\venv\\lib\\site-packages\\sklearn\\feature_extraction\\text.py:528: UserWarning: The parameter 'token_pattern' will not be used since 'tokenizer' is not None'\n",
      "  warnings.warn(\n",
      "c:\\Users\\alsvi\\notebooks\\analise_sentimet_twitter_2023\\venv\\lib\\site-packages\\sklearn\\feature_extraction\\text.py:528: UserWarning: The parameter 'token_pattern' will not be used since 'tokenizer' is not None'\n",
      "  warnings.warn(\n",
      "c:\\Users\\alsvi\\notebooks\\analise_sentimet_twitter_2023\\venv\\lib\\site-packages\\sklearn\\feature_extraction\\text.py:528: UserWarning: The parameter 'token_pattern' will not be used since 'tokenizer' is not None'\n",
      "  warnings.warn(\n",
      "c:\\Users\\alsvi\\notebooks\\analise_sentimet_twitter_2023\\venv\\lib\\site-packages\\sklearn\\feature_extraction\\text.py:528: UserWarning: The parameter 'token_pattern' will not be used since 'tokenizer' is not None'\n",
      "  warnings.warn(\n"
     ]
    },
    {
     "name": "stdout",
     "output_type": "stream",
     "text": [
      "Relatório de Classificação:\n",
      "               precision    recall  f1-score   support\n",
      "\n",
      "           0       0.71      0.68      0.70      6029\n",
      "           1       0.67      0.79      0.72      6435\n",
      "           2       0.80      0.66      0.72      4912\n",
      "\n",
      "    accuracy                           0.71     17376\n",
      "   macro avg       0.73      0.71      0.71     17376\n",
      "weighted avg       0.72      0.71      0.71     17376\n",
      "\n",
      "Acurácia: 0.7132\n",
      "\n",
      "Matrix de confusão:\n",
      " Predito     0     1     2    All\n",
      "Real                            \n",
      "0        4113  1458   458   6029\n",
      "1        1048  5059   328   6435\n",
      "2         636  1056  3220   4912\n",
      "All      5797  7573  4006  17376 \n"
     ]
    },
    {
     "data": {
      "image/png": "[encoded data removed]",
      "text/plain": [
       "<Figure size 640x480 with 1 Axes>"
      ]
     },
     "metadata": {},
     "output_type": "display_data"
    },
    {
     "name": "stdout",
     "output_type": "stream",
     "text": [
      "\n",
      "\n"
     ]
    },
    {
     "name": "stderr",
     "output_type": "stream",
     "text": [
      "c:\\Users\\alsvi\\notebooks\\analise_sentimet_twitter_2023\\venv\\lib\\site-packages\\sklearn\\feature_extraction\\text.py:528: UserWarning: The parameter 'token_pattern' will not be used since 'tokenizer' is not None'\n",
      "  warnings.warn(\n"
     ]
    },
    {
     "name": "stdout",
     "output_type": "stream",
     "text": [
      "************************************************************************************************************************************\n",
      "Modelo: Pipeline(steps=[('countVectorizer',\n",
      "                 CountVectorizer(tokenizer=<bound method TweetTokenizer.tokenize of <nltk.tokenize.casual.TweetTokenizer object at 0x0000026AC7C1B640>>)),\n",
      "                ('modelo', PassiveAggressiveClassifier())])\n",
      "\n",
      "AVALIANDO O MODELO\n",
      "\n",
      "Relatório de Classificação:\n",
      "               precision    recall  f1-score   support\n",
      "\n",
      "           0       0.74      0.71      0.73      1475\n",
      "           1       0.74      0.78      0.76      1632\n",
      "           2       0.79      0.77      0.78      1237\n",
      "\n",
      "    accuracy                           0.75      4344\n",
      "   macro avg       0.76      0.75      0.75      4344\n",
      "weighted avg       0.75      0.75      0.75      4344\n",
      "\n",
      "Acurácia: 0.7523\n",
      "\n",
      "Matrix de confusão:\n",
      " Predito     0     1     2   All\n",
      "Real                           \n",
      "0        1054   287   134  1475\n",
      "1         245  1265   122  1632\n",
      "2         127   161   949  1237\n",
      "All      1426  1713  1205  4344 \n"
     ]
    },
    {
     "data": {
      "image/png": "[encoded data removed]",
      "text/plain": [
       "<Figure size 640x480 with 1 Axes>"
      ]
     },
     "metadata": {},
     "output_type": "display_data"
    },
    {
     "name": "stdout",
     "output_type": "stream",
     "text": [
      "\n",
      "\n",
      "\n",
      "VALIDAÇÃO CRUZADA\n",
      "\n"
     ]
    },
    {
     "name": "stderr",
     "output_type": "stream",
     "text": [
      "c:\\Users\\alsvi\\notebooks\\analise_sentimet_twitter_2023\\venv\\lib\\site-packages\\sklearn\\feature_extraction\\text.py:528: UserWarning: The parameter 'token_pattern' will not be used since 'tokenizer' is not None'\n",
      "  warnings.warn(\n",
      "c:\\Users\\alsvi\\notebooks\\analise_sentimet_twitter_2023\\venv\\lib\\site-packages\\sklearn\\feature_extraction\\text.py:528: UserWarning: The parameter 'token_pattern' will not be used since 'tokenizer' is not None'\n",
      "  warnings.warn(\n",
      "c:\\Users\\alsvi\\notebooks\\analise_sentimet_twitter_2023\\venv\\lib\\site-packages\\sklearn\\feature_extraction\\text.py:528: UserWarning: The parameter 'token_pattern' will not be used since 'tokenizer' is not None'\n",
      "  warnings.warn(\n",
      "c:\\Users\\alsvi\\notebooks\\analise_sentimet_twitter_2023\\venv\\lib\\site-packages\\sklearn\\feature_extraction\\text.py:528: UserWarning: The parameter 'token_pattern' will not be used since 'tokenizer' is not None'\n",
      "  warnings.warn(\n",
      "c:\\Users\\alsvi\\notebooks\\analise_sentimet_twitter_2023\\venv\\lib\\site-packages\\sklearn\\feature_extraction\\text.py:528: UserWarning: The parameter 'token_pattern' will not be used since 'tokenizer' is not None'\n",
      "  warnings.warn(\n",
      "c:\\Users\\alsvi\\notebooks\\analise_sentimet_twitter_2023\\venv\\lib\\site-packages\\sklearn\\feature_extraction\\text.py:528: UserWarning: The parameter 'token_pattern' will not be used since 'tokenizer' is not None'\n",
      "  warnings.warn(\n",
      "c:\\Users\\alsvi\\notebooks\\analise_sentimet_twitter_2023\\venv\\lib\\site-packages\\sklearn\\feature_extraction\\text.py:528: UserWarning: The parameter 'token_pattern' will not be used since 'tokenizer' is not None'\n",
      "  warnings.warn(\n",
      "c:\\Users\\alsvi\\notebooks\\analise_sentimet_twitter_2023\\venv\\lib\\site-packages\\sklearn\\feature_extraction\\text.py:528: UserWarning: The parameter 'token_pattern' will not be used since 'tokenizer' is not None'\n",
      "  warnings.warn(\n",
      "c:\\Users\\alsvi\\notebooks\\analise_sentimet_twitter_2023\\venv\\lib\\site-packages\\sklearn\\feature_extraction\\text.py:528: UserWarning: The parameter 'token_pattern' will not be used since 'tokenizer' is not None'\n",
      "  warnings.warn(\n",
      "c:\\Users\\alsvi\\notebooks\\analise_sentimet_twitter_2023\\venv\\lib\\site-packages\\sklearn\\feature_extraction\\text.py:528: UserWarning: The parameter 'token_pattern' will not be used since 'tokenizer' is not None'\n",
      "  warnings.warn(\n"
     ]
    },
    {
     "name": "stdout",
     "output_type": "stream",
     "text": [
      "Relatório de Classificação:\n",
      "               precision    recall  f1-score   support\n",
      "\n",
      "           0       0.72      0.68      0.70      6029\n",
      "           1       0.71      0.77      0.74      6435\n",
      "           2       0.76      0.73      0.74      4912\n",
      "\n",
      "    accuracy                           0.73     17376\n",
      "   macro avg       0.73      0.73      0.73     17376\n",
      "weighted avg       0.73      0.73      0.73     17376\n",
      "\n",
      "Acurácia: 0.7266\n",
      "\n",
      "Matrix de confusão:\n",
      " Predito     0     1     2    All\n",
      "Real                            \n",
      "0        4100  1314   615   6029\n",
      "1         983  4946   506   6435\n",
      "2         592   741  3579   4912\n",
      "All      5675  7001  4700  17376 \n"
     ]
    },
    {
     "data": {
      "image/png": "[encoded data removed]",
      "text/plain": [
       "<Figure size 640x480 with 1 Axes>"
      ]
     },
     "metadata": {},
     "output_type": "display_data"
    },
    {
     "name": "stdout",
     "output_type": "stream",
     "text": [
      "\n",
      "\n"
     ]
    },
    {
     "name": "stderr",
     "output_type": "stream",
     "text": [
      "c:\\Users\\alsvi\\notebooks\\analise_sentimet_twitter_2023\\venv\\lib\\site-packages\\sklearn\\feature_extraction\\text.py:528: UserWarning: The parameter 'token_pattern' will not be used since 'tokenizer' is not None'\n",
      "  warnings.warn(\n"
     ]
    },
    {
     "name": "stdout",
     "output_type": "stream",
     "text": [
      "************************************************************************************************************************************\n",
      "Modelo: Pipeline(steps=[('tfidfVectorizer',\n",
      "                 TfidfVectorizer(tokenizer=<bound method TweetTokenizer.tokenize of <nltk.tokenize.casual.TweetTokenizer object at 0x0000026AC7C1B640>>)),\n",
      "                ('modelo', PassiveAggressiveClassifier())])\n",
      "\n",
      "AVALIANDO O MODELO\n",
      "\n",
      "Relatório de Classificação:\n",
      "               precision    recall  f1-score   support\n",
      "\n",
      "           0       0.72      0.71      0.72      1475\n",
      "           1       0.72      0.75      0.74      1632\n",
      "           2       0.77      0.75      0.76      1237\n",
      "\n",
      "    accuracy                           0.74      4344\n",
      "   macro avg       0.74      0.74      0.74      4344\n",
      "weighted avg       0.74      0.74      0.74      4344\n",
      "\n",
      "Acurácia: 0.7380\n",
      "\n",
      "Matrix de confusão:\n",
      " Predito     0     1     2   All\n",
      "Real                           \n",
      "0        1052   287   136  1475\n",
      "1         267  1231   134  1632\n",
      "2         134   180   923  1237\n",
      "All      1453  1698  1193  4344 \n"
     ]
    },
    {
     "data": {
      "image/png": "[encoded data removed]",
      "text/plain": [
       "<Figure size 640x480 with 1 Axes>"
      ]
     },
     "metadata": {},
     "output_type": "display_data"
    },
    {
     "name": "stdout",
     "output_type": "stream",
     "text": [
      "\n",
      "\n",
      "\n",
      "VALIDAÇÃO CRUZADA\n",
      "\n"
     ]
    },
    {
     "name": "stderr",
     "output_type": "stream",
     "text": [
      "c:\\Users\\alsvi\\notebooks\\analise_sentimet_twitter_2023\\venv\\lib\\site-packages\\sklearn\\feature_extraction\\text.py:528: UserWarning: The parameter 'token_pattern' will not be used since 'tokenizer' is not None'\n",
      "  warnings.warn(\n",
      "c:\\Users\\alsvi\\notebooks\\analise_sentimet_twitter_2023\\venv\\lib\\site-packages\\sklearn\\feature_extraction\\text.py:528: UserWarning: The parameter 'token_pattern' will not be used since 'tokenizer' is not None'\n",
      "  warnings.warn(\n",
      "c:\\Users\\alsvi\\notebooks\\analise_sentimet_twitter_2023\\venv\\lib\\site-packages\\sklearn\\feature_extraction\\text.py:528: UserWarning: The parameter 'token_pattern' will not be used since 'tokenizer' is not None'\n",
      "  warnings.warn(\n",
      "c:\\Users\\alsvi\\notebooks\\analise_sentimet_twitter_2023\\venv\\lib\\site-packages\\sklearn\\feature_extraction\\text.py:528: UserWarning: The parameter 'token_pattern' will not be used since 'tokenizer' is not None'\n",
      "  warnings.warn(\n",
      "c:\\Users\\alsvi\\notebooks\\analise_sentimet_twitter_2023\\venv\\lib\\site-packages\\sklearn\\feature_extraction\\text.py:528: UserWarning: The parameter 'token_pattern' will not be used since 'tokenizer' is not None'\n",
      "  warnings.warn(\n",
      "c:\\Users\\alsvi\\notebooks\\analise_sentimet_twitter_2023\\venv\\lib\\site-packages\\sklearn\\feature_extraction\\text.py:528: UserWarning: The parameter 'token_pattern' will not be used since 'tokenizer' is not None'\n",
      "  warnings.warn(\n",
      "c:\\Users\\alsvi\\notebooks\\analise_sentimet_twitter_2023\\venv\\lib\\site-packages\\sklearn\\feature_extraction\\text.py:528: UserWarning: The parameter 'token_pattern' will not be used since 'tokenizer' is not None'\n",
      "  warnings.warn(\n",
      "c:\\Users\\alsvi\\notebooks\\analise_sentimet_twitter_2023\\venv\\lib\\site-packages\\sklearn\\feature_extraction\\text.py:528: UserWarning: The parameter 'token_pattern' will not be used since 'tokenizer' is not None'\n",
      "  warnings.warn(\n",
      "c:\\Users\\alsvi\\notebooks\\analise_sentimet_twitter_2023\\venv\\lib\\site-packages\\sklearn\\feature_extraction\\text.py:528: UserWarning: The parameter 'token_pattern' will not be used since 'tokenizer' is not None'\n",
      "  warnings.warn(\n",
      "c:\\Users\\alsvi\\notebooks\\analise_sentimet_twitter_2023\\venv\\lib\\site-packages\\sklearn\\feature_extraction\\text.py:528: UserWarning: The parameter 'token_pattern' will not be used since 'tokenizer' is not None'\n",
      "  warnings.warn(\n"
     ]
    },
    {
     "name": "stdout",
     "output_type": "stream",
     "text": [
      "Relatório de Classificação:\n",
      "               precision    recall  f1-score   support\n",
      "\n",
      "           0       0.70      0.69      0.69      6029\n",
      "           1       0.70      0.73      0.71      6435\n",
      "           2       0.74      0.72      0.73      4912\n",
      "\n",
      "    accuracy                           0.71     17376\n",
      "   macro avg       0.71      0.71      0.71     17376\n",
      "weighted avg       0.71      0.71      0.71     17376\n",
      "\n",
      "Acurácia: 0.7116\n",
      "\n",
      "Matrix de confusão:\n",
      " Predito     0     1     2    All\n",
      "Real                            \n",
      "0        4132  1257   640   6029\n",
      "1        1142  4684   609   6435\n",
      "2         630   733  3549   4912\n",
      "All      5904  6674  4798  17376 \n"
     ]
    },
    {
     "data": {
      "image/png": "[encoded data removed]",
      "text/plain": [
       "<Figure size 640x480 with 1 Axes>"
      ]
     },
     "metadata": {},
     "output_type": "display_data"
    },
    {
     "name": "stdout",
     "output_type": "stream",
     "text": [
      "\n",
      "\n"
     ]
    },
    {
     "name": "stderr",
     "output_type": "stream",
     "text": [
      "c:\\Users\\alsvi\\notebooks\\analise_sentimet_twitter_2023\\venv\\lib\\site-packages\\sklearn\\feature_extraction\\text.py:528: UserWarning: The parameter 'token_pattern' will not be used since 'tokenizer' is not None'\n",
      "  warnings.warn(\n"
     ]
    },
    {
     "name": "stdout",
     "output_type": "stream",
     "text": [
      "************************************************************************************************************************************\n",
      "Modelo: Pipeline(steps=[('countVectorizer',\n",
      "                 CountVectorizer(tokenizer=<bound method TweetTokenizer.tokenize of <nltk.tokenize.casual.TweetTokenizer object at 0x0000026AC7C1B640>>)),\n",
      "                ('modelo', RandomForestClassifier())])\n",
      "\n",
      "AVALIANDO O MODELO\n",
      "\n",
      "Relatório de Classificação:\n",
      "               precision    recall  f1-score   support\n",
      "\n",
      "           0       0.77      0.65      0.71      1475\n",
      "           1       0.67      0.87      0.76      1632\n",
      "           2       0.86      0.69      0.77      1237\n",
      "\n",
      "    accuracy                           0.74      4344\n",
      "   macro avg       0.77      0.74      0.74      4344\n",
      "weighted avg       0.76      0.74      0.74      4344\n",
      "\n",
      "Acurácia: 0.7426\n",
      "\n",
      "Matrix de confusão:\n",
      " Predito     0     1     2   All\n",
      "Real                           \n",
      "0         956   421    98  1475\n",
      "1         173  1412    47  1632\n",
      "2         105   274   858  1237\n",
      "All      1234  2107  1003  4344 \n"
     ]
    },
    {
     "data": {
      "image/png": "[encoded data removed]",
      "text/plain": [
       "<Figure size 640x480 with 1 Axes>"
      ]
     },
     "metadata": {},
     "output_type": "display_data"
    },
    {
     "name": "stdout",
     "output_type": "stream",
     "text": [
      "\n",
      "\n",
      "\n",
      "VALIDAÇÃO CRUZADA\n",
      "\n"
     ]
    },
    {
     "name": "stderr",
     "output_type": "stream",
     "text": [
      "c:\\Users\\alsvi\\notebooks\\analise_sentimet_twitter_2023\\venv\\lib\\site-packages\\sklearn\\feature_extraction\\text.py:528: UserWarning: The parameter 'token_pattern' will not be used since 'tokenizer' is not None'\n",
      "  warnings.warn(\n",
      "c:\\Users\\alsvi\\notebooks\\analise_sentimet_twitter_2023\\venv\\lib\\site-packages\\sklearn\\feature_extraction\\text.py:528: UserWarning: The parameter 'token_pattern' will not be used since 'tokenizer' is not None'\n",
      "  warnings.warn(\n",
      "c:\\Users\\alsvi\\notebooks\\analise_sentimet_twitter_2023\\venv\\lib\\site-packages\\sklearn\\feature_extraction\\text.py:528: UserWarning: The parameter 'token_pattern' will not be used since 'tokenizer' is not None'\n",
      "  warnings.warn(\n",
      "c:\\Users\\alsvi\\notebooks\\analise_sentimet_twitter_2023\\venv\\lib\\site-packages\\sklearn\\feature_extraction\\text.py:528: UserWarning: The parameter 'token_pattern' will not be used since 'tokenizer' is not None'\n",
      "  warnings.warn(\n",
      "c:\\Users\\alsvi\\notebooks\\analise_sentimet_twitter_2023\\venv\\lib\\site-packages\\sklearn\\feature_extraction\\text.py:528: UserWarning: The parameter 'token_pattern' will not be used since 'tokenizer' is not None'\n",
      "  warnings.warn(\n",
      "c:\\Users\\alsvi\\notebooks\\analise_sentimet_twitter_2023\\venv\\lib\\site-packages\\sklearn\\feature_extraction\\text.py:528: UserWarning: The parameter 'token_pattern' will not be used since 'tokenizer' is not None'\n",
      "  warnings.warn(\n",
      "c:\\Users\\alsvi\\notebooks\\analise_sentimet_twitter_2023\\venv\\lib\\site-packages\\sklearn\\feature_extraction\\text.py:528: UserWarning: The parameter 'token_pattern' will not be used since 'tokenizer' is not None'\n",
      "  warnings.warn(\n",
      "c:\\Users\\alsvi\\notebooks\\analise_sentimet_twitter_2023\\venv\\lib\\site-packages\\sklearn\\feature_extraction\\text.py:528: UserWarning: The parameter 'token_pattern' will not be used since 'tokenizer' is not None'\n",
      "  warnings.warn(\n",
      "c:\\Users\\alsvi\\notebooks\\analise_sentimet_twitter_2023\\venv\\lib\\site-packages\\sklearn\\feature_extraction\\text.py:528: UserWarning: The parameter 'token_pattern' will not be used since 'tokenizer' is not None'\n",
      "  warnings.warn(\n",
      "c:\\Users\\alsvi\\notebooks\\analise_sentimet_twitter_2023\\venv\\lib\\site-packages\\sklearn\\feature_extraction\\text.py:528: UserWarning: The parameter 'token_pattern' will not be used since 'tokenizer' is not None'\n",
      "  warnings.warn(\n"
     ]
    },
    {
     "name": "stdout",
     "output_type": "stream",
     "text": [
      "Relatório de Classificação:\n",
      "               precision    recall  f1-score   support\n",
      "\n",
      "           0       0.77      0.62      0.69      6029\n",
      "           1       0.64      0.86      0.73      6435\n",
      "           2       0.82      0.66      0.73      4912\n",
      "\n",
      "    accuracy                           0.72     17376\n",
      "   macro avg       0.74      0.71      0.72     17376\n",
      "weighted avg       0.74      0.72      0.72     17376\n",
      "\n",
      "Acurácia: 0.7186\n",
      "\n",
      "Matrix de confusão:\n",
      " Predito     0     1     2    All\n",
      "Real                            \n",
      "0        3737  1847   445   6029\n",
      "1         666  5523   246   6435\n",
      "2         457  1228  3227   4912\n",
      "All      4860  8598  3918  17376 \n"
     ]
    },
    {
     "data": {
      "image/png": "[encoded data removed]",
      "text/plain": [
       "<Figure size 640x480 with 1 Axes>"
      ]
     },
     "metadata": {},
     "output_type": "display_data"
    },
    {
     "name": "stdout",
     "output_type": "stream",
     "text": [
      "\n",
      "\n"
     ]
    },
    {
     "name": "stderr",
     "output_type": "stream",
     "text": [
      "c:\\Users\\alsvi\\notebooks\\analise_sentimet_twitter_2023\\venv\\lib\\site-packages\\sklearn\\feature_extraction\\text.py:528: UserWarning: The parameter 'token_pattern' will not be used since 'tokenizer' is not None'\n",
      "  warnings.warn(\n"
     ]
    },
    {
     "name": "stdout",
     "output_type": "stream",
     "text": [
      "************************************************************************************************************************************\n",
      "Modelo: Pipeline(steps=[('tfidfVectorizer',\n",
      "                 TfidfVectorizer(tokenizer=<bound method TweetTokenizer.tokenize of <nltk.tokenize.casual.TweetTokenizer object at 0x0000026AC7C1B640>>)),\n",
      "                ('modelo', RandomForestClassifier())])\n",
      "\n",
      "AVALIANDO O MODELO\n",
      "\n",
      "Relatório de Classificação:\n",
      "               precision    recall  f1-score   support\n",
      "\n",
      "           0       0.73      0.68      0.71      1475\n",
      "           1       0.69      0.83      0.75      1632\n",
      "           2       0.84      0.69      0.76      1237\n",
      "\n",
      "    accuracy                           0.74      4344\n",
      "   macro avg       0.75      0.73      0.74      4344\n",
      "weighted avg       0.75      0.74      0.74      4344\n",
      "\n",
      "Acurácia: 0.7371\n",
      "\n",
      "Matrix de confusão:\n",
      " Predito     0     1     2   All\n",
      "Real                           \n",
      "0        1003   373    99  1475\n",
      "1         225  1349    58  1632\n",
      "2         140   247   850  1237\n",
      "All      1368  1969  1007  4344 \n"
     ]
    },
    {
     "data": {
      "image/png": "[encoded data removed]",
      "text/plain": [
       "<Figure size 640x480 with 1 Axes>"
      ]
     },
     "metadata": {},
     "output_type": "display_data"
    },
    {
     "name": "stdout",
     "output_type": "stream",
     "text": [
      "\n",
      "\n",
      "\n",
      "VALIDAÇÃO CRUZADA\n",
      "\n"
     ]
    },
    {
     "name": "stderr",
     "output_type": "stream",
     "text": [
      "c:\\Users\\alsvi\\notebooks\\analise_sentimet_twitter_2023\\venv\\lib\\site-packages\\sklearn\\feature_extraction\\text.py:528: UserWarning: The parameter 'token_pattern' will not be used since 'tokenizer' is not None'\n",
      "  warnings.warn(\n",
      "c:\\Users\\alsvi\\notebooks\\analise_sentimet_twitter_2023\\venv\\lib\\site-packages\\sklearn\\feature_extraction\\text.py:528: UserWarning: The parameter 'token_pattern' will not be used since 'tokenizer' is not None'\n",
      "  warnings.warn(\n",
      "c:\\Users\\alsvi\\notebooks\\analise_sentimet_twitter_2023\\venv\\lib\\site-packages\\sklearn\\feature_extraction\\text.py:528: UserWarning: The parameter 'token_pattern' will not be used since 'tokenizer' is not None'\n",
      "  warnings.warn(\n",
      "c:\\Users\\alsvi\\notebooks\\analise_sentimet_twitter_2023\\venv\\lib\\site-packages\\sklearn\\feature_extraction\\text.py:528: UserWarning: The parameter 'token_pattern' will not be used since 'tokenizer' is not None'\n",
      "  warnings.warn(\n",
      "c:\\Users\\alsvi\\notebooks\\analise_sentimet_twitter_2023\\venv\\lib\\site-packages\\sklearn\\feature_extraction\\text.py:528: UserWarning: The parameter 'token_pattern' will not be used since 'tokenizer' is not None'\n",
      "  warnings.warn(\n",
      "c:\\Users\\alsvi\\notebooks\\analise_sentimet_twitter_2023\\venv\\lib\\site-packages\\sklearn\\feature_extraction\\text.py:528: UserWarning: The parameter 'token_pattern' will not be used since 'tokenizer' is not None'\n",
      "  warnings.warn(\n",
      "c:\\Users\\alsvi\\notebooks\\analise_sentimet_twitter_2023\\venv\\lib\\site-packages\\sklearn\\feature_extraction\\text.py:528: UserWarning: The parameter 'token_pattern' will not be used since 'tokenizer' is not None'\n",
      "  warnings.warn(\n",
      "c:\\Users\\alsvi\\notebooks\\analise_sentimet_twitter_2023\\venv\\lib\\site-packages\\sklearn\\feature_extraction\\text.py:528: UserWarning: The parameter 'token_pattern' will not be used since 'tokenizer' is not None'\n",
      "  warnings.warn(\n",
      "c:\\Users\\alsvi\\notebooks\\analise_sentimet_twitter_2023\\venv\\lib\\site-packages\\sklearn\\feature_extraction\\text.py:528: UserWarning: The parameter 'token_pattern' will not be used since 'tokenizer' is not None'\n",
      "  warnings.warn(\n",
      "c:\\Users\\alsvi\\notebooks\\analise_sentimet_twitter_2023\\venv\\lib\\site-packages\\sklearn\\feature_extraction\\text.py:528: UserWarning: The parameter 'token_pattern' will not be used since 'tokenizer' is not None'\n",
      "  warnings.warn(\n"
     ]
    },
    {
     "name": "stdout",
     "output_type": "stream",
     "text": [
      "Relatório de Classificação:\n",
      "               precision    recall  f1-score   support\n",
      "\n",
      "           0       0.73      0.65      0.69      6029\n",
      "           1       0.66      0.82      0.73      6435\n",
      "           2       0.81      0.65      0.72      4912\n",
      "\n",
      "    accuracy                           0.71     17376\n",
      "   macro avg       0.73      0.71      0.71     17376\n",
      "weighted avg       0.72      0.71      0.71     17376\n",
      "\n",
      "Acurácia: 0.7137\n",
      "\n",
      "Matrix de confusão:\n",
      " Predito     0     1     2    All\n",
      "Real                            \n",
      "0        3937  1633   459   6029\n",
      "1         853  5267   315   6435\n",
      "2         583  1132  3197   4912\n",
      "All      5373  8032  3971  17376 \n"
     ]
    },
    {
     "data": {
      "image/png": "[encoded data removed]",
      "text/plain": [
       "<Figure size 640x480 with 1 Axes>"
      ]
     },
     "metadata": {},
     "output_type": "display_data"
    },
    {
     "name": "stdout",
     "output_type": "stream",
     "text": [
      "\n",
      "\n"
     ]
    },
    {
     "name": "stderr",
     "output_type": "stream",
     "text": [
      "c:\\Users\\alsvi\\notebooks\\analise_sentimet_twitter_2023\\venv\\lib\\site-packages\\sklearn\\feature_extraction\\text.py:528: UserWarning: The parameter 'token_pattern' will not be used since 'tokenizer' is not None'\n",
      "  warnings.warn(\n"
     ]
    },
    {
     "name": "stdout",
     "output_type": "stream",
     "text": [
      "************************************************************************************************************************************\n",
      "Modelo: Pipeline(steps=[('countVectorizer',\n",
      "                 CountVectorizer(tokenizer=<bound method TweetTokenizer.tokenize of <nltk.tokenize.casual.TweetTokenizer object at 0x0000026AC7C1B640>>)),\n",
      "                ('modelo', SGDClassifier())])\n",
      "\n",
      "AVALIANDO O MODELO\n",
      "\n",
      "Relatório de Classificação:\n",
      "               precision    recall  f1-score   support\n",
      "\n",
      "           0       0.80      0.72      0.75      1475\n",
      "           1       0.74      0.84      0.79      1632\n",
      "           2       0.84      0.78      0.81      1237\n",
      "\n",
      "    accuracy                           0.78      4344\n",
      "   macro avg       0.79      0.78      0.78      4344\n",
      "weighted avg       0.79      0.78      0.78      4344\n",
      "\n",
      "Acurácia: 0.7815\n",
      "\n",
      "Matrix de confusão:\n",
      " Predito     0     1     2   All\n",
      "Real                           \n",
      "0        1055   316   104  1475\n",
      "1         170  1379    83  1632\n",
      "2         100   176   961  1237\n",
      "All      1325  1871  1148  4344 \n"
     ]
    },
    {
     "data": {
      "image/png": "[encoded data removed]",
      "text/plain": [
       "<Figure size 640x480 with 1 Axes>"
      ]
     },
     "metadata": {},
     "output_type": "display_data"
    },
    {
     "name": "stdout",
     "output_type": "stream",
     "text": [
      "\n",
      "\n",
      "\n",
      "VALIDAÇÃO CRUZADA\n",
      "\n"
     ]
    },
    {
     "name": "stderr",
     "output_type": "stream",
     "text": [
      "c:\\Users\\alsvi\\notebooks\\analise_sentimet_twitter_2023\\venv\\lib\\site-packages\\sklearn\\feature_extraction\\text.py:528: UserWarning: The parameter 'token_pattern' will not be used since 'tokenizer' is not None'\n",
      "  warnings.warn(\n",
      "c:\\Users\\alsvi\\notebooks\\analise_sentimet_twitter_2023\\venv\\lib\\site-packages\\sklearn\\feature_extraction\\text.py:528: UserWarning: The parameter 'token_pattern' will not be used since 'tokenizer' is not None'\n",
      "  warnings.warn(\n",
      "c:\\Users\\alsvi\\notebooks\\analise_sentimet_twitter_2023\\venv\\lib\\site-packages\\sklearn\\feature_extraction\\text.py:528: UserWarning: The parameter 'token_pattern' will not be used since 'tokenizer' is not None'\n",
      "  warnings.warn(\n",
      "c:\\Users\\alsvi\\notebooks\\analise_sentimet_twitter_2023\\venv\\lib\\site-packages\\sklearn\\feature_extraction\\text.py:528: UserWarning: The parameter 'token_pattern' will not be used since 'tokenizer' is not None'\n",
      "  warnings.warn(\n",
      "c:\\Users\\alsvi\\notebooks\\analise_sentimet_twitter_2023\\venv\\lib\\site-packages\\sklearn\\feature_extraction\\text.py:528: UserWarning: The parameter 'token_pattern' will not be used since 'tokenizer' is not None'\n",
      "  warnings.warn(\n",
      "c:\\Users\\alsvi\\notebooks\\analise_sentimet_twitter_2023\\venv\\lib\\site-packages\\sklearn\\feature_extraction\\text.py:528: UserWarning: The parameter 'token_pattern' will not be used since 'tokenizer' is not None'\n",
      "  warnings.warn(\n",
      "c:\\Users\\alsvi\\notebooks\\analise_sentimet_twitter_2023\\venv\\lib\\site-packages\\sklearn\\feature_extraction\\text.py:528: UserWarning: The parameter 'token_pattern' will not be used since 'tokenizer' is not None'\n",
      "  warnings.warn(\n",
      "c:\\Users\\alsvi\\notebooks\\analise_sentimet_twitter_2023\\venv\\lib\\site-packages\\sklearn\\feature_extraction\\text.py:528: UserWarning: The parameter 'token_pattern' will not be used since 'tokenizer' is not None'\n",
      "  warnings.warn(\n",
      "c:\\Users\\alsvi\\notebooks\\analise_sentimet_twitter_2023\\venv\\lib\\site-packages\\sklearn\\feature_extraction\\text.py:528: UserWarning: The parameter 'token_pattern' will not be used since 'tokenizer' is not None'\n",
      "  warnings.warn(\n",
      "c:\\Users\\alsvi\\notebooks\\analise_sentimet_twitter_2023\\venv\\lib\\site-packages\\sklearn\\feature_extraction\\text.py:528: UserWarning: The parameter 'token_pattern' will not be used since 'tokenizer' is not None'\n",
      "  warnings.warn(\n"
     ]
    },
    {
     "name": "stdout",
     "output_type": "stream",
     "text": [
      "Relatório de Classificação:\n",
      "               precision    recall  f1-score   support\n",
      "\n",
      "           0       0.78      0.69      0.73      6029\n",
      "           1       0.72      0.84      0.78      6435\n",
      "           2       0.81      0.77      0.79      4912\n",
      "\n",
      "    accuracy                           0.76     17376\n",
      "   macro avg       0.77      0.76      0.76     17376\n",
      "weighted avg       0.77      0.76      0.76     17376\n",
      "\n",
      "Acurácia: 0.7642\n",
      "\n",
      "Matrix de confusão:\n",
      " Predito     0     1     2    All\n",
      "Real                            \n",
      "0        4137  1366   526   6029\n",
      "1         702  5378   355   6435\n",
      "2         456   693  3763   4912\n",
      "All      5295  7437  4644  17376 \n"
     ]
    },
    {
     "data": {
      "image/png": "[encoded data removed]",
      "text/plain": [
       "<Figure size 640x480 with 1 Axes>"
      ]
     },
     "metadata": {},
     "output_type": "display_data"
    },
    {
     "name": "stdout",
     "output_type": "stream",
     "text": [
      "\n",
      "\n"
     ]
    },
    {
     "name": "stderr",
     "output_type": "stream",
     "text": [
      "c:\\Users\\alsvi\\notebooks\\analise_sentimet_twitter_2023\\venv\\lib\\site-packages\\sklearn\\feature_extraction\\text.py:528: UserWarning: The parameter 'token_pattern' will not be used since 'tokenizer' is not None'\n",
      "  warnings.warn(\n"
     ]
    },
    {
     "name": "stdout",
     "output_type": "stream",
     "text": [
      "************************************************************************************************************************************\n",
      "Modelo: Pipeline(steps=[('tfidfVectorizer',\n",
      "                 TfidfVectorizer(tokenizer=<bound method TweetTokenizer.tokenize of <nltk.tokenize.casual.TweetTokenizer object at 0x0000026AC7C1B640>>)),\n",
      "                ('modelo', SGDClassifier())])\n",
      "\n",
      "AVALIANDO O MODELO\n",
      "\n",
      "Relatório de Classificação:\n",
      "               precision    recall  f1-score   support\n",
      "\n",
      "           0       0.76      0.71      0.74      1475\n",
      "           1       0.72      0.84      0.77      1632\n",
      "           2       0.86      0.75      0.80      1237\n",
      "\n",
      "    accuracy                           0.77      4344\n",
      "   macro avg       0.78      0.76      0.77      4344\n",
      "weighted avg       0.77      0.77      0.77      4344\n",
      "\n",
      "Acurácia: 0.7682\n",
      "\n",
      "Matrix de confusão:\n",
      " Predito     0     1     2   All\n",
      "Real                           \n",
      "0        1050   329    96  1475\n",
      "1         209  1363    60  1632\n",
      "2         117   196   924  1237\n",
      "All      1376  1888  1080  4344 \n"
     ]
    },
    {
     "data": {
      "image/png": "[encoded data removed]",
      "text/plain": [
       "<Figure size 640x480 with 1 Axes>"
      ]
     },
     "metadata": {},
     "output_type": "display_data"
    },
    {
     "name": "stdout",
     "output_type": "stream",
     "text": [
      "\n",
      "\n",
      "\n",
      "VALIDAÇÃO CRUZADA\n",
      "\n"
     ]
    },
    {
     "name": "stderr",
     "output_type": "stream",
     "text": [
      "c:\\Users\\alsvi\\notebooks\\analise_sentimet_twitter_2023\\venv\\lib\\site-packages\\sklearn\\feature_extraction\\text.py:528: UserWarning: The parameter 'token_pattern' will not be used since 'tokenizer' is not None'\n",
      "  warnings.warn(\n",
      "c:\\Users\\alsvi\\notebooks\\analise_sentimet_twitter_2023\\venv\\lib\\site-packages\\sklearn\\feature_extraction\\text.py:528: UserWarning: The parameter 'token_pattern' will not be used since 'tokenizer' is not None'\n",
      "  warnings.warn(\n",
      "c:\\Users\\alsvi\\notebooks\\analise_sentimet_twitter_2023\\venv\\lib\\site-packages\\sklearn\\feature_extraction\\text.py:528: UserWarning: The parameter 'token_pattern' will not be used since 'tokenizer' is not None'\n",
      "  warnings.warn(\n",
      "c:\\Users\\alsvi\\notebooks\\analise_sentimet_twitter_2023\\venv\\lib\\site-packages\\sklearn\\feature_extraction\\text.py:528: UserWarning: The parameter 'token_pattern' will not be used since 'tokenizer' is not None'\n",
      "  warnings.warn(\n",
      "c:\\Users\\alsvi\\notebooks\\analise_sentimet_twitter_2023\\venv\\lib\\site-packages\\sklearn\\feature_extraction\\text.py:528: UserWarning: The parameter 'token_pattern' will not be used since 'tokenizer' is not None'\n",
      "  warnings.warn(\n",
      "c:\\Users\\alsvi\\notebooks\\analise_sentimet_twitter_2023\\venv\\lib\\site-packages\\sklearn\\feature_extraction\\text.py:528: UserWarning: The parameter 'token_pattern' will not be used since 'tokenizer' is not None'\n",
      "  warnings.warn(\n",
      "c:\\Users\\alsvi\\notebooks\\analise_sentimet_twitter_2023\\venv\\lib\\site-packages\\sklearn\\feature_extraction\\text.py:528: UserWarning: The parameter 'token_pattern' will not be used since 'tokenizer' is not None'\n",
      "  warnings.warn(\n",
      "c:\\Users\\alsvi\\notebooks\\analise_sentimet_twitter_2023\\venv\\lib\\site-packages\\sklearn\\feature_extraction\\text.py:528: UserWarning: The parameter 'token_pattern' will not be used since 'tokenizer' is not None'\n",
      "  warnings.warn(\n",
      "c:\\Users\\alsvi\\notebooks\\analise_sentimet_twitter_2023\\venv\\lib\\site-packages\\sklearn\\feature_extraction\\text.py:528: UserWarning: The parameter 'token_pattern' will not be used since 'tokenizer' is not None'\n",
      "  warnings.warn(\n",
      "c:\\Users\\alsvi\\notebooks\\analise_sentimet_twitter_2023\\venv\\lib\\site-packages\\sklearn\\feature_extraction\\text.py:528: UserWarning: The parameter 'token_pattern' will not be used since 'tokenizer' is not None'\n",
      "  warnings.warn(\n"
     ]
    },
    {
     "name": "stdout",
     "output_type": "stream",
     "text": [
      "Relatório de Classificação:\n",
      "               precision    recall  f1-score   support\n",
      "\n",
      "           0       0.76      0.67      0.71      6029\n",
      "           1       0.69      0.82      0.75      6435\n",
      "           2       0.82      0.72      0.77      4912\n",
      "\n",
      "    accuracy                           0.74     17376\n",
      "   macro avg       0.75      0.74      0.74     17376\n",
      "weighted avg       0.75      0.74      0.74     17376\n",
      "\n",
      "Acurácia: 0.7401\n",
      "\n",
      "Matrix de confusão:\n",
      " Predito     0     1     2    All\n",
      "Real                            \n",
      "0        4031  1500   498   6029\n",
      "1         843  5288   304   6435\n",
      "2         460   911  3541   4912\n",
      "All      5334  7699  4343  17376 \n"
     ]
    },
    {
     "data": {
      "image/png": "[encoded data removed]",
      "text/plain": [
       "<Figure size 640x480 with 1 Axes>"
      ]
     },
     "metadata": {},
     "output_type": "display_data"
    },
    {
     "name": "stdout",
     "output_type": "stream",
     "text": [
      "\n",
      "\n"
     ]
    },
    {
     "name": "stderr",
     "output_type": "stream",
     "text": [
      "c:\\Users\\alsvi\\notebooks\\analise_sentimet_twitter_2023\\venv\\lib\\site-packages\\sklearn\\feature_extraction\\text.py:528: UserWarning: The parameter 'token_pattern' will not be used since 'tokenizer' is not None'\n",
      "  warnings.warn(\n"
     ]
    },
    {
     "name": "stdout",
     "output_type": "stream",
     "text": [
      "************************************************************************************************************************************\n",
      "Modelo: Pipeline(steps=[('countVectorizer',\n",
      "                 CountVectorizer(tokenizer=<bound method TweetTokenizer.tokenize of <nltk.tokenize.casual.TweetTokenizer object at 0x0000026AC7C1B640>>)),\n",
      "                ('modelo', SVC())])\n",
      "\n",
      "AVALIANDO O MODELO\n",
      "\n",
      "Relatório de Classificação:\n",
      "               precision    recall  f1-score   support\n",
      "\n",
      "           0       0.73      0.68      0.70      1475\n",
      "           1       0.67      0.85      0.75      1632\n",
      "           2       0.87      0.64      0.73      1237\n",
      "\n",
      "    accuracy                           0.73      4344\n",
      "   macro avg       0.76      0.72      0.73      4344\n",
      "weighted avg       0.75      0.73      0.73      4344\n",
      "\n",
      "Acurácia: 0.7318\n",
      "\n",
      "Matrix de confusão:\n",
      " Predito     0     1    2   All\n",
      "Real                          \n",
      "0        1001   389   85  1475\n",
      "1         205  1389   38  1632\n",
      "2         161   287  789  1237\n",
      "All      1367  2065  912  4344 \n"
     ]
    },
    {
     "data": {
      "image/png": "[encoded data removed]",
      "text/plain": [
       "<Figure size 640x480 with 1 Axes>"
      ]
     },
     "metadata": {},
     "output_type": "display_data"
    },
    {
     "name": "stdout",
     "output_type": "stream",
     "text": [
      "\n",
      "\n",
      "\n",
      "VALIDAÇÃO CRUZADA\n",
      "\n"
     ]
    },
    {
     "name": "stderr",
     "output_type": "stream",
     "text": [
      "c:\\Users\\alsvi\\notebooks\\analise_sentimet_twitter_2023\\venv\\lib\\site-packages\\sklearn\\feature_extraction\\text.py:528: UserWarning: The parameter 'token_pattern' will not be used since 'tokenizer' is not None'\n",
      "  warnings.warn(\n",
      "c:\\Users\\alsvi\\notebooks\\analise_sentimet_twitter_2023\\venv\\lib\\site-packages\\sklearn\\feature_extraction\\text.py:528: UserWarning: The parameter 'token_pattern' will not be used since 'tokenizer' is not None'\n",
      "  warnings.warn(\n",
      "c:\\Users\\alsvi\\notebooks\\analise_sentimet_twitter_2023\\venv\\lib\\site-packages\\sklearn\\feature_extraction\\text.py:528: UserWarning: The parameter 'token_pattern' will not be used since 'tokenizer' is not None'\n",
      "  warnings.warn(\n",
      "c:\\Users\\alsvi\\notebooks\\analise_sentimet_twitter_2023\\venv\\lib\\site-packages\\sklearn\\feature_extraction\\text.py:528: UserWarning: The parameter 'token_pattern' will not be used since 'tokenizer' is not None'\n",
      "  warnings.warn(\n",
      "c:\\Users\\alsvi\\notebooks\\analise_sentimet_twitter_2023\\venv\\lib\\site-packages\\sklearn\\feature_extraction\\text.py:528: UserWarning: The parameter 'token_pattern' will not be used since 'tokenizer' is not None'\n",
      "  warnings.warn(\n",
      "c:\\Users\\alsvi\\notebooks\\analise_sentimet_twitter_2023\\venv\\lib\\site-packages\\sklearn\\feature_extraction\\text.py:528: UserWarning: The parameter 'token_pattern' will not be used since 'tokenizer' is not None'\n",
      "  warnings.warn(\n",
      "c:\\Users\\alsvi\\notebooks\\analise_sentimet_twitter_2023\\venv\\lib\\site-packages\\sklearn\\feature_extraction\\text.py:528: UserWarning: The parameter 'token_pattern' will not be used since 'tokenizer' is not None'\n",
      "  warnings.warn(\n",
      "c:\\Users\\alsvi\\notebooks\\analise_sentimet_twitter_2023\\venv\\lib\\site-packages\\sklearn\\feature_extraction\\text.py:528: UserWarning: The parameter 'token_pattern' will not be used since 'tokenizer' is not None'\n",
      "  warnings.warn(\n",
      "c:\\Users\\alsvi\\notebooks\\analise_sentimet_twitter_2023\\venv\\lib\\site-packages\\sklearn\\feature_extraction\\text.py:528: UserWarning: The parameter 'token_pattern' will not be used since 'tokenizer' is not None'\n",
      "  warnings.warn(\n",
      "c:\\Users\\alsvi\\notebooks\\analise_sentimet_twitter_2023\\venv\\lib\\site-packages\\sklearn\\feature_extraction\\text.py:528: UserWarning: The parameter 'token_pattern' will not be used since 'tokenizer' is not None'\n",
      "  warnings.warn(\n"
     ]
    },
    {
     "name": "stdout",
     "output_type": "stream",
     "text": [
      "Relatório de Classificação:\n",
      "               precision    recall  f1-score   support\n",
      "\n",
      "           0       0.72      0.66      0.69      6029\n",
      "           1       0.65      0.83      0.73      6435\n",
      "           2       0.83      0.62      0.71      4912\n",
      "\n",
      "    accuracy                           0.71     17376\n",
      "   macro avg       0.73      0.70      0.71     17376\n",
      "weighted avg       0.73      0.71      0.71     17376\n",
      "\n",
      "Acurácia: 0.7113\n",
      "\n",
      "Matrix de confusão:\n",
      " Predito     0     1     2    All\n",
      "Real                            \n",
      "0        3960  1666   403   6029\n",
      "1         846  5356   233   6435\n",
      "2         684  1185  3043   4912\n",
      "All      5490  8207  3679  17376 \n"
     ]
    },
    {
     "data": {
      "image/png": "[encoded data removed]",
      "text/plain": [
       "<Figure size 640x480 with 1 Axes>"
      ]
     },
     "metadata": {},
     "output_type": "display_data"
    },
    {
     "name": "stdout",
     "output_type": "stream",
     "text": [
      "\n",
      "\n"
     ]
    },
    {
     "name": "stderr",
     "output_type": "stream",
     "text": [
      "c:\\Users\\alsvi\\notebooks\\analise_sentimet_twitter_2023\\venv\\lib\\site-packages\\sklearn\\feature_extraction\\text.py:528: UserWarning: The parameter 'token_pattern' will not be used since 'tokenizer' is not None'\n",
      "  warnings.warn(\n"
     ]
    },
    {
     "name": "stdout",
     "output_type": "stream",
     "text": [
      "************************************************************************************************************************************\n",
      "Modelo: Pipeline(steps=[('tfidfVectorizer',\n",
      "                 TfidfVectorizer(tokenizer=<bound method TweetTokenizer.tokenize of <nltk.tokenize.casual.TweetTokenizer object at 0x0000026AC7C1B640>>)),\n",
      "                ('modelo', SVC())])\n",
      "\n",
      "AVALIANDO O MODELO\n",
      "\n",
      "Relatório de Classificação:\n",
      "               precision    recall  f1-score   support\n",
      "\n",
      "           0       0.73      0.71      0.72      1475\n",
      "           1       0.70      0.84      0.76      1632\n",
      "           2       0.86      0.68      0.76      1237\n",
      "\n",
      "    accuracy                           0.75      4344\n",
      "   macro avg       0.76      0.74      0.75      4344\n",
      "weighted avg       0.76      0.75      0.75      4344\n",
      "\n",
      "Acurácia: 0.7465\n",
      "\n",
      "Matrix de confusão:\n",
      " Predito     0     1    2   All\n",
      "Real                          \n",
      "0        1045   343   87  1475\n",
      "1         223  1363   46  1632\n",
      "2         160   242  835  1237\n",
      "All      1428  1948  968  4344 \n"
     ]
    },
    {
     "data": {
      "image/png": "[encoded data removed]",
      "text/plain": [
       "<Figure size 640x480 with 1 Axes>"
      ]
     },
     "metadata": {},
     "output_type": "display_data"
    },
    {
     "name": "stdout",
     "output_type": "stream",
     "text": [
      "\n",
      "\n",
      "\n",
      "VALIDAÇÃO CRUZADA\n",
      "\n"
     ]
    },
    {
     "name": "stderr",
     "output_type": "stream",
     "text": [
      "c:\\Users\\alsvi\\notebooks\\analise_sentimet_twitter_2023\\venv\\lib\\site-packages\\sklearn\\feature_extraction\\text.py:528: UserWarning: The parameter 'token_pattern' will not be used since 'tokenizer' is not None'\n",
      "  warnings.warn(\n",
      "c:\\Users\\alsvi\\notebooks\\analise_sentimet_twitter_2023\\venv\\lib\\site-packages\\sklearn\\feature_extraction\\text.py:528: UserWarning: The parameter 'token_pattern' will not be used since 'tokenizer' is not None'\n",
      "  warnings.warn(\n",
      "c:\\Users\\alsvi\\notebooks\\analise_sentimet_twitter_2023\\venv\\lib\\site-packages\\sklearn\\feature_extraction\\text.py:528: UserWarning: The parameter 'token_pattern' will not be used since 'tokenizer' is not None'\n",
      "  warnings.warn(\n",
      "c:\\Users\\alsvi\\notebooks\\analise_sentimet_twitter_2023\\venv\\lib\\site-packages\\sklearn\\feature_extraction\\text.py:528: UserWarning: The parameter 'token_pattern' will not be used since 'tokenizer' is not None'\n",
      "  warnings.warn(\n",
      "c:\\Users\\alsvi\\notebooks\\analise_sentimet_twitter_2023\\venv\\lib\\site-packages\\sklearn\\feature_extraction\\text.py:528: UserWarning: The parameter 'token_pattern' will not be used since 'tokenizer' is not None'\n",
      "  warnings.warn(\n",
      "c:\\Users\\alsvi\\notebooks\\analise_sentimet_twitter_2023\\venv\\lib\\site-packages\\sklearn\\feature_extraction\\text.py:528: UserWarning: The parameter 'token_pattern' will not be used since 'tokenizer' is not None'\n",
      "  warnings.warn(\n",
      "c:\\Users\\alsvi\\notebooks\\analise_sentimet_twitter_2023\\venv\\lib\\site-packages\\sklearn\\feature_extraction\\text.py:528: UserWarning: The parameter 'token_pattern' will not be used since 'tokenizer' is not None'\n",
      "  warnings.warn(\n",
      "c:\\Users\\alsvi\\notebooks\\analise_sentimet_twitter_2023\\venv\\lib\\site-packages\\sklearn\\feature_extraction\\text.py:528: UserWarning: The parameter 'token_pattern' will not be used since 'tokenizer' is not None'\n",
      "  warnings.warn(\n",
      "c:\\Users\\alsvi\\notebooks\\analise_sentimet_twitter_2023\\venv\\lib\\site-packages\\sklearn\\feature_extraction\\text.py:528: UserWarning: The parameter 'token_pattern' will not be used since 'tokenizer' is not None'\n",
      "  warnings.warn(\n",
      "c:\\Users\\alsvi\\notebooks\\analise_sentimet_twitter_2023\\venv\\lib\\site-packages\\sklearn\\feature_extraction\\text.py:528: UserWarning: The parameter 'token_pattern' will not be used since 'tokenizer' is not None'\n",
      "  warnings.warn(\n"
     ]
    },
    {
     "name": "stdout",
     "output_type": "stream",
     "text": [
      "Relatório de Classificação:\n",
      "               precision    recall  f1-score   support\n",
      "\n",
      "           0       0.72      0.68      0.70      6029\n",
      "           1       0.67      0.81      0.73      6435\n",
      "           2       0.82      0.65      0.73      4912\n",
      "\n",
      "    accuracy                           0.72     17376\n",
      "   macro avg       0.74      0.71      0.72     17376\n",
      "weighted avg       0.73      0.72      0.72     17376\n",
      "\n",
      "Acurácia: 0.7185\n",
      "\n",
      "Matrix de confusão:\n",
      " Predito     0     1     2    All\n",
      "Real                            \n",
      "0        4074  1535   420   6029\n",
      "1         947  5228   260   6435\n",
      "2         648  1081  3183   4912\n",
      "All      5669  7844  3863  17376 \n"
     ]
    },
    {
     "data": {
      "image/png": "[encoded data removed]",
      "text/plain": [
       "<Figure size 640x480 with 1 Axes>"
      ]
     },
     "metadata": {},
     "output_type": "display_data"
    },
    {
     "name": "stdout",
     "output_type": "stream",
     "text": [
      "\n",
      "\n"
     ]
    }
   ],
   "source": [
    "reports=[]\n",
    "modelos=[]\n",
    "\n",
    "for i in range(1,11):\n",
    "    modelo = escolher_pipeline(i)\n",
    "    nome = (str(modelo))# nome do modelo\n",
    "    modelo = modelo.fit(X_train, y_train)\n",
    "    modelo_pred = modelo.predict(X_test)\n",
    "    \n",
    "    #relatório\n",
    "    reports.append(metrics.classification_report(y_test, modelo_pred, output_dict=True))\n",
    "    modelos.append(nome)\n",
    "    \n",
    "    print(\"*\"*132)\n",
    "    print(f\"Modelo: {nome}\\n\")\n",
    "    print(\"AVALIANDO O MODELO\\n\")\n",
    "    matriz_confusao(y_test, modelo_pred)\n",
    "    \n",
    "    print('\\nVALIDAÇÃO CRUZADA\\n')\n",
    "    validacao_cruzada = cross_val_predict(modelo, X, y, cv=10)\n",
    "    matriz_confusao(y, validacao_cruzada)"
   ]
  },
  {
   "attachments": {},
   "cell_type": "markdown",
   "metadata": {},
   "source": [
    "## Geração do relatório para análise do melhor modelo"
   ]
  },
  {
   "cell_type": "code",
   "execution_count": 51,
   "metadata": {},
   "outputs": [],
   "source": [
    "# criando o dataframe para o relatório consolidado\n",
    "columns = ['modelo', 'f1_score', 'accuracy']\n",
    "report_df = pd.DataFrame(columns=columns)"
   ]
  },
  {
   "cell_type": "code",
   "execution_count": 52,
   "metadata": {},
   "outputs": [],
   "source": [
    "# loop para criação do relátorio consolidado\n",
    "for i in range(len(reports)):\n",
    "    report_df.loc[i] = [modelos[i],\n",
    "                    round(reports[i]['weighted avg']['f1-score'], 2), \n",
    "                    round(reports[i]['accuracy'], 2)]"
   ]
  },
  {
   "cell_type": "code",
   "execution_count": 53,
   "metadata": {},
   "outputs": [],
   "source": [
    "def formatar_nome_modelo(modelo):\n",
    "    ''' Função que formata o nome do modelo junto com o vetorizador '''\n",
    "    vec = modelo[18:33] #nome do vetorizador\n",
    "    \n",
    "    start_name = (modelo.rfind(\"modelo\")+9) #início do nome do classificador\n",
    "    end_name = (modelo.rfind('(')) #fim do nome do classificador\n",
    "    \n",
    "    classif = modelo[start_name: end_name] #nome completo do classificador\n",
    "    return(f'{classif} - {vec}')"
   ]
  },
  {
   "cell_type": "code",
   "execution_count": 54,
   "metadata": {},
   "outputs": [
    {
     "data": {
      "text/html": [
       "<div>\n",
       "<style scoped>\n",
       "    .dataframe tbody tr th:only-of-type {\n",
       "        vertical-align: middle;\n",
       "    }\n",
       "\n",
       "    .dataframe tbody tr th {\n",
       "        vertical-align: top;\n",
       "    }\n",
       "\n",
       "    .dataframe thead th {\n",
       "        text-align: right;\n",
       "    }\n",
       "</style>\n",
       "<table border=\"1\" class=\"dataframe\">\n",
       "  <thead>\n",
       "    <tr style=\"text-align: right;\">\n",
       "      <th></th>\n",
       "      <th>modelo</th>\n",
       "      <th>f1_score</th>\n",
       "      <th>accuracy</th>\n",
       "    </tr>\n",
       "  </thead>\n",
       "  <tbody>\n",
       "    <tr>\n",
       "      <th>6</th>\n",
       "      <td>SGDClassifier - countVectorizer</td>\n",
       "      <td>0.78</td>\n",
       "      <td>0.78</td>\n",
       "    </tr>\n",
       "    <tr>\n",
       "      <th>0</th>\n",
       "      <td>LogisticRegression - countVectorizer</td>\n",
       "      <td>0.77</td>\n",
       "      <td>0.78</td>\n",
       "    </tr>\n",
       "    <tr>\n",
       "      <th>7</th>\n",
       "      <td>SGDClassifier - tfidfVectorizer</td>\n",
       "      <td>0.77</td>\n",
       "      <td>0.77</td>\n",
       "    </tr>\n",
       "    <tr>\n",
       "      <th>2</th>\n",
       "      <td>PassiveAggressiveClassifier - countVectorizer</td>\n",
       "      <td>0.75</td>\n",
       "      <td>0.75</td>\n",
       "    </tr>\n",
       "    <tr>\n",
       "      <th>9</th>\n",
       "      <td>SVC - tfidfVectorizer</td>\n",
       "      <td>0.75</td>\n",
       "      <td>0.75</td>\n",
       "    </tr>\n",
       "    <tr>\n",
       "      <th>1</th>\n",
       "      <td>LogisticRegression - tfidfVectorizer</td>\n",
       "      <td>0.74</td>\n",
       "      <td>0.74</td>\n",
       "    </tr>\n",
       "    <tr>\n",
       "      <th>3</th>\n",
       "      <td>PassiveAggressiveClassifier - tfidfVectorizer</td>\n",
       "      <td>0.74</td>\n",
       "      <td>0.74</td>\n",
       "    </tr>\n",
       "    <tr>\n",
       "      <th>4</th>\n",
       "      <td>RandomForestClassifier - countVectorizer</td>\n",
       "      <td>0.74</td>\n",
       "      <td>0.74</td>\n",
       "    </tr>\n",
       "    <tr>\n",
       "      <th>5</th>\n",
       "      <td>RandomForestClassifier - tfidfVectorizer</td>\n",
       "      <td>0.74</td>\n",
       "      <td>0.74</td>\n",
       "    </tr>\n",
       "    <tr>\n",
       "      <th>8</th>\n",
       "      <td>SVC - countVectorizer</td>\n",
       "      <td>0.73</td>\n",
       "      <td>0.73</td>\n",
       "    </tr>\n",
       "  </tbody>\n",
       "</table>\n",
       "</div>"
      ],
      "text/plain": [
       "                                          modelo  f1_score  accuracy\n",
       "6                SGDClassifier - countVectorizer      0.78      0.78\n",
       "0           LogisticRegression - countVectorizer      0.77      0.78\n",
       "7                SGDClassifier - tfidfVectorizer      0.77      0.77\n",
       "2  PassiveAggressiveClassifier - countVectorizer      0.75      0.75\n",
       "9                          SVC - tfidfVectorizer      0.75      0.75\n",
       "1           LogisticRegression - tfidfVectorizer      0.74      0.74\n",
       "3  PassiveAggressiveClassifier - tfidfVectorizer      0.74      0.74\n",
       "4       RandomForestClassifier - countVectorizer      0.74      0.74\n",
       "5       RandomForestClassifier - tfidfVectorizer      0.74      0.74\n",
       "8                          SVC - countVectorizer      0.73      0.73"
      ]
     },
     "execution_count": 54,
     "metadata": {},
     "output_type": "execute_result"
    }
   ],
   "source": [
    "report_df['modelo'] = report_df['modelo'].apply(formatar_nome_modelo)\n",
    "report_df.sort_values(by='f1_score', ascending=False)"
   ]
  }
 ],
 "metadata": {
  "kernelspec": {
   "display_name": "venv",
   "language": "python",
   "name": "python3"
  },
  "language_info": {
   "codemirror_mode": {
    "name": "ipython",
    "version": 3
   },
   "file_extension": ".py",
   "mimetype": "text/x-python",
   "name": "python",
   "nbconvert_exporter": "python",
   "pygments_lexer": "ipython3",
   "version": "3.10.8"
  },
  "orig_nbformat": 4,
  "vscode": {
   "interpreter": {
    "hash": "e3971530ebee88d17684850d55f1a01c02cb93a6b767f3eec2f2091aded2f323"
   }
  }
 },
 "nbformat": 4,
 "nbformat_minor": 2
}
