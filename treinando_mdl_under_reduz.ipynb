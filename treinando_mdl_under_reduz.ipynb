{
 "cells": [
  {
   "cell_type": "code",
   "execution_count": 1,
   "metadata": {},
   "outputs": [],
   "source": [
    "import pandas as pd"
   ]
  },
  {
   "attachments": {},
   "cell_type": "markdown",
   "metadata": {},
   "source": [
    "## Carregando o dataset"
   ]
  },
  {
   "cell_type": "code",
   "execution_count": 2,
   "metadata": {},
   "outputs": [
    {
     "data": {
      "text/html": [
       "<div>\n",
       "<style scoped>\n",
       "    .dataframe tbody tr th:only-of-type {\n",
       "        vertical-align: middle;\n",
       "    }\n",
       "\n",
       "    .dataframe tbody tr th {\n",
       "        vertical-align: top;\n",
       "    }\n",
       "\n",
       "    .dataframe thead th {\n",
       "        text-align: right;\n",
       "    }\n",
       "</style>\n",
       "<table border=\"1\" class=\"dataframe\">\n",
       "  <thead>\n",
       "    <tr style=\"text-align: right;\">\n",
       "      <th></th>\n",
       "      <th>Unnamed: 0</th>\n",
       "      <th>created_at</th>\n",
       "      <th>id</th>\n",
       "      <th>id_str</th>\n",
       "      <th>text</th>\n",
       "      <th>truncated</th>\n",
       "      <th>entities</th>\n",
       "      <th>extended_entities</th>\n",
       "      <th>metadata</th>\n",
       "      <th>source</th>\n",
       "      <th>...</th>\n",
       "      <th>is_quote_status</th>\n",
       "      <th>retweet_count</th>\n",
       "      <th>favorite_count</th>\n",
       "      <th>favorited</th>\n",
       "      <th>retweeted</th>\n",
       "      <th>possibly_sensitive</th>\n",
       "      <th>lang</th>\n",
       "      <th>trend_t</th>\n",
       "      <th>score</th>\n",
       "      <th>sentiment</th>\n",
       "    </tr>\n",
       "  </thead>\n",
       "  <tbody>\n",
       "    <tr>\n",
       "      <th>0</th>\n",
       "      <td>0</td>\n",
       "      <td>Wed Feb 22 19:05:12 +0000 2023</td>\n",
       "      <td>1628470980925423620</td>\n",
       "      <td>1628470980925423620</td>\n",
       "      <td>Como atuam\\n#MoonlightChickenEP5 \\n#HEARTLIMIN...</td>\n",
       "      <td>False</td>\n",
       "      <td>{'hashtags': [{'text': 'MoonlightChickenEP5', ...</td>\n",
       "      <td>{'media': [{'id': 1628470977553174528, 'id_str...</td>\n",
       "      <td>{'iso_language_code': 'pt', 'result_type': 're...</td>\n",
       "      <td>&lt;a href=\"http://twitter.com/download/android\" ...</td>\n",
       "      <td>...</td>\n",
       "      <td>False</td>\n",
       "      <td>0</td>\n",
       "      <td>0</td>\n",
       "      <td>False</td>\n",
       "      <td>False</td>\n",
       "      <td>False</td>\n",
       "      <td>pt</td>\n",
       "      <td>MoonlightChickenEP5</td>\n",
       "      <td>0.0000</td>\n",
       "      <td>1</td>\n",
       "    </tr>\n",
       "    <tr>\n",
       "      <th>1</th>\n",
       "      <td>1</td>\n",
       "      <td>Wed Feb 22 19:03:55 +0000 2023</td>\n",
       "      <td>1628470659444613122</td>\n",
       "      <td>1628470659444613122</td>\n",
       "      <td>Eles me fazem acreditar que, relacionamento en...</td>\n",
       "      <td>True</td>\n",
       "      <td>{'hashtags': [], 'symbols': [], 'user_mentions...</td>\n",
       "      <td>NaN</td>\n",
       "      <td>{'iso_language_code': 'pt', 'result_type': 're...</td>\n",
       "      <td>&lt;a href=\"http://twitter.com/download/android\" ...</td>\n",
       "      <td>...</td>\n",
       "      <td>False</td>\n",
       "      <td>0</td>\n",
       "      <td>0</td>\n",
       "      <td>False</td>\n",
       "      <td>False</td>\n",
       "      <td>False</td>\n",
       "      <td>pt</td>\n",
       "      <td>MoonlightChickenEP5</td>\n",
       "      <td>0.2263</td>\n",
       "      <td>2</td>\n",
       "    </tr>\n",
       "    <tr>\n",
       "      <th>2</th>\n",
       "      <td>2</td>\n",
       "      <td>Wed Feb 22 19:03:34 +0000 2023</td>\n",
       "      <td>1628470570709925890</td>\n",
       "      <td>1628470570709925890</td>\n",
       "      <td>pq eu sinto q isso aqui vai dar muito briga???...</td>\n",
       "      <td>False</td>\n",
       "      <td>{'hashtags': [{'text': 'MoonlightChickenEP5', ...</td>\n",
       "      <td>{'media': [{'id': 1628470563600490502, 'id_str...</td>\n",
       "      <td>{'iso_language_code': 'pt', 'result_type': 're...</td>\n",
       "      <td>&lt;a href=\"http://twitter.com/download/android\" ...</td>\n",
       "      <td>...</td>\n",
       "      <td>False</td>\n",
       "      <td>0</td>\n",
       "      <td>0</td>\n",
       "      <td>False</td>\n",
       "      <td>False</td>\n",
       "      <td>False</td>\n",
       "      <td>pt</td>\n",
       "      <td>MoonlightChickenEP5</td>\n",
       "      <td>0.0000</td>\n",
       "      <td>1</td>\n",
       "    </tr>\n",
       "    <tr>\n",
       "      <th>3</th>\n",
       "      <td>3</td>\n",
       "      <td>Wed Feb 22 19:03:22 +0000 2023</td>\n",
       "      <td>1628470520084676610</td>\n",
       "      <td>1628470520084676610</td>\n",
       "      <td>O nome salvo dos dois nos Contatos. Fofos.🤏🏽\\n...</td>\n",
       "      <td>False</td>\n",
       "      <td>{'hashtags': [{'text': 'MoonlightChickenEP5', ...</td>\n",
       "      <td>{'media': [{'id': 1628470511100481538, 'id_str...</td>\n",
       "      <td>{'iso_language_code': 'pt', 'result_type': 're...</td>\n",
       "      <td>&lt;a href=\"http://twitter.com/download/iphone\" r...</td>\n",
       "      <td>...</td>\n",
       "      <td>False</td>\n",
       "      <td>1</td>\n",
       "      <td>2</td>\n",
       "      <td>False</td>\n",
       "      <td>False</td>\n",
       "      <td>False</td>\n",
       "      <td>pt</td>\n",
       "      <td>MoonlightChickenEP5</td>\n",
       "      <td>0.0000</td>\n",
       "      <td>1</td>\n",
       "    </tr>\n",
       "    <tr>\n",
       "      <th>4</th>\n",
       "      <td>4</td>\n",
       "      <td>Wed Feb 22 19:03:10 +0000 2023</td>\n",
       "      <td>1628470471942455297</td>\n",
       "      <td>1628470471942455297</td>\n",
       "      <td>\"Os peixes grandes sempre comem os peixes pequ...</td>\n",
       "      <td>True</td>\n",
       "      <td>{'hashtags': [], 'symbols': [], 'user_mentions...</td>\n",
       "      <td>NaN</td>\n",
       "      <td>{'iso_language_code': 'pt', 'result_type': 're...</td>\n",
       "      <td>&lt;a href=\"http://twitter.com/download/android\" ...</td>\n",
       "      <td>...</td>\n",
       "      <td>False</td>\n",
       "      <td>0</td>\n",
       "      <td>0</td>\n",
       "      <td>False</td>\n",
       "      <td>False</td>\n",
       "      <td>NaN</td>\n",
       "      <td>pt</td>\n",
       "      <td>MoonlightChickenEP5</td>\n",
       "      <td>0.5423</td>\n",
       "      <td>2</td>\n",
       "    </tr>\n",
       "  </tbody>\n",
       "</table>\n",
       "<p>5 rows × 30 columns</p>\n",
       "</div>"
      ],
      "text/plain": [
       "   Unnamed: 0                      created_at                   id  \\\n",
       "0           0  Wed Feb 22 19:05:12 +0000 2023  1628470980925423620   \n",
       "1           1  Wed Feb 22 19:03:55 +0000 2023  1628470659444613122   \n",
       "2           2  Wed Feb 22 19:03:34 +0000 2023  1628470570709925890   \n",
       "3           3  Wed Feb 22 19:03:22 +0000 2023  1628470520084676610   \n",
       "4           4  Wed Feb 22 19:03:10 +0000 2023  1628470471942455297   \n",
       "\n",
       "                id_str                                               text  \\\n",
       "0  1628470980925423620  Como atuam\\n#MoonlightChickenEP5 \\n#HEARTLIMIN...   \n",
       "1  1628470659444613122  Eles me fazem acreditar que, relacionamento en...   \n",
       "2  1628470570709925890  pq eu sinto q isso aqui vai dar muito briga???...   \n",
       "3  1628470520084676610  O nome salvo dos dois nos Contatos. Fofos.🤏🏽\\n...   \n",
       "4  1628470471942455297  \"Os peixes grandes sempre comem os peixes pequ...   \n",
       "\n",
       "   truncated                                           entities  \\\n",
       "0      False  {'hashtags': [{'text': 'MoonlightChickenEP5', ...   \n",
       "1       True  {'hashtags': [], 'symbols': [], 'user_mentions...   \n",
       "2      False  {'hashtags': [{'text': 'MoonlightChickenEP5', ...   \n",
       "3      False  {'hashtags': [{'text': 'MoonlightChickenEP5', ...   \n",
       "4       True  {'hashtags': [], 'symbols': [], 'user_mentions...   \n",
       "\n",
       "                                   extended_entities  \\\n",
       "0  {'media': [{'id': 1628470977553174528, 'id_str...   \n",
       "1                                                NaN   \n",
       "2  {'media': [{'id': 1628470563600490502, 'id_str...   \n",
       "3  {'media': [{'id': 1628470511100481538, 'id_str...   \n",
       "4                                                NaN   \n",
       "\n",
       "                                            metadata  \\\n",
       "0  {'iso_language_code': 'pt', 'result_type': 're...   \n",
       "1  {'iso_language_code': 'pt', 'result_type': 're...   \n",
       "2  {'iso_language_code': 'pt', 'result_type': 're...   \n",
       "3  {'iso_language_code': 'pt', 'result_type': 're...   \n",
       "4  {'iso_language_code': 'pt', 'result_type': 're...   \n",
       "\n",
       "                                              source  ...  is_quote_status  \\\n",
       "0  <a href=\"http://twitter.com/download/android\" ...  ...            False   \n",
       "1  <a href=\"http://twitter.com/download/android\" ...  ...            False   \n",
       "2  <a href=\"http://twitter.com/download/android\" ...  ...            False   \n",
       "3  <a href=\"http://twitter.com/download/iphone\" r...  ...            False   \n",
       "4  <a href=\"http://twitter.com/download/android\" ...  ...            False   \n",
       "\n",
       "   retweet_count  favorite_count  favorited retweeted possibly_sensitive  \\\n",
       "0              0               0      False     False              False   \n",
       "1              0               0      False     False              False   \n",
       "2              0               0      False     False              False   \n",
       "3              1               2      False     False              False   \n",
       "4              0               0      False     False                NaN   \n",
       "\n",
       "   lang              trend_t   score  sentiment  \n",
       "0    pt  MoonlightChickenEP5  0.0000          1  \n",
       "1    pt  MoonlightChickenEP5  0.2263          2  \n",
       "2    pt  MoonlightChickenEP5  0.0000          1  \n",
       "3    pt  MoonlightChickenEP5  0.0000          1  \n",
       "4    pt  MoonlightChickenEP5  0.5423          2  \n",
       "\n",
       "[5 rows x 30 columns]"
      ]
     },
     "execution_count": 2,
     "metadata": {},
     "output_type": "execute_result"
    }
   ],
   "source": [
    "df = pd.read_csv('tweets_raw_sem_duplicata.csv')\n",
    "df.head()"
   ]
  },
  {
   "cell_type": "code",
   "execution_count": 3,
   "metadata": {},
   "outputs": [
    {
     "data": {
      "text/html": [
       "<div>\n",
       "<style scoped>\n",
       "    .dataframe tbody tr th:only-of-type {\n",
       "        vertical-align: middle;\n",
       "    }\n",
       "\n",
       "    .dataframe tbody tr th {\n",
       "        vertical-align: top;\n",
       "    }\n",
       "\n",
       "    .dataframe thead th {\n",
       "        text-align: right;\n",
       "    }\n",
       "</style>\n",
       "<table border=\"1\" class=\"dataframe\">\n",
       "  <thead>\n",
       "    <tr style=\"text-align: right;\">\n",
       "      <th></th>\n",
       "      <th>text</th>\n",
       "      <th>trend_t</th>\n",
       "      <th>sentiment</th>\n",
       "    </tr>\n",
       "  </thead>\n",
       "  <tbody>\n",
       "    <tr>\n",
       "      <th>0</th>\n",
       "      <td>Como atuam\\n#MoonlightChickenEP5 \\n#HEARTLIMIN...</td>\n",
       "      <td>MoonlightChickenEP5</td>\n",
       "      <td>1</td>\n",
       "    </tr>\n",
       "    <tr>\n",
       "      <th>1</th>\n",
       "      <td>Eles me fazem acreditar que, relacionamento en...</td>\n",
       "      <td>MoonlightChickenEP5</td>\n",
       "      <td>2</td>\n",
       "    </tr>\n",
       "    <tr>\n",
       "      <th>2</th>\n",
       "      <td>pq eu sinto q isso aqui vai dar muito briga???...</td>\n",
       "      <td>MoonlightChickenEP5</td>\n",
       "      <td>1</td>\n",
       "    </tr>\n",
       "    <tr>\n",
       "      <th>3</th>\n",
       "      <td>O nome salvo dos dois nos Contatos. Fofos.🤏🏽\\n...</td>\n",
       "      <td>MoonlightChickenEP5</td>\n",
       "      <td>1</td>\n",
       "    </tr>\n",
       "    <tr>\n",
       "      <th>4</th>\n",
       "      <td>\"Os peixes grandes sempre comem os peixes pequ...</td>\n",
       "      <td>MoonlightChickenEP5</td>\n",
       "      <td>2</td>\n",
       "    </tr>\n",
       "  </tbody>\n",
       "</table>\n",
       "</div>"
      ],
      "text/plain": [
       "                                                text              trend_t  \\\n",
       "0  Como atuam\\n#MoonlightChickenEP5 \\n#HEARTLIMIN...  MoonlightChickenEP5   \n",
       "1  Eles me fazem acreditar que, relacionamento en...  MoonlightChickenEP5   \n",
       "2  pq eu sinto q isso aqui vai dar muito briga???...  MoonlightChickenEP5   \n",
       "3  O nome salvo dos dois nos Contatos. Fofos.🤏🏽\\n...  MoonlightChickenEP5   \n",
       "4  \"Os peixes grandes sempre comem os peixes pequ...  MoonlightChickenEP5   \n",
       "\n",
       "   sentiment  \n",
       "0          1  \n",
       "1          2  \n",
       "2          1  \n",
       "3          1  \n",
       "4          2  "
      ]
     },
     "execution_count": 3,
     "metadata": {},
     "output_type": "execute_result"
    }
   ],
   "source": [
    "# separando apenas as variáveis que quero visualizar\n",
    "tweet_df = df[['text','trend_t','sentiment']]\n",
    "tweet_df.head()"
   ]
  },
  {
   "cell_type": "code",
   "execution_count": 4,
   "metadata": {},
   "outputs": [
    {
     "data": {
      "text/plain": [
       "1    6435\n",
       "0    6029\n",
       "2    4912\n",
       "Name: sentiment, dtype: int64"
      ]
     },
     "execution_count": 4,
     "metadata": {},
     "output_type": "execute_result"
    }
   ],
   "source": [
    "tweet_df['sentiment'].value_counts()"
   ]
  },
  {
   "cell_type": "code",
   "execution_count": 5,
   "metadata": {},
   "outputs": [
    {
     "data": {
      "image/png": "[encoded data removed]",
      "text/plain": [
       "<Figure size 640x480 with 1 Axes>"
      ]
     },
     "metadata": {},
     "output_type": "display_data"
    }
   ],
   "source": [
    "# visualizando os dados em gráfico\n",
    "import matplotlib.pyplot as plt\n",
    "import seaborn as sns\n",
    "\n",
    "sns.countplot(x=tweet_df.sentiment)\n",
    "plt.xlabel('class')\n",
    "plt.ylabel('tweets')\n",
    "plt.show();"
   ]
  },
  {
   "attachments": {},
   "cell_type": "markdown",
   "metadata": {},
   "source": [
    "## Efentuando a limpeza dos dados"
   ]
  },
  {
   "cell_type": "code",
   "execution_count": 6,
   "metadata": {},
   "outputs": [
    {
     "name": "stdout",
     "output_type": "stream",
     "text": [
      "Requirement already satisfied: nltk in c:\\users\\alsvi\\notebooks\\analise_sentimet_twitter_2023\\venv\\lib\\site-packages (3.8.1)\n",
      "Requirement already satisfied: joblib in c:\\users\\alsvi\\notebooks\\analise_sentimet_twitter_2023\\venv\\lib\\site-packages (from nltk) (1.2.0)\n",
      "Requirement already satisfied: click in c:\\users\\alsvi\\notebooks\\analise_sentimet_twitter_2023\\venv\\lib\\site-packages (from nltk) (8.1.3)\n",
      "Requirement already satisfied: tqdm in c:\\users\\alsvi\\notebooks\\analise_sentimet_twitter_2023\\venv\\lib\\site-packages (from nltk) (4.64.1)\n",
      "Requirement already satisfied: regex>=2021.8.3 in c:\\users\\alsvi\\notebooks\\analise_sentimet_twitter_2023\\venv\\lib\\site-packages (from nltk) (2022.10.31)\n",
      "Requirement already satisfied: colorama in c:\\users\\alsvi\\notebooks\\analise_sentimet_twitter_2023\\venv\\lib\\site-packages (from click->nltk) (0.4.6)\n",
      "Note: you may need to restart the kernel to use updated packages.\n"
     ]
    }
   ],
   "source": [
    "%pip install nltk"
   ]
  },
  {
   "cell_type": "code",
   "execution_count": 7,
   "metadata": {},
   "outputs": [
    {
     "name": "stderr",
     "output_type": "stream",
     "text": [
      "C:\\Users\\alsvi\\AppData\\Local\\Programs\\Python\\Python310\\lib\\runpy.py:126: RuntimeWarning: 'nltk.downloader' found in sys.modules after import of package 'nltk', but prior to execution of 'nltk.downloader'; this may result in unpredictable behaviour\n",
      "  warn(RuntimeWarning(msg))\n",
      "[nltk_data] Downloading package stopwords to\n",
      "[nltk_data]     C:\\Users\\alsvi\\AppData\\Roaming\\nltk_data...\n",
      "[nltk_data]   Package stopwords is already up-to-date!\n"
     ]
    }
   ],
   "source": [
    "# baixando as stopwords\n",
    "!python -m nltk.downloader stopwords"
   ]
  },
  {
   "cell_type": "code",
   "execution_count": 8,
   "metadata": {},
   "outputs": [],
   "source": [
    "import nltk\n",
    "import re"
   ]
  },
  {
   "cell_type": "code",
   "execution_count": 9,
   "metadata": {},
   "outputs": [],
   "source": [
    "def remove_caracteres(instancia):\n",
    "    ''' \n",
    "    Função de remoção de caracteres:\n",
    "    'http\\S+' - remove url \n",
    "    lower() - tranforma o texto em minúsculo\n",
    "    '[0-9]+' - remove números\n",
    "    '[^\\w\\s]' -  remove pontuação\n",
    "    '[!#$%^&*()]' - remove caractéres espaciais\n",
    "    '''\n",
    "    instancia = re.sub(r'http\\S+', '', instancia).lower()\n",
    "    instancia = re.sub(r'[0-9]+', '', instancia)\n",
    "    instancia = re.sub(r'[^\\w\\s]', '', instancia)\n",
    "    instancia = re.sub('[!#$%^&*()]', '', instancia)\n",
    "    stopwords = set(nltk.corpus.stopwords.words('portuguese'))\n",
    "    palavras = [i for i in instancia.split() if not i in stopwords]\n",
    "    return (' '.join(palavras))"
   ]
  },
  {
   "cell_type": "code",
   "execution_count": 10,
   "metadata": {},
   "outputs": [],
   "source": [
    "def remove_emojis(string):\n",
    "    '''Função que remove emojis'''\n",
    "    emoji_pattern = re.compile(\"[\"\n",
    "                                u\"\\U0001F600-\\U0001F64F\"  # emoticons\n",
    "                                u\"\\U0001F300-\\U0001F5FF\"  # symbols & pictographs\n",
    "                                u\"\\U0001F680-\\U0001F6FF\"  # transport & map symbols\n",
    "                                u\"\\U0001F1E0-\\U0001F1FF\"  # flags (iOS)\n",
    "                                u\"\\U00002500-\\U00002BEF\"  # chinese char\n",
    "                                u\"\\U00002702-\\U000027B0\"\n",
    "                                u\"\\U00002702-\\U000027B0\"\n",
    "                                u\"\\U000024C2-\\U0001F251\"\n",
    "                                u\"\\U0001f926-\\U0001f937\"\n",
    "                                u\"\\U00010000-\\U0010ffff\"\n",
    "                                u\"\\u2640-\\u2642\"\n",
    "                                u\"\\u2600-\\u2B55\"\n",
    "                                u\"\\u200d\"\n",
    "                                u\"\\u23cf\"\n",
    "                                u\"\\u23e9\"\n",
    "                                u\"\\u231a\"\n",
    "                                u\"\\ufe0f\"  # dingbats\n",
    "                                u\"\\u3030\"\n",
    "                                \"]+\", flags=re.UNICODE)\n",
    "    return emoji_pattern.sub(r'', string)"
   ]
  },
  {
   "cell_type": "code",
   "execution_count": 11,
   "metadata": {},
   "outputs": [
    {
     "name": "stderr",
     "output_type": "stream",
     "text": [
      "C:\\Users\\alsvi\\AppData\\Local\\Temp\\ipykernel_17812\\1715463276.py:2: SettingWithCopyWarning: \n",
      "A value is trying to be set on a copy of a slice from a DataFrame.\n",
      "Try using .loc[row_indexer,col_indexer] = value instead\n",
      "\n",
      "See the caveats in the documentation: https://pandas.pydata.org/pandas-docs/stable/user_guide/indexing.html#returning-a-view-versus-a-copy\n",
      "  tweet_df['text_clean'] = tweet_df['text'].apply(remove_caracteres).apply(remove_emojis)\n"
     ]
    },
    {
     "data": {
      "text/html": [
       "<div>\n",
       "<style scoped>\n",
       "    .dataframe tbody tr th:only-of-type {\n",
       "        vertical-align: middle;\n",
       "    }\n",
       "\n",
       "    .dataframe tbody tr th {\n",
       "        vertical-align: top;\n",
       "    }\n",
       "\n",
       "    .dataframe thead th {\n",
       "        text-align: right;\n",
       "    }\n",
       "</style>\n",
       "<table border=\"1\" class=\"dataframe\">\n",
       "  <thead>\n",
       "    <tr style=\"text-align: right;\">\n",
       "      <th></th>\n",
       "      <th>text</th>\n",
       "      <th>trend_t</th>\n",
       "      <th>sentiment</th>\n",
       "      <th>text_clean</th>\n",
       "    </tr>\n",
       "  </thead>\n",
       "  <tbody>\n",
       "    <tr>\n",
       "      <th>0</th>\n",
       "      <td>Como atuam\\n#MoonlightChickenEP5 \\n#HEARTLIMING https://t.co/Tbp1Gdy7ll</td>\n",
       "      <td>MoonlightChickenEP5</td>\n",
       "      <td>1</td>\n",
       "      <td>atuam moonlightchickenep heartliming</td>\n",
       "    </tr>\n",
       "    <tr>\n",
       "      <th>1</th>\n",
       "      <td>Eles me fazem acreditar que, relacionamento entre amigos, não funciona, mais cedo ou mais tarde, vai desmoronar 😭.… https://t.co/P0Cjt7iTyU</td>\n",
       "      <td>MoonlightChickenEP5</td>\n",
       "      <td>2</td>\n",
       "      <td>fazem acreditar relacionamento amigos funciona cedo tarde vai desmoronar</td>\n",
       "    </tr>\n",
       "    <tr>\n",
       "      <th>2</th>\n",
       "      <td>pq eu sinto q isso aqui vai dar muito briga?????? #MoonlightChickenEP5 https://t.co/WHzEhLJK62</td>\n",
       "      <td>MoonlightChickenEP5</td>\n",
       "      <td>1</td>\n",
       "      <td>pq sinto q aqui vai dar briga moonlightchickenep</td>\n",
       "    </tr>\n",
       "    <tr>\n",
       "      <th>3</th>\n",
       "      <td>O nome salvo dos dois nos Contatos. Fofos.🤏🏽\\n#MoonlightChickenEP5 https://t.co/u85vXyh2nM</td>\n",
       "      <td>MoonlightChickenEP5</td>\n",
       "      <td>1</td>\n",
       "      <td>nome salvo dois contatos fofos moonlightchickenep</td>\n",
       "    </tr>\n",
       "    <tr>\n",
       "      <th>4</th>\n",
       "      <td>\"Os peixes grandes sempre comem os peixes pequenos\"\\n\"O importante e ele ter dinheiro, pq quem tem dinheiro sempre v… https://t.co/oGCAXGEqJ0</td>\n",
       "      <td>MoonlightChickenEP5</td>\n",
       "      <td>2</td>\n",
       "      <td>peixes grandes sempre comem peixes pequenos importante ter dinheiro pq dinheiro sempre v</td>\n",
       "    </tr>\n",
       "  </tbody>\n",
       "</table>\n",
       "</div>"
      ],
      "text/plain": [
       "                                                                                                                                            text  \\\n",
       "0                                                                        Como atuam\\n#MoonlightChickenEP5 \\n#HEARTLIMING https://t.co/Tbp1Gdy7ll   \n",
       "1    Eles me fazem acreditar que, relacionamento entre amigos, não funciona, mais cedo ou mais tarde, vai desmoronar 😭.… https://t.co/P0Cjt7iTyU   \n",
       "2                                                 pq eu sinto q isso aqui vai dar muito briga?????? #MoonlightChickenEP5 https://t.co/WHzEhLJK62   \n",
       "3                                                     O nome salvo dos dois nos Contatos. Fofos.🤏🏽\\n#MoonlightChickenEP5 https://t.co/u85vXyh2nM   \n",
       "4  \"Os peixes grandes sempre comem os peixes pequenos\"\\n\"O importante e ele ter dinheiro, pq quem tem dinheiro sempre v… https://t.co/oGCAXGEqJ0   \n",
       "\n",
       "               trend_t  sentiment  \\\n",
       "0  MoonlightChickenEP5          1   \n",
       "1  MoonlightChickenEP5          2   \n",
       "2  MoonlightChickenEP5          1   \n",
       "3  MoonlightChickenEP5          1   \n",
       "4  MoonlightChickenEP5          2   \n",
       "\n",
       "                                                                                 text_clean  \n",
       "0                                                      atuam moonlightchickenep heartliming  \n",
       "1                  fazem acreditar relacionamento amigos funciona cedo tarde vai desmoronar  \n",
       "2                                          pq sinto q aqui vai dar briga moonlightchickenep  \n",
       "3                                         nome salvo dois contatos fofos moonlightchickenep  \n",
       "4  peixes grandes sempre comem peixes pequenos importante ter dinheiro pq dinheiro sempre v  "
      ]
     },
     "execution_count": 11,
     "metadata": {},
     "output_type": "execute_result"
    }
   ],
   "source": [
    "# aplicando a limpeza dos dados\n",
    "tweet_df['text_clean'] = tweet_df['text'].apply(remove_caracteres).apply(remove_emojis)\n",
    "\n",
    "pd.set_option('display.max_colwidth', None)\n",
    "tweet_df.head()"
   ]
  },
  {
   "attachments": {},
   "cell_type": "markdown",
   "metadata": {},
   "source": [
    "## Lematização com Spacy"
   ]
  },
  {
   "cell_type": "code",
   "execution_count": 12,
   "metadata": {},
   "outputs": [
    {
     "name": "stdout",
     "output_type": "stream",
     "text": [
      "Requirement already satisfied: pip in c:\\users\\alsvi\\notebooks\\analise_sentimet_twitter_2023\\venv\\lib\\site-packages (23.0.1)\n",
      "Requirement already satisfied: setuptools in c:\\users\\alsvi\\notebooks\\analise_sentimet_twitter_2023\\venv\\lib\\site-packages (67.4.0)\n",
      "Requirement already satisfied: wheel in c:\\users\\alsvi\\notebooks\\analise_sentimet_twitter_2023\\venv\\lib\\site-packages (0.38.4)\n",
      "Note: you may need to restart the kernel to use updated packages.\n",
      "Requirement already satisfied: spacy in c:\\users\\alsvi\\notebooks\\analise_sentimet_twitter_2023\\venv\\lib\\site-packages (3.5.0)\n",
      "Requirement already satisfied: spacy-loggers<2.0.0,>=1.0.0 in c:\\users\\alsvi\\notebooks\\analise_sentimet_twitter_2023\\venv\\lib\\site-packages (from spacy) (1.0.4)\n",
      "Requirement already satisfied: setuptools in c:\\users\\alsvi\\notebooks\\analise_sentimet_twitter_2023\\venv\\lib\\site-packages (from spacy) (67.4.0)\n",
      "Requirement already satisfied: typer<0.8.0,>=0.3.0 in c:\\users\\alsvi\\notebooks\\analise_sentimet_twitter_2023\\venv\\lib\\site-packages (from spacy) (0.7.0)\n",
      "Requirement already satisfied: langcodes<4.0.0,>=3.2.0 in c:\\users\\alsvi\\notebooks\\analise_sentimet_twitter_2023\\venv\\lib\\site-packages (from spacy) (3.3.0)\n",
      "Requirement already satisfied: smart-open<7.0.0,>=5.2.1 in c:\\users\\alsvi\\notebooks\\analise_sentimet_twitter_2023\\venv\\lib\\site-packages (from spacy) (6.3.0)\n",
      "Requirement already satisfied: requests<3.0.0,>=2.13.0 in c:\\users\\alsvi\\notebooks\\analise_sentimet_twitter_2023\\venv\\lib\\site-packages (from spacy) (2.28.2)\n",
      "Requirement already satisfied: catalogue<2.1.0,>=2.0.6 in c:\\users\\alsvi\\notebooks\\analise_sentimet_twitter_2023\\venv\\lib\\site-packages (from spacy) (2.0.8)\n",
      "Requirement already satisfied: preshed<3.1.0,>=3.0.2 in c:\\users\\alsvi\\notebooks\\analise_sentimet_twitter_2023\\venv\\lib\\site-packages (from spacy) (3.0.8)\n",
      "Requirement already satisfied: murmurhash<1.1.0,>=0.28.0 in c:\\users\\alsvi\\notebooks\\analise_sentimet_twitter_2023\\venv\\lib\\site-packages (from spacy) (1.0.9)\n",
      "Requirement already satisfied: thinc<8.2.0,>=8.1.0 in c:\\users\\alsvi\\notebooks\\analise_sentimet_twitter_2023\\venv\\lib\\site-packages (from spacy) (8.1.7)\n",
      "Requirement already satisfied: srsly<3.0.0,>=2.4.3 in c:\\users\\alsvi\\notebooks\\analise_sentimet_twitter_2023\\venv\\lib\\site-packages (from spacy) (2.4.5)\n",
      "Requirement already satisfied: wasabi<1.2.0,>=0.9.1 in c:\\users\\alsvi\\notebooks\\analise_sentimet_twitter_2023\\venv\\lib\\site-packages (from spacy) (1.1.1)\n",
      "Requirement already satisfied: spacy-legacy<3.1.0,>=3.0.11 in c:\\users\\alsvi\\notebooks\\analise_sentimet_twitter_2023\\venv\\lib\\site-packages (from spacy) (3.0.12)\n",
      "Requirement already satisfied: pathy>=0.10.0 in c:\\users\\alsvi\\notebooks\\analise_sentimet_twitter_2023\\venv\\lib\\site-packages (from spacy) (0.10.1)\n",
      "Requirement already satisfied: cymem<2.1.0,>=2.0.2 in c:\\users\\alsvi\\notebooks\\analise_sentimet_twitter_2023\\venv\\lib\\site-packages (from spacy) (2.0.7)\n",
      "Requirement already satisfied: pydantic!=1.8,!=1.8.1,<1.11.0,>=1.7.4 in c:\\users\\alsvi\\notebooks\\analise_sentimet_twitter_2023\\venv\\lib\\site-packages (from spacy) (1.10.4)\n",
      "Requirement already satisfied: jinja2 in c:\\users\\alsvi\\notebooks\\analise_sentimet_twitter_2023\\venv\\lib\\site-packages (from spacy) (3.1.2)\n",
      "Requirement already satisfied: tqdm<5.0.0,>=4.38.0 in c:\\users\\alsvi\\notebooks\\analise_sentimet_twitter_2023\\venv\\lib\\site-packages (from spacy) (4.64.1)\n",
      "Requirement already satisfied: packaging>=20.0 in c:\\users\\alsvi\\notebooks\\analise_sentimet_twitter_2023\\venv\\lib\\site-packages (from spacy) (23.0)\n",
      "Requirement already satisfied: numpy>=1.15.0 in c:\\users\\alsvi\\notebooks\\analise_sentimet_twitter_2023\\venv\\lib\\site-packages (from spacy) (1.24.1)\n",
      "Requirement already satisfied: typing-extensions>=4.2.0 in c:\\users\\alsvi\\notebooks\\analise_sentimet_twitter_2023\\venv\\lib\\site-packages (from pydantic!=1.8,!=1.8.1,<1.11.0,>=1.7.4->spacy) (4.4.0)\n",
      "Requirement already satisfied: certifi>=2017.4.17 in c:\\users\\alsvi\\notebooks\\analise_sentimet_twitter_2023\\venv\\lib\\site-packages (from requests<3.0.0,>=2.13.0->spacy) (2022.12.7)\n",
      "Requirement already satisfied: idna<4,>=2.5 in c:\\users\\alsvi\\notebooks\\analise_sentimet_twitter_2023\\venv\\lib\\site-packages (from requests<3.0.0,>=2.13.0->spacy) (3.4)\n",
      "Requirement already satisfied: urllib3<1.27,>=1.21.1 in c:\\users\\alsvi\\notebooks\\analise_sentimet_twitter_2023\\venv\\lib\\site-packages (from requests<3.0.0,>=2.13.0->spacy) (1.26.14)\n",
      "Requirement already satisfied: charset-normalizer<4,>=2 in c:\\users\\alsvi\\notebooks\\analise_sentimet_twitter_2023\\venv\\lib\\site-packages (from requests<3.0.0,>=2.13.0->spacy) (3.0.1)\n",
      "Requirement already satisfied: blis<0.8.0,>=0.7.8 in c:\\users\\alsvi\\notebooks\\analise_sentimet_twitter_2023\\venv\\lib\\site-packages (from thinc<8.2.0,>=8.1.0->spacy) (0.7.9)\n",
      "Requirement already satisfied: confection<1.0.0,>=0.0.1 in c:\\users\\alsvi\\notebooks\\analise_sentimet_twitter_2023\\venv\\lib\\site-packages (from thinc<8.2.0,>=8.1.0->spacy) (0.0.4)\n",
      "Requirement already satisfied: colorama in c:\\users\\alsvi\\notebooks\\analise_sentimet_twitter_2023\\venv\\lib\\site-packages (from tqdm<5.0.0,>=4.38.0->spacy) (0.4.6)\n",
      "Requirement already satisfied: click<9.0.0,>=7.1.1 in c:\\users\\alsvi\\notebooks\\analise_sentimet_twitter_2023\\venv\\lib\\site-packages (from typer<0.8.0,>=0.3.0->spacy) (8.1.3)\n",
      "Requirement already satisfied: MarkupSafe>=2.0 in c:\\users\\alsvi\\notebooks\\analise_sentimet_twitter_2023\\venv\\lib\\site-packages (from jinja2->spacy) (2.1.2)\n",
      "Note: you may need to restart the kernel to use updated packages.\n",
      "Collecting pt-core-news-sm==3.5.0\n",
      "  Downloading https://github.com/explosion/spacy-models/releases/download/pt_core_news_sm-3.5.0/pt_core_news_sm-3.5.0-py3-none-any.whl (13.0 MB)\n",
      "     ---------------------------------------- 0.0/13.0 MB ? eta -:--:--\n",
      "      --------------------------------------- 0.3/13.0 MB 9.6 MB/s eta 0:00:02\n",
      "      --------------------------------------- 0.3/13.0 MB 9.6 MB/s eta 0:00:02\n",
      "     -- ------------------------------------- 0.8/13.0 MB 5.6 MB/s eta 0:00:03\n",
      "     -- ------------------------------------- 0.8/13.0 MB 5.6 MB/s eta 0:00:03\n",
      "     -- ------------------------------------- 0.8/13.0 MB 3.8 MB/s eta 0:00:04\n",
      "     ---- ----------------------------------- 1.4/13.0 MB 5.7 MB/s eta 0:00:03\n",
      "     ---- ----------------------------------- 1.4/13.0 MB 5.7 MB/s eta 0:00:03\n",
      "     ------- -------------------------------- 2.3/13.0 MB 6.5 MB/s eta 0:00:02\n",
      "     ------- -------------------------------- 2.4/13.0 MB 6.3 MB/s eta 0:00:02\n",
      "     --------- ------------------------------ 3.1/13.0 MB 6.6 MB/s eta 0:00:02\n",
      "     ----------- ---------------------------- 3.6/13.0 MB 7.3 MB/s eta 0:00:02\n",
      "     ------------ --------------------------- 3.9/13.0 MB 7.1 MB/s eta 0:00:02\n",
      "     ------------ --------------------------- 4.2/13.0 MB 7.4 MB/s eta 0:00:02\n",
      "     ------------ --------------------------- 4.2/13.0 MB 7.4 MB/s eta 0:00:02\n",
      "     -------------- ------------------------- 4.7/13.0 MB 6.8 MB/s eta 0:00:02\n",
      "     ----------------- ---------------------- 5.8/13.0 MB 7.7 MB/s eta 0:00:01\n",
      "     ------------------- -------------------- 6.4/13.0 MB 8.2 MB/s eta 0:00:01\n",
      "     --------------------- ------------------ 7.0/13.0 MB 8.4 MB/s eta 0:00:01\n",
      "     ---------------------- ----------------- 7.2/13.0 MB 8.3 MB/s eta 0:00:01\n",
      "     ------------------------ --------------- 7.9/13.0 MB 8.6 MB/s eta 0:00:01\n",
      "     ------------------------- -------------- 8.3/13.0 MB 8.7 MB/s eta 0:00:01\n",
      "     -------------------------- ------------- 8.7/13.0 MB 8.7 MB/s eta 0:00:01\n",
      "     --------------------------- ------------ 8.8/13.0 MB 8.4 MB/s eta 0:00:01\n",
      "     --------------------------- ------------ 8.8/13.0 MB 8.1 MB/s eta 0:00:01\n",
      "     --------------------------- ------------ 8.9/13.0 MB 7.9 MB/s eta 0:00:01\n",
      "     --------------------------- ------------ 8.9/13.0 MB 7.5 MB/s eta 0:00:01\n",
      "     --------------------------- ------------ 8.9/13.0 MB 7.4 MB/s eta 0:00:01\n",
      "     --------------------------- ------------ 8.9/13.0 MB 7.1 MB/s eta 0:00:01\n",
      "     --------------------------- ------------ 8.9/13.0 MB 7.1 MB/s eta 0:00:01\n",
      "     --------------------------- ------------ 8.9/13.0 MB 6.6 MB/s eta 0:00:01\n",
      "     --------------------------- ------------ 9.0/13.0 MB 6.4 MB/s eta 0:00:01\n",
      "     --------------------------- ------------ 9.0/13.0 MB 6.2 MB/s eta 0:00:01\n",
      "     --------------------------- ------------ 9.1/13.0 MB 6.0 MB/s eta 0:00:01\n",
      "     ---------------------------- ----------- 9.1/13.0 MB 5.9 MB/s eta 0:00:01\n",
      "     ---------------------------- ----------- 9.2/13.0 MB 5.8 MB/s eta 0:00:01\n",
      "     ---------------------------- ----------- 9.4/13.0 MB 5.7 MB/s eta 0:00:01\n",
      "     ----------------------------- ---------- 9.5/13.0 MB 5.6 MB/s eta 0:00:01\n",
      "     ----------------------------- ---------- 9.7/13.0 MB 5.6 MB/s eta 0:00:01\n",
      "     ------------------------------ --------- 9.9/13.0 MB 5.6 MB/s eta 0:00:01\n",
      "     ------------------------------- -------- 10.2/13.0 MB 5.6 MB/s eta 0:00:01\n",
      "     ------------------------------- -------- 10.4/13.0 MB 5.5 MB/s eta 0:00:01\n",
      "     -------------------------------- ------- 10.6/13.0 MB 5.6 MB/s eta 0:00:01\n",
      "     -------------------------------- ------- 10.7/13.0 MB 5.5 MB/s eta 0:00:01\n",
      "     --------------------------------- ------ 10.8/13.0 MB 5.5 MB/s eta 0:00:01\n",
      "     --------------------------------- ------ 10.9/13.0 MB 5.3 MB/s eta 0:00:01\n",
      "     --------------------------------- ------ 11.0/13.0 MB 5.2 MB/s eta 0:00:01\n",
      "     ---------------------------------- ----- 11.2/13.0 MB 5.4 MB/s eta 0:00:01\n",
      "     ----------------------------------- ---- 11.4/13.0 MB 5.3 MB/s eta 0:00:01\n",
      "     ----------------------------------- ---- 11.7/13.0 MB 5.4 MB/s eta 0:00:01\n",
      "     ------------------------------------ --- 11.8/13.0 MB 5.3 MB/s eta 0:00:01\n",
      "     ------------------------------------ --- 12.0/13.0 MB 5.2 MB/s eta 0:00:01\n",
      "     ------------------------------------- -- 12.1/13.0 MB 5.0 MB/s eta 0:00:01\n",
      "     ------------------------------------- -- 12.2/13.0 MB 4.9 MB/s eta 0:00:01\n",
      "     ------------------------------------- -- 12.3/13.0 MB 4.9 MB/s eta 0:00:01\n",
      "     -------------------------------------- - 12.5/13.0 MB 4.8 MB/s eta 0:00:01\n",
      "     -------------------------------------- - 12.6/13.0 MB 4.9 MB/s eta 0:00:01\n",
      "     ---------------------------------------  12.9/13.0 MB 4.8 MB/s eta 0:00:01\n",
      "     ---------------------------------------  13.0/13.0 MB 4.7 MB/s eta 0:00:01\n",
      "     ---------------------------------------- 13.0/13.0 MB 4.6 MB/s eta 0:00:00\n",
      "Requirement already satisfied: spacy<3.6.0,>=3.5.0 in c:\\users\\alsvi\\notebooks\\analise_sentimet_twitter_2023\\venv\\lib\\site-packages (from pt-core-news-sm==3.5.0) (3.5.0)\n",
      "Requirement already satisfied: pydantic!=1.8,!=1.8.1,<1.11.0,>=1.7.4 in c:\\users\\alsvi\\notebooks\\analise_sentimet_twitter_2023\\venv\\lib\\site-packages (from spacy<3.6.0,>=3.5.0->pt-core-news-sm==3.5.0) (1.10.4)\n",
      "Requirement already satisfied: typer<0.8.0,>=0.3.0 in c:\\users\\alsvi\\notebooks\\analise_sentimet_twitter_2023\\venv\\lib\\site-packages (from spacy<3.6.0,>=3.5.0->pt-core-news-sm==3.5.0) (0.7.0)\n",
      "Requirement already satisfied: jinja2 in c:\\users\\alsvi\\notebooks\\analise_sentimet_twitter_2023\\venv\\lib\\site-packages (from spacy<3.6.0,>=3.5.0->pt-core-news-sm==3.5.0) (3.1.2)\n",
      "Requirement already satisfied: setuptools in c:\\users\\alsvi\\notebooks\\analise_sentimet_twitter_2023\\venv\\lib\\site-packages (from spacy<3.6.0,>=3.5.0->pt-core-news-sm==3.5.0) (67.4.0)\n",
      "Requirement already satisfied: tqdm<5.0.0,>=4.38.0 in c:\\users\\alsvi\\notebooks\\analise_sentimet_twitter_2023\\venv\\lib\\site-packages (from spacy<3.6.0,>=3.5.0->pt-core-news-sm==3.5.0) (4.64.1)\n",
      "Requirement already satisfied: catalogue<2.1.0,>=2.0.6 in c:\\users\\alsvi\\notebooks\\analise_sentimet_twitter_2023\\venv\\lib\\site-packages (from spacy<3.6.0,>=3.5.0->pt-core-news-sm==3.5.0) (2.0.8)\n",
      "Requirement already satisfied: preshed<3.1.0,>=3.0.2 in c:\\users\\alsvi\\notebooks\\analise_sentimet_twitter_2023\\venv\\lib\\site-packages (from spacy<3.6.0,>=3.5.0->pt-core-news-sm==3.5.0) (3.0.8)\n",
      "Requirement already satisfied: numpy>=1.15.0 in c:\\users\\alsvi\\notebooks\\analise_sentimet_twitter_2023\\venv\\lib\\site-packages (from spacy<3.6.0,>=3.5.0->pt-core-news-sm==3.5.0) (1.24.1)\n",
      "Requirement already satisfied: cymem<2.1.0,>=2.0.2 in c:\\users\\alsvi\\notebooks\\analise_sentimet_twitter_2023\\venv\\lib\\site-packages (from spacy<3.6.0,>=3.5.0->pt-core-news-sm==3.5.0) (2.0.7)\n",
      "Requirement already satisfied: spacy-legacy<3.1.0,>=3.0.11 in c:\\users\\alsvi\\notebooks\\analise_sentimet_twitter_2023\\venv\\lib\\site-packages (from spacy<3.6.0,>=3.5.0->pt-core-news-sm==3.5.0) (3.0.12)\n",
      "Requirement already satisfied: smart-open<7.0.0,>=5.2.1 in c:\\users\\alsvi\\notebooks\\analise_sentimet_twitter_2023\\venv\\lib\\site-packages (from spacy<3.6.0,>=3.5.0->pt-core-news-sm==3.5.0) (6.3.0)\n",
      "Requirement already satisfied: srsly<3.0.0,>=2.4.3 in c:\\users\\alsvi\\notebooks\\analise_sentimet_twitter_2023\\venv\\lib\\site-packages (from spacy<3.6.0,>=3.5.0->pt-core-news-sm==3.5.0) (2.4.5)\n",
      "Requirement already satisfied: packaging>=20.0 in c:\\users\\alsvi\\notebooks\\analise_sentimet_twitter_2023\\venv\\lib\\site-packages (from spacy<3.6.0,>=3.5.0->pt-core-news-sm==3.5.0) (23.0)\n",
      "Requirement already satisfied: thinc<8.2.0,>=8.1.0 in c:\\users\\alsvi\\notebooks\\analise_sentimet_twitter_2023\\venv\\lib\\site-packages (from spacy<3.6.0,>=3.5.0->pt-core-news-sm==3.5.0) (8.1.7)\n",
      "Requirement already satisfied: pathy>=0.10.0 in c:\\users\\alsvi\\notebooks\\analise_sentimet_twitter_2023\\venv\\lib\\site-packages (from spacy<3.6.0,>=3.5.0->pt-core-news-sm==3.5.0) (0.10.1)\n",
      "Requirement already satisfied: murmurhash<1.1.0,>=0.28.0 in c:\\users\\alsvi\\notebooks\\analise_sentimet_twitter_2023\\venv\\lib\\site-packages (from spacy<3.6.0,>=3.5.0->pt-core-news-sm==3.5.0) (1.0.9)\n",
      "Requirement already satisfied: wasabi<1.2.0,>=0.9.1 in c:\\users\\alsvi\\notebooks\\analise_sentimet_twitter_2023\\venv\\lib\\site-packages (from spacy<3.6.0,>=3.5.0->pt-core-news-sm==3.5.0) (1.1.1)\n",
      "Requirement already satisfied: spacy-loggers<2.0.0,>=1.0.0 in c:\\users\\alsvi\\notebooks\\analise_sentimet_twitter_2023\\venv\\lib\\site-packages (from spacy<3.6.0,>=3.5.0->pt-core-news-sm==3.5.0) (1.0.4)\n",
      "Requirement already satisfied: requests<3.0.0,>=2.13.0 in c:\\users\\alsvi\\notebooks\\analise_sentimet_twitter_2023\\venv\\lib\\site-packages (from spacy<3.6.0,>=3.5.0->pt-core-news-sm==3.5.0) (2.28.2)\n",
      "Requirement already satisfied: langcodes<4.0.0,>=3.2.0 in c:\\users\\alsvi\\notebooks\\analise_sentimet_twitter_2023\\venv\\lib\\site-packages (from spacy<3.6.0,>=3.5.0->pt-core-news-sm==3.5.0) (3.3.0)\n",
      "Requirement already satisfied: typing-extensions>=4.2.0 in c:\\users\\alsvi\\notebooks\\analise_sentimet_twitter_2023\\venv\\lib\\site-packages (from pydantic!=1.8,!=1.8.1,<1.11.0,>=1.7.4->spacy<3.6.0,>=3.5.0->pt-core-news-sm==3.5.0) (4.4.0)\n",
      "Requirement already satisfied: urllib3<1.27,>=1.21.1 in c:\\users\\alsvi\\notebooks\\analise_sentimet_twitter_2023\\venv\\lib\\site-packages (from requests<3.0.0,>=2.13.0->spacy<3.6.0,>=3.5.0->pt-core-news-sm==3.5.0) (1.26.14)\n",
      "Requirement already satisfied: idna<4,>=2.5 in c:\\users\\alsvi\\notebooks\\analise_sentimet_twitter_2023\\venv\\lib\\site-packages (from requests<3.0.0,>=2.13.0->spacy<3.6.0,>=3.5.0->pt-core-news-sm==3.5.0) (3.4)\n",
      "Requirement already satisfied: charset-normalizer<4,>=2 in c:\\users\\alsvi\\notebooks\\analise_sentimet_twitter_2023\\venv\\lib\\site-packages (from requests<3.0.0,>=2.13.0->spacy<3.6.0,>=3.5.0->pt-core-news-sm==3.5.0) (3.0.1)\n",
      "Requirement already satisfied: certifi>=2017.4.17 in c:\\users\\alsvi\\notebooks\\analise_sentimet_twitter_2023\\venv\\lib\\site-packages (from requests<3.0.0,>=2.13.0->spacy<3.6.0,>=3.5.0->pt-core-news-sm==3.5.0) (2022.12.7)\n",
      "Requirement already satisfied: confection<1.0.0,>=0.0.1 in c:\\users\\alsvi\\notebooks\\analise_sentimet_twitter_2023\\venv\\lib\\site-packages (from thinc<8.2.0,>=8.1.0->spacy<3.6.0,>=3.5.0->pt-core-news-sm==3.5.0) (0.0.4)\n",
      "Requirement already satisfied: blis<0.8.0,>=0.7.8 in c:\\users\\alsvi\\notebooks\\analise_sentimet_twitter_2023\\venv\\lib\\site-packages (from thinc<8.2.0,>=8.1.0->spacy<3.6.0,>=3.5.0->pt-core-news-sm==3.5.0) (0.7.9)\n",
      "Requirement already satisfied: colorama in c:\\users\\alsvi\\notebooks\\analise_sentimet_twitter_2023\\venv\\lib\\site-packages (from tqdm<5.0.0,>=4.38.0->spacy<3.6.0,>=3.5.0->pt-core-news-sm==3.5.0) (0.4.6)\n",
      "Requirement already satisfied: click<9.0.0,>=7.1.1 in c:\\users\\alsvi\\notebooks\\analise_sentimet_twitter_2023\\venv\\lib\\site-packages (from typer<0.8.0,>=0.3.0->spacy<3.6.0,>=3.5.0->pt-core-news-sm==3.5.0) (8.1.3)\n",
      "Requirement already satisfied: MarkupSafe>=2.0 in c:\\users\\alsvi\\notebooks\\analise_sentimet_twitter_2023\\venv\\lib\\site-packages (from jinja2->spacy<3.6.0,>=3.5.0->pt-core-news-sm==3.5.0) (2.1.2)\n",
      "\u001b[38;5;2m✔ Download and installation successful\u001b[0m\n",
      "You can now load the package via spacy.load('pt_core_news_sm')\n"
     ]
    }
   ],
   "source": [
    "%pip install -U pip setuptools wheel\n",
    "%pip install -U spacy\n",
    "!python -m spacy download pt_core_news_sm"
   ]
  },
  {
   "cell_type": "code",
   "execution_count": 13,
   "metadata": {},
   "outputs": [],
   "source": [
    "import spacy\n",
    "nlp = spacy.load('pt_core_news_sm')"
   ]
  },
  {
   "cell_type": "code",
   "execution_count": 14,
   "metadata": {},
   "outputs": [
    {
     "name": "stderr",
     "output_type": "stream",
     "text": [
      "C:\\Users\\alsvi\\AppData\\Local\\Temp\\ipykernel_17812\\1740279429.py:1: SettingWithCopyWarning: \n",
      "A value is trying to be set on a copy of a slice from a DataFrame.\n",
      "Try using .loc[row_indexer,col_indexer] = value instead\n",
      "\n",
      "See the caveats in the documentation: https://pandas.pydata.org/pandas-docs/stable/user_guide/indexing.html#returning-a-view-versus-a-copy\n",
      "  tweet_df['text_lemma'] = tweet_df['text_clean'].apply(lambda row: \" \".join([w.lemma_ for w in nlp(row)]))\n",
      "C:\\Users\\alsvi\\AppData\\Local\\Temp\\ipykernel_17812\\1740279429.py:2: SettingWithCopyWarning: \n",
      "A value is trying to be set on a copy of a slice from a DataFrame.\n",
      "Try using .loc[row_indexer,col_indexer] = value instead\n",
      "\n",
      "See the caveats in the documentation: https://pandas.pydata.org/pandas-docs/stable/user_guide/indexing.html#returning-a-view-versus-a-copy\n",
      "  tweet_df['text_lemma'] = tweet_df['text_lemma'].apply(remove_caracteres)\n"
     ]
    },
    {
     "data": {
      "text/html": [
       "<div>\n",
       "<style scoped>\n",
       "    .dataframe tbody tr th:only-of-type {\n",
       "        vertical-align: middle;\n",
       "    }\n",
       "\n",
       "    .dataframe tbody tr th {\n",
       "        vertical-align: top;\n",
       "    }\n",
       "\n",
       "    .dataframe thead th {\n",
       "        text-align: right;\n",
       "    }\n",
       "</style>\n",
       "<table border=\"1\" class=\"dataframe\">\n",
       "  <thead>\n",
       "    <tr style=\"text-align: right;\">\n",
       "      <th></th>\n",
       "      <th>text</th>\n",
       "      <th>trend_t</th>\n",
       "      <th>sentiment</th>\n",
       "      <th>text_clean</th>\n",
       "      <th>text_lemma</th>\n",
       "    </tr>\n",
       "  </thead>\n",
       "  <tbody>\n",
       "    <tr>\n",
       "      <th>0</th>\n",
       "      <td>Como atuam\\n#MoonlightChickenEP5 \\n#HEARTLIMING https://t.co/Tbp1Gdy7ll</td>\n",
       "      <td>MoonlightChickenEP5</td>\n",
       "      <td>1</td>\n",
       "      <td>atuam moonlightchickenep heartliming</td>\n",
       "      <td>atuar moonlightchickenep heartliming</td>\n",
       "    </tr>\n",
       "    <tr>\n",
       "      <th>1</th>\n",
       "      <td>Eles me fazem acreditar que, relacionamento entre amigos, não funciona, mais cedo ou mais tarde, vai desmoronar 😭.… https://t.co/P0Cjt7iTyU</td>\n",
       "      <td>MoonlightChickenEP5</td>\n",
       "      <td>2</td>\n",
       "      <td>fazem acreditar relacionamento amigos funciona cedo tarde vai desmoronar</td>\n",
       "      <td>fazer acreditar relacionamento amigo funcionar cedo tarde ir desmoronar</td>\n",
       "    </tr>\n",
       "    <tr>\n",
       "      <th>2</th>\n",
       "      <td>pq eu sinto q isso aqui vai dar muito briga?????? #MoonlightChickenEP5 https://t.co/WHzEhLJK62</td>\n",
       "      <td>MoonlightChickenEP5</td>\n",
       "      <td>1</td>\n",
       "      <td>pq sinto q aqui vai dar briga moonlightchickenep</td>\n",
       "      <td>pq sinto q aqui ir dar briga moonlightchickeneurpr</td>\n",
       "    </tr>\n",
       "    <tr>\n",
       "      <th>3</th>\n",
       "      <td>O nome salvo dos dois nos Contatos. Fofos.🤏🏽\\n#MoonlightChickenEP5 https://t.co/u85vXyh2nM</td>\n",
       "      <td>MoonlightChickenEP5</td>\n",
       "      <td>1</td>\n",
       "      <td>nome salvo dois contatos fofos moonlightchickenep</td>\n",
       "      <td>nome salvo dois contato fofo moonlightchickenep</td>\n",
       "    </tr>\n",
       "    <tr>\n",
       "      <th>4</th>\n",
       "      <td>\"Os peixes grandes sempre comem os peixes pequenos\"\\n\"O importante e ele ter dinheiro, pq quem tem dinheiro sempre v… https://t.co/oGCAXGEqJ0</td>\n",
       "      <td>MoonlightChickenEP5</td>\n",
       "      <td>2</td>\n",
       "      <td>peixes grandes sempre comem peixes pequenos importante ter dinheiro pq dinheiro sempre v</td>\n",
       "      <td>peixe grande sempre comer peixe pequeno importante ter dinheiro pq dinheiro sempre v</td>\n",
       "    </tr>\n",
       "  </tbody>\n",
       "</table>\n",
       "</div>"
      ],
      "text/plain": [
       "                                                                                                                                            text  \\\n",
       "0                                                                        Como atuam\\n#MoonlightChickenEP5 \\n#HEARTLIMING https://t.co/Tbp1Gdy7ll   \n",
       "1    Eles me fazem acreditar que, relacionamento entre amigos, não funciona, mais cedo ou mais tarde, vai desmoronar 😭.… https://t.co/P0Cjt7iTyU   \n",
       "2                                                 pq eu sinto q isso aqui vai dar muito briga?????? #MoonlightChickenEP5 https://t.co/WHzEhLJK62   \n",
       "3                                                     O nome salvo dos dois nos Contatos. Fofos.🤏🏽\\n#MoonlightChickenEP5 https://t.co/u85vXyh2nM   \n",
       "4  \"Os peixes grandes sempre comem os peixes pequenos\"\\n\"O importante e ele ter dinheiro, pq quem tem dinheiro sempre v… https://t.co/oGCAXGEqJ0   \n",
       "\n",
       "               trend_t  sentiment  \\\n",
       "0  MoonlightChickenEP5          1   \n",
       "1  MoonlightChickenEP5          2   \n",
       "2  MoonlightChickenEP5          1   \n",
       "3  MoonlightChickenEP5          1   \n",
       "4  MoonlightChickenEP5          2   \n",
       "\n",
       "                                                                                 text_clean  \\\n",
       "0                                                      atuam moonlightchickenep heartliming   \n",
       "1                  fazem acreditar relacionamento amigos funciona cedo tarde vai desmoronar   \n",
       "2                                          pq sinto q aqui vai dar briga moonlightchickenep   \n",
       "3                                         nome salvo dois contatos fofos moonlightchickenep   \n",
       "4  peixes grandes sempre comem peixes pequenos importante ter dinheiro pq dinheiro sempre v   \n",
       "\n",
       "                                                                             text_lemma  \n",
       "0                                                  atuar moonlightchickenep heartliming  \n",
       "1               fazer acreditar relacionamento amigo funcionar cedo tarde ir desmoronar  \n",
       "2                                    pq sinto q aqui ir dar briga moonlightchickeneurpr  \n",
       "3                                       nome salvo dois contato fofo moonlightchickenep  \n",
       "4  peixe grande sempre comer peixe pequeno importante ter dinheiro pq dinheiro sempre v  "
      ]
     },
     "execution_count": 14,
     "metadata": {},
     "output_type": "execute_result"
    }
   ],
   "source": [
    "tweet_df['text_lemma'] = tweet_df['text_clean'].apply(lambda row: \" \".join([w.lemma_ for w in nlp(row)]))\n",
    "tweet_df['text_lemma'] = tweet_df['text_lemma'].apply(remove_caracteres)\n",
    "tweet_df.head()"
   ]
  },
  {
   "attachments": {},
   "cell_type": "markdown",
   "metadata": {},
   "source": [
    "# Trabalhando no equilibrio dos dados"
   ]
  },
  {
   "attachments": {},
   "cell_type": "markdown",
   "metadata": {},
   "source": [
    "## Iniciando o trabalho de balanceamento dos dados"
   ]
  },
  {
   "cell_type": "code",
   "execution_count": 15,
   "metadata": {},
   "outputs": [
    {
     "data": {
      "text/plain": [
       "[6029, 6435, 4912]"
      ]
     },
     "execution_count": 15,
     "metadata": {},
     "output_type": "execute_result"
    }
   ],
   "source": [
    "# criando a lista sentimentos (com as quantidades das classes)\n",
    "sentimentos = []\n",
    "sentimentos.append(tweet_df.loc[tweet_df['sentiment'] == 0]['sentiment'].count())\n",
    "sentimentos.append(tweet_df.loc[tweet_df['sentiment'] == 1]['sentiment'].count())\n",
    "sentimentos.append(tweet_df.loc[tweet_df['sentiment'] == 2]['sentiment'].count())\n",
    "\n",
    "sentimentos"
   ]
  },
  {
   "cell_type": "code",
   "execution_count": 16,
   "metadata": {},
   "outputs": [
    {
     "data": {
      "text/plain": [
       "[4912, 6029, 6435]"
      ]
     },
     "execution_count": 16,
     "metadata": {},
     "output_type": "execute_result"
    }
   ],
   "source": [
    "# colacando a lista sentimento em ordem (minoria, meio, maioria)\n",
    "sentimentos.sort()\n",
    "sentimentos"
   ]
  },
  {
   "cell_type": "code",
   "execution_count": 17,
   "metadata": {},
   "outputs": [],
   "source": [
    "# instanciando as classes de sentimentos\n",
    "sent = [0, 0, 0]\n",
    "for i in range(len(sentimentos)):\n",
    "    for j in range(len(sentimentos)):\n",
    "        if sentimentos[i] == tweet_df.loc[tweet_df['sentiment'] == j]['sentiment'].count():\n",
    "            sent[i] = tweet_df.loc[tweet_df['sentiment'] == j]\n",
    "\n",
    "minoria = sent[0]\n",
    "meio = sent[1]\n",
    "maioria = sent[2]"
   ]
  },
  {
   "cell_type": "code",
   "execution_count": 18,
   "metadata": {},
   "outputs": [
    {
     "name": "stdout",
     "output_type": "stream",
     "text": [
      "Maioria \n",
      "6435\n",
      "\n",
      "Meio \n",
      "6029\n",
      "\n",
      "Minoria \n",
      "4912\n"
     ]
    }
   ],
   "source": [
    "print('Maioria \\n{}\\n'.format(maioria['sentiment'].count()))\n",
    "print('Meio \\n{}\\n'.format(meio['sentiment'].count()))\n",
    "print('Minoria \\n{}'.format(minoria['sentiment'].count()))"
   ]
  },
  {
   "attachments": {},
   "cell_type": "markdown",
   "metadata": {},
   "source": [
    "# Igualar a quantidade de tweets entre positivo, negativo e neutro"
   ]
  },
  {
   "attachments": {},
   "cell_type": "markdown",
   "metadata": {},
   "source": [
    "### Undersampling (Criando datasets reorganizados para minoria)"
   ]
  },
  {
   "cell_type": "code",
   "execution_count": 19,
   "metadata": {},
   "outputs": [],
   "source": [
    "from sklearn.utils import resample\n",
    "\n",
    "maior_menor = resample(maioria, replace=True, n_samples=len(minoria), random_state=123)\n",
    "meio_menor = resample(meio, replace=True, n_samples=len(minoria), random_state=123)"
   ]
  },
  {
   "cell_type": "code",
   "execution_count": 20,
   "metadata": {},
   "outputs": [
    {
     "name": "stdout",
     "output_type": "stream",
     "text": [
      "text          4912\n",
      "trend_t       4912\n",
      "sentiment     4912\n",
      "text_clean    4912\n",
      "text_lemma    4912\n",
      "dtype: int64 text          4912\n",
      "trend_t       4912\n",
      "sentiment     4912\n",
      "text_clean    4912\n",
      "text_lemma    4912\n",
      "dtype: int64 text          4912\n",
      "trend_t       4912\n",
      "sentiment     4912\n",
      "text_clean    4912\n",
      "text_lemma    4912\n",
      "dtype: int64\n"
     ]
    }
   ],
   "source": [
    "print(minoria.count(), meio_menor.count(), maior_menor.count())"
   ]
  },
  {
   "cell_type": "code",
   "execution_count": 21,
   "metadata": {},
   "outputs": [],
   "source": [
    "# juntando os dataframes\n",
    "tweets_df_equilibrado_menor = pd.concat([minoria, meio_menor, maior_menor])\n",
    "\n",
    "# resetando o index\n",
    "tweets_df_equilibrado_menor = tweets_df_equilibrado_menor.reset_index()\n",
    "\n",
    "# removendo as colunas Unnamed: 0 e index\n",
    "tweets_df_equilibrado_menor.drop(columns=['index'], inplace=True)"
   ]
  },
  {
   "cell_type": "code",
   "execution_count": 22,
   "metadata": {},
   "outputs": [
    {
     "data": {
      "text/html": [
       "<div>\n",
       "<style scoped>\n",
       "    .dataframe tbody tr th:only-of-type {\n",
       "        vertical-align: middle;\n",
       "    }\n",
       "\n",
       "    .dataframe tbody tr th {\n",
       "        vertical-align: top;\n",
       "    }\n",
       "\n",
       "    .dataframe thead th {\n",
       "        text-align: right;\n",
       "    }\n",
       "</style>\n",
       "<table border=\"1\" class=\"dataframe\">\n",
       "  <thead>\n",
       "    <tr style=\"text-align: right;\">\n",
       "      <th></th>\n",
       "      <th>text</th>\n",
       "      <th>trend_t</th>\n",
       "      <th>text_clean</th>\n",
       "      <th>text_lemma</th>\n",
       "    </tr>\n",
       "    <tr>\n",
       "      <th>sentiment</th>\n",
       "      <th></th>\n",
       "      <th></th>\n",
       "      <th></th>\n",
       "      <th></th>\n",
       "    </tr>\n",
       "  </thead>\n",
       "  <tbody>\n",
       "    <tr>\n",
       "      <th>0</th>\n",
       "      <td>4912</td>\n",
       "      <td>4912</td>\n",
       "      <td>4912</td>\n",
       "      <td>4912</td>\n",
       "    </tr>\n",
       "    <tr>\n",
       "      <th>1</th>\n",
       "      <td>4912</td>\n",
       "      <td>4912</td>\n",
       "      <td>4912</td>\n",
       "      <td>4912</td>\n",
       "    </tr>\n",
       "    <tr>\n",
       "      <th>2</th>\n",
       "      <td>4912</td>\n",
       "      <td>4912</td>\n",
       "      <td>4912</td>\n",
       "      <td>4912</td>\n",
       "    </tr>\n",
       "  </tbody>\n",
       "</table>\n",
       "</div>"
      ],
      "text/plain": [
       "           text  trend_t  text_clean  text_lemma\n",
       "sentiment                                       \n",
       "0          4912     4912        4912        4912\n",
       "1          4912     4912        4912        4912\n",
       "2          4912     4912        4912        4912"
      ]
     },
     "execution_count": 22,
     "metadata": {},
     "output_type": "execute_result"
    }
   ],
   "source": [
    "tweets_df_equilibrado_menor.groupby(['sentiment']).count()"
   ]
  },
  {
   "attachments": {},
   "cell_type": "markdown",
   "metadata": {},
   "source": [
    "# Machine Learning - Utils"
   ]
  },
  {
   "cell_type": "code",
   "execution_count": 23,
   "metadata": {},
   "outputs": [
    {
     "name": "stdout",
     "output_type": "stream",
     "text": [
      "Requirement already satisfied: scikit-learn in c:\\users\\alsvi\\notebooks\\analise_sentimet_twitter_2023\\venv\\lib\\site-packages (1.2.1)\n",
      "Requirement already satisfied: numpy>=1.17.3 in c:\\users\\alsvi\\notebooks\\analise_sentimet_twitter_2023\\venv\\lib\\site-packages (from scikit-learn) (1.24.1)\n",
      "Requirement already satisfied: threadpoolctl>=2.0.0 in c:\\users\\alsvi\\notebooks\\analise_sentimet_twitter_2023\\venv\\lib\\site-packages (from scikit-learn) (3.1.0)\n",
      "Requirement already satisfied: joblib>=1.1.1 in c:\\users\\alsvi\\notebooks\\analise_sentimet_twitter_2023\\venv\\lib\\site-packages (from scikit-learn) (1.2.0)\n",
      "Requirement already satisfied: scipy>=1.3.2 in c:\\users\\alsvi\\notebooks\\analise_sentimet_twitter_2023\\venv\\lib\\site-packages (from scikit-learn) (1.10.0)\n",
      "Note: you may need to restart the kernel to use updated packages.\n"
     ]
    }
   ],
   "source": [
    "%pip install scikit-learn"
   ]
  },
  {
   "cell_type": "code",
   "execution_count": 24,
   "metadata": {},
   "outputs": [],
   "source": [
    "from sklearn.model_selection import train_test_split\n",
    "from sklearn.pipeline import Pipeline\n",
    "\n",
    "# Vetorizadores\n",
    "from sklearn.feature_extraction.text import CountVectorizer\n",
    "from sklearn.feature_extraction.text import TfidfVectorizer\n",
    "\n",
    "# Classificadores\n",
    "from sklearn.linear_model import LogisticRegression\n",
    "from sklearn.linear_model import PassiveAggressiveClassifier\n",
    "from sklearn.ensemble import RandomForestClassifier\n",
    "from sklearn.linear_model import SGDClassifier\n",
    "from sklearn.svm import SVC\n",
    "\n",
    "# Avaliador\n",
    "from sklearn.model_selection import cross_val_predict"
   ]
  },
  {
   "cell_type": "code",
   "execution_count": 25,
   "metadata": {},
   "outputs": [],
   "source": [
    "# Tokenização especial para tweets\n",
    "from nltk import word_tokenize\n",
    "from nltk.tokenize import TweetTokenizer\n",
    "\n",
    "tweet_tokenizer = TweetTokenizer()"
   ]
  },
  {
   "cell_type": "code",
   "execution_count": 26,
   "metadata": {},
   "outputs": [],
   "source": [
    "def escolher_pipeline(pipe):\n",
    "    ''' Função para escolher os pipelines dos modelos a serem treinados '''\n",
    "    \n",
    "    if(pipe == 1):\n",
    "        modelo1 = Pipeline([\n",
    "            ('countVectorizer', CountVectorizer(analyzer='word', tokenizer=tweet_tokenizer.tokenize)),\n",
    "            ('modelo', LogisticRegression(C=10.0, penalty='l1', solver='liblinear'))\n",
    "        ])\n",
    "        return modelo1\n",
    "    \n",
    "    elif(pipe == 2):\n",
    "        modelo2 = Pipeline([\n",
    "            ('tfidfVectorizer', TfidfVectorizer(analyzer='word', tokenizer=tweet_tokenizer.tokenize)),\n",
    "            ('modelo', LogisticRegression(C=10.0, penalty='l1', solver='liblinear'))\n",
    "        ])\n",
    "        return modelo2\n",
    "    \n",
    "    elif(pipe == 3):\n",
    "        modelo3 = Pipeline([\n",
    "            ('countVectorizer', CountVectorizer(analyzer='word', tokenizer=tweet_tokenizer.tokenize)),\n",
    "            ('modelo', PassiveAggressiveClassifier(C=0.003, loss='squared_hinge'))\n",
    "        ])\n",
    "        return modelo3\n",
    "    \n",
    "    elif(pipe == 4):\n",
    "        modelo4 = Pipeline([\n",
    "            ('tfidfVectorizer', TfidfVectorizer(analyzer='word', tokenizer=tweet_tokenizer.tokenize)),\n",
    "            ('modelo', PassiveAggressiveClassifier(C=0.01, loss='squared_hinge'))\n",
    "        ])\n",
    "        return modelo4\n",
    "    \n",
    "    elif(pipe == 5):\n",
    "        modelo5 = Pipeline([\n",
    "            ('countVectorizer', CountVectorizer(analyzer='word', tokenizer=tweet_tokenizer.tokenize)),\n",
    "            ('modelo', RandomForestClassifier(n_estimators=10))\n",
    "        ])\n",
    "        return modelo5\n",
    "    \n",
    "    elif(pipe == 6):\n",
    "        modelo6 = Pipeline([\n",
    "            ('tfidfVectorizer', TfidfVectorizer(analyzer='word', tokenizer=tweet_tokenizer.tokenize)),\n",
    "            ('modelo', RandomForestClassifier(n_estimators=10))\n",
    "        ])\n",
    "        return modelo6\n",
    "    \n",
    "    elif(pipe == 7):\n",
    "        modelo7 = Pipeline([\n",
    "            ('countVectorizer', CountVectorizer(analyzer='word', tokenizer=tweet_tokenizer.tokenize)),\n",
    "            ('modelo', SGDClassifier(alpha=0.0001, loss='hinge', penalty='elasticnet', max_iter=1000))\n",
    "        ])\n",
    "        return modelo7\n",
    "    \n",
    "    elif(pipe == 8):\n",
    "        modelo8 = Pipeline([\n",
    "            ('tfidfVectorizer', TfidfVectorizer(analyzer='word', tokenizer=tweet_tokenizer.tokenize)),\n",
    "            ('modelo', SGDClassifier(alpha=0.0001, loss='modified_huber', penalty='elasticnet', max_iter=1000))\n",
    "        ])\n",
    "        return modelo8\n",
    "    \n",
    "    elif(pipe == 9):\n",
    "        modelo9 = Pipeline([\n",
    "            ('countVectorizer', CountVectorizer(analyzer='word', tokenizer=tweet_tokenizer.tokenize)),\n",
    "            ('modelo', SVC(C=1, gamma=1, kernel='linear'))\n",
    "        ])\n",
    "        return modelo9\n",
    "    \n",
    "    elif(pipe == 10):\n",
    "        modelo10 = Pipeline([\n",
    "            ('tfidfVectorizer', TfidfVectorizer(analyzer='word', tokenizer=tweet_tokenizer.tokenize)),\n",
    "            ('modelo', SVC(C=10, gamma=1, kernel='rbf'))\n",
    "        ])\n",
    "        return modelo10"
   ]
  },
  {
   "cell_type": "code",
   "execution_count": 27,
   "metadata": {},
   "outputs": [
    {
     "name": "stdout",
     "output_type": "stream",
     "text": [
      "Requirement already satisfied: mlxtend in c:\\users\\alsvi\\notebooks\\analise_sentimet_twitter_2023\\venv\\lib\\site-packages (0.21.0)\n",
      "Requirement already satisfied: scipy>=1.2.1 in c:\\users\\alsvi\\notebooks\\analise_sentimet_twitter_2023\\venv\\lib\\site-packages (from mlxtend) (1.10.0)\n",
      "Requirement already satisfied: joblib>=0.13.2 in c:\\users\\alsvi\\notebooks\\analise_sentimet_twitter_2023\\venv\\lib\\site-packages (from mlxtend) (1.2.0)\n",
      "Requirement already satisfied: setuptools in c:\\users\\alsvi\\notebooks\\analise_sentimet_twitter_2023\\venv\\lib\\site-packages (from mlxtend) (67.4.0)\n",
      "Requirement already satisfied: numpy>=1.16.2 in c:\\users\\alsvi\\notebooks\\analise_sentimet_twitter_2023\\venv\\lib\\site-packages (from mlxtend) (1.24.1)\n",
      "Requirement already satisfied: matplotlib>=3.0.0 in c:\\users\\alsvi\\notebooks\\analise_sentimet_twitter_2023\\venv\\lib\\site-packages (from mlxtend) (3.6.3)\n",
      "Requirement already satisfied: scikit-learn>=1.0.2 in c:\\users\\alsvi\\notebooks\\analise_sentimet_twitter_2023\\venv\\lib\\site-packages (from mlxtend) (1.2.1)\n",
      "Requirement already satisfied: pandas>=0.24.2 in c:\\users\\alsvi\\notebooks\\analise_sentimet_twitter_2023\\venv\\lib\\site-packages (from mlxtend) (1.5.3)\n",
      "Requirement already satisfied: pillow>=6.2.0 in c:\\users\\alsvi\\notebooks\\analise_sentimet_twitter_2023\\venv\\lib\\site-packages (from matplotlib>=3.0.0->mlxtend) (9.4.0)\n",
      "Requirement already satisfied: packaging>=20.0 in c:\\users\\alsvi\\notebooks\\analise_sentimet_twitter_2023\\venv\\lib\\site-packages (from matplotlib>=3.0.0->mlxtend) (23.0)\n",
      "Requirement already satisfied: fonttools>=4.22.0 in c:\\users\\alsvi\\notebooks\\analise_sentimet_twitter_2023\\venv\\lib\\site-packages (from matplotlib>=3.0.0->mlxtend) (4.38.0)\n",
      "Requirement already satisfied: python-dateutil>=2.7 in c:\\users\\alsvi\\notebooks\\analise_sentimet_twitter_2023\\venv\\lib\\site-packages (from matplotlib>=3.0.0->mlxtend) (2.8.2)\n",
      "Requirement already satisfied: kiwisolver>=1.0.1 in c:\\users\\alsvi\\notebooks\\analise_sentimet_twitter_2023\\venv\\lib\\site-packages (from matplotlib>=3.0.0->mlxtend) (1.4.4)\n",
      "Requirement already satisfied: cycler>=0.10 in c:\\users\\alsvi\\notebooks\\analise_sentimet_twitter_2023\\venv\\lib\\site-packages (from matplotlib>=3.0.0->mlxtend) (0.11.0)\n",
      "Requirement already satisfied: contourpy>=1.0.1 in c:\\users\\alsvi\\notebooks\\analise_sentimet_twitter_2023\\venv\\lib\\site-packages (from matplotlib>=3.0.0->mlxtend) (1.0.7)\n",
      "Requirement already satisfied: pyparsing>=2.2.1 in c:\\users\\alsvi\\notebooks\\analise_sentimet_twitter_2023\\venv\\lib\\site-packages (from matplotlib>=3.0.0->mlxtend) (3.0.9)\n",
      "Requirement already satisfied: pytz>=2020.1 in c:\\users\\alsvi\\notebooks\\analise_sentimet_twitter_2023\\venv\\lib\\site-packages (from pandas>=0.24.2->mlxtend) (2022.7.1)\n",
      "Requirement already satisfied: threadpoolctl>=2.0.0 in c:\\users\\alsvi\\notebooks\\analise_sentimet_twitter_2023\\venv\\lib\\site-packages (from scikit-learn>=1.0.2->mlxtend) (3.1.0)\n",
      "Requirement already satisfied: six>=1.5 in c:\\users\\alsvi\\notebooks\\analise_sentimet_twitter_2023\\venv\\lib\\site-packages (from python-dateutil>=2.7->matplotlib>=3.0.0->mlxtend) (1.16.0)\n",
      "Note: you may need to restart the kernel to use updated packages.\n"
     ]
    }
   ],
   "source": [
    "%pip install mlxtend"
   ]
  },
  {
   "cell_type": "code",
   "execution_count": 28,
   "metadata": {},
   "outputs": [],
   "source": [
    "from sklearn import metrics\n",
    "from sklearn.metrics import precision_score, recall_score, f1_score, accuracy_score\n",
    "from mlxtend.evaluate import confusion_matrix\n",
    "from mlxtend.plotting import plot_confusion_matrix\n",
    "\n",
    "def matriz_confusao(y_test, modelo_predicao):\n",
    "    ''' Função que exibe a matrix de confusão para avalização do modelo '''\n",
    "    \n",
    "    # imprimir relatório de classificação\n",
    "    print(\"Relatório de Classificação:\\n\", \n",
    "            metrics.classification_report(y_test, modelo_predicao))\n",
    "    \n",
    "    # imprimir a acurácia do modelo\n",
    "    print(\"Acurácia: {:.4f}\\n\".format(accuracy_score(y_test, modelo_predicao)))\n",
    "    \n",
    "    # imprimir a matrix de confusão\n",
    "    print(\"Matrix de confusão:\\n\", pd.crosstab(y_test, modelo_predicao, \n",
    "                                                rownames=['Real'], \n",
    "                                                colnames=['Predito'], \n",
    "                                                margins=True),  '')\n",
    "    \n",
    "    # plotar a matrix de confusão\n",
    "    cm = confusion_matrix(y_target = y_test, \n",
    "                            y_predicted = modelo_predicao, binary=False)\n",
    "    fig, ax = plot_confusion_matrix(conf_mat = cm)\n",
    "    plt.show()\n",
    "    print('\\n')"
   ]
  },
  {
   "attachments": {},
   "cell_type": "markdown",
   "metadata": {},
   "source": [
    "# Machine Learning - Construindo modelo"
   ]
  },
  {
   "cell_type": "code",
   "execution_count": 29,
   "metadata": {},
   "outputs": [
    {
     "data": {
      "text/plain": [
       "((14736,), (14736,))"
      ]
     },
     "execution_count": 29,
     "metadata": {},
     "output_type": "execute_result"
    }
   ],
   "source": [
    "X = tweets_df_equilibrado_menor['text_lemma']\n",
    "y = tweets_df_equilibrado_menor['sentiment']\n",
    "\n",
    "X.shape, y.shape"
   ]
  },
  {
   "cell_type": "code",
   "execution_count": 30,
   "metadata": {},
   "outputs": [
    {
     "data": {
      "text/plain": [
       "((11052,), (11052,), (3684,), (3684,))"
      ]
     },
     "execution_count": 30,
     "metadata": {},
     "output_type": "execute_result"
    }
   ],
   "source": [
    "#separando os dados em treino e teste\n",
    "X_train, X_test, y_train, y_test = train_test_split(X, y, test_size=0.25, random_state=123)\n",
    "X_train.shape, y_train.shape, X_test.shape, y_test.shape"
   ]
  },
  {
   "attachments": {},
   "cell_type": "markdown",
   "metadata": {},
   "source": [
    "## Modelos"
   ]
  },
  {
   "cell_type": "code",
   "execution_count": 31,
   "metadata": {},
   "outputs": [
    {
     "name": "stderr",
     "output_type": "stream",
     "text": [
      "c:\\Users\\alsvi\\notebooks\\analise_sentimet_twitter_2023\\venv\\lib\\site-packages\\sklearn\\feature_extraction\\text.py:528: UserWarning: The parameter 'token_pattern' will not be used since 'tokenizer' is not None'\n",
      "  warnings.warn(\n"
     ]
    },
    {
     "name": "stdout",
     "output_type": "stream",
     "text": [
      "************************************************************************************************************************************\n",
      "Modelo: Pipeline(steps=[('countVectorizer',\n",
      "                 CountVectorizer(tokenizer=<bound method TweetTokenizer.tokenize of <nltk.tokenize.casual.TweetTokenizer object at 0x000001CFCBF12890>>)),\n",
      "                ('modelo',\n",
      "                 LogisticRegression(C=10.0, penalty='l1', solver='liblinear'))])\n",
      "\n",
      "AVALIANDO O MODELO\n",
      "\n",
      "Relatório de Classificação:\n",
      "               precision    recall  f1-score   support\n",
      "\n",
      "           0       0.87      0.82      0.84      1247\n",
      "           1       0.79      0.90      0.84      1198\n",
      "           2       0.90      0.83      0.86      1239\n",
      "\n",
      "    accuracy                           0.85      3684\n",
      "   macro avg       0.85      0.85      0.85      3684\n",
      "weighted avg       0.85      0.85      0.85      3684\n",
      "\n",
      "Acurácia: 0.8491\n",
      "\n",
      "Matrix de confusão:\n",
      " Predito     0     1     2   All\n",
      "Real                           \n",
      "0        1017   159    71  1247\n",
      "1          72  1080    46  1198\n",
      "2          79   129  1031  1239\n",
      "All      1168  1368  1148  3684 \n"
     ]
    },
    {
     "data": {
      "image/png": "[encoded data removed]",
      "text/plain": [
       "<Figure size 640x480 with 1 Axes>"
      ]
     },
     "metadata": {},
     "output_type": "display_data"
    },
    {
     "name": "stdout",
     "output_type": "stream",
     "text": [
      "\n",
      "\n",
      "\n",
      "VALIDAÇÃO CRUZADA\n",
      "\n"
     ]
    },
    {
     "name": "stderr",
     "output_type": "stream",
     "text": [
      "c:\\Users\\alsvi\\notebooks\\analise_sentimet_twitter_2023\\venv\\lib\\site-packages\\sklearn\\feature_extraction\\text.py:528: UserWarning: The parameter 'token_pattern' will not be used since 'tokenizer' is not None'\n",
      "  warnings.warn(\n",
      "c:\\Users\\alsvi\\notebooks\\analise_sentimet_twitter_2023\\venv\\lib\\site-packages\\sklearn\\feature_extraction\\text.py:528: UserWarning: The parameter 'token_pattern' will not be used since 'tokenizer' is not None'\n",
      "  warnings.warn(\n",
      "c:\\Users\\alsvi\\notebooks\\analise_sentimet_twitter_2023\\venv\\lib\\site-packages\\sklearn\\feature_extraction\\text.py:528: UserWarning: The parameter 'token_pattern' will not be used since 'tokenizer' is not None'\n",
      "  warnings.warn(\n",
      "c:\\Users\\alsvi\\notebooks\\analise_sentimet_twitter_2023\\venv\\lib\\site-packages\\sklearn\\feature_extraction\\text.py:528: UserWarning: The parameter 'token_pattern' will not be used since 'tokenizer' is not None'\n",
      "  warnings.warn(\n",
      "c:\\Users\\alsvi\\notebooks\\analise_sentimet_twitter_2023\\venv\\lib\\site-packages\\sklearn\\feature_extraction\\text.py:528: UserWarning: The parameter 'token_pattern' will not be used since 'tokenizer' is not None'\n",
      "  warnings.warn(\n",
      "c:\\Users\\alsvi\\notebooks\\analise_sentimet_twitter_2023\\venv\\lib\\site-packages\\sklearn\\feature_extraction\\text.py:528: UserWarning: The parameter 'token_pattern' will not be used since 'tokenizer' is not None'\n",
      "  warnings.warn(\n",
      "c:\\Users\\alsvi\\notebooks\\analise_sentimet_twitter_2023\\venv\\lib\\site-packages\\sklearn\\feature_extraction\\text.py:528: UserWarning: The parameter 'token_pattern' will not be used since 'tokenizer' is not None'\n",
      "  warnings.warn(\n",
      "c:\\Users\\alsvi\\notebooks\\analise_sentimet_twitter_2023\\venv\\lib\\site-packages\\sklearn\\feature_extraction\\text.py:528: UserWarning: The parameter 'token_pattern' will not be used since 'tokenizer' is not None'\n",
      "  warnings.warn(\n",
      "c:\\Users\\alsvi\\notebooks\\analise_sentimet_twitter_2023\\venv\\lib\\site-packages\\sklearn\\feature_extraction\\text.py:528: UserWarning: The parameter 'token_pattern' will not be used since 'tokenizer' is not None'\n",
      "  warnings.warn(\n",
      "c:\\Users\\alsvi\\notebooks\\analise_sentimet_twitter_2023\\venv\\lib\\site-packages\\sklearn\\feature_extraction\\text.py:528: UserWarning: The parameter 'token_pattern' will not be used since 'tokenizer' is not None'\n",
      "  warnings.warn(\n"
     ]
    },
    {
     "name": "stdout",
     "output_type": "stream",
     "text": [
      "Relatório de Classificação:\n",
      "               precision    recall  f1-score   support\n",
      "\n",
      "           0       0.85      0.84      0.84      4912\n",
      "           1       0.79      0.90      0.84      4912\n",
      "           2       0.90      0.78      0.84      4912\n",
      "\n",
      "    accuracy                           0.84     14736\n",
      "   macro avg       0.85      0.84      0.84     14736\n",
      "weighted avg       0.85      0.84      0.84     14736\n",
      "\n",
      "Acurácia: 0.8424\n",
      "\n",
      "Matrix de confusão:\n",
      " Predito     0     1     2    All\n",
      "Real                            \n",
      "0        4132   535   245   4912\n",
      "1         296  4438   178   4912\n",
      "2         442   626  3844   4912\n",
      "All      4870  5599  4267  14736 \n"
     ]
    },
    {
     "data": {
      "image/png": "[encoded data removed]",
      "text/plain": [
       "<Figure size 640x480 with 1 Axes>"
      ]
     },
     "metadata": {},
     "output_type": "display_data"
    },
    {
     "name": "stdout",
     "output_type": "stream",
     "text": [
      "\n",
      "\n"
     ]
    },
    {
     "name": "stderr",
     "output_type": "stream",
     "text": [
      "c:\\Users\\alsvi\\notebooks\\analise_sentimet_twitter_2023\\venv\\lib\\site-packages\\sklearn\\feature_extraction\\text.py:528: UserWarning: The parameter 'token_pattern' will not be used since 'tokenizer' is not None'\n",
      "  warnings.warn(\n"
     ]
    },
    {
     "name": "stdout",
     "output_type": "stream",
     "text": [
      "************************************************************************************************************************************\n",
      "Modelo: Pipeline(steps=[('tfidfVectorizer',\n",
      "                 TfidfVectorizer(tokenizer=<bound method TweetTokenizer.tokenize of <nltk.tokenize.casual.TweetTokenizer object at 0x000001CFCBF12890>>)),\n",
      "                ('modelo',\n",
      "                 LogisticRegression(C=10.0, penalty='l1', solver='liblinear'))])\n",
      "\n",
      "AVALIANDO O MODELO\n",
      "\n",
      "Relatório de Classificação:\n",
      "               precision    recall  f1-score   support\n",
      "\n",
      "           0       0.88      0.82      0.85      1247\n",
      "           1       0.79      0.90      0.84      1198\n",
      "           2       0.90      0.84      0.87      1239\n",
      "\n",
      "    accuracy                           0.85      3684\n",
      "   macro avg       0.86      0.85      0.85      3684\n",
      "weighted avg       0.86      0.85      0.85      3684\n",
      "\n",
      "Acurácia: 0.8521\n",
      "\n",
      "Matrix de confusão:\n",
      " Predito     0     1     2   All\n",
      "Real                           \n",
      "0        1028   152    67  1247\n",
      "1          76  1073    49  1198\n",
      "2          70   131  1038  1239\n",
      "All      1174  1356  1154  3684 \n"
     ]
    },
    {
     "data": {
      "image/png": "[encoded data removed]",
      "text/plain": [
       "<Figure size 640x480 with 1 Axes>"
      ]
     },
     "metadata": {},
     "output_type": "display_data"
    },
    {
     "name": "stdout",
     "output_type": "stream",
     "text": [
      "\n",
      "\n",
      "\n",
      "VALIDAÇÃO CRUZADA\n",
      "\n"
     ]
    },
    {
     "name": "stderr",
     "output_type": "stream",
     "text": [
      "c:\\Users\\alsvi\\notebooks\\analise_sentimet_twitter_2023\\venv\\lib\\site-packages\\sklearn\\feature_extraction\\text.py:528: UserWarning: The parameter 'token_pattern' will not be used since 'tokenizer' is not None'\n",
      "  warnings.warn(\n",
      "c:\\Users\\alsvi\\notebooks\\analise_sentimet_twitter_2023\\venv\\lib\\site-packages\\sklearn\\feature_extraction\\text.py:528: UserWarning: The parameter 'token_pattern' will not be used since 'tokenizer' is not None'\n",
      "  warnings.warn(\n",
      "c:\\Users\\alsvi\\notebooks\\analise_sentimet_twitter_2023\\venv\\lib\\site-packages\\sklearn\\feature_extraction\\text.py:528: UserWarning: The parameter 'token_pattern' will not be used since 'tokenizer' is not None'\n",
      "  warnings.warn(\n",
      "c:\\Users\\alsvi\\notebooks\\analise_sentimet_twitter_2023\\venv\\lib\\site-packages\\sklearn\\feature_extraction\\text.py:528: UserWarning: The parameter 'token_pattern' will not be used since 'tokenizer' is not None'\n",
      "  warnings.warn(\n",
      "c:\\Users\\alsvi\\notebooks\\analise_sentimet_twitter_2023\\venv\\lib\\site-packages\\sklearn\\feature_extraction\\text.py:528: UserWarning: The parameter 'token_pattern' will not be used since 'tokenizer' is not None'\n",
      "  warnings.warn(\n",
      "c:\\Users\\alsvi\\notebooks\\analise_sentimet_twitter_2023\\venv\\lib\\site-packages\\sklearn\\svm\\_base.py:1244: ConvergenceWarning: Liblinear failed to converge, increase the number of iterations.\n",
      "  warnings.warn(\n",
      "c:\\Users\\alsvi\\notebooks\\analise_sentimet_twitter_2023\\venv\\lib\\site-packages\\sklearn\\feature_extraction\\text.py:528: UserWarning: The parameter 'token_pattern' will not be used since 'tokenizer' is not None'\n",
      "  warnings.warn(\n",
      "c:\\Users\\alsvi\\notebooks\\analise_sentimet_twitter_2023\\venv\\lib\\site-packages\\sklearn\\feature_extraction\\text.py:528: UserWarning: The parameter 'token_pattern' will not be used since 'tokenizer' is not None'\n",
      "  warnings.warn(\n",
      "c:\\Users\\alsvi\\notebooks\\analise_sentimet_twitter_2023\\venv\\lib\\site-packages\\sklearn\\feature_extraction\\text.py:528: UserWarning: The parameter 'token_pattern' will not be used since 'tokenizer' is not None'\n",
      "  warnings.warn(\n",
      "c:\\Users\\alsvi\\notebooks\\analise_sentimet_twitter_2023\\venv\\lib\\site-packages\\sklearn\\svm\\_base.py:1244: ConvergenceWarning: Liblinear failed to converge, increase the number of iterations.\n",
      "  warnings.warn(\n",
      "c:\\Users\\alsvi\\notebooks\\analise_sentimet_twitter_2023\\venv\\lib\\site-packages\\sklearn\\feature_extraction\\text.py:528: UserWarning: The parameter 'token_pattern' will not be used since 'tokenizer' is not None'\n",
      "  warnings.warn(\n",
      "c:\\Users\\alsvi\\notebooks\\analise_sentimet_twitter_2023\\venv\\lib\\site-packages\\sklearn\\svm\\_base.py:1244: ConvergenceWarning: Liblinear failed to converge, increase the number of iterations.\n",
      "  warnings.warn(\n",
      "c:\\Users\\alsvi\\notebooks\\analise_sentimet_twitter_2023\\venv\\lib\\site-packages\\sklearn\\feature_extraction\\text.py:528: UserWarning: The parameter 'token_pattern' will not be used since 'tokenizer' is not None'\n",
      "  warnings.warn(\n",
      "c:\\Users\\alsvi\\notebooks\\analise_sentimet_twitter_2023\\venv\\lib\\site-packages\\sklearn\\svm\\_base.py:1244: ConvergenceWarning: Liblinear failed to converge, increase the number of iterations.\n",
      "  warnings.warn(\n"
     ]
    },
    {
     "name": "stdout",
     "output_type": "stream",
     "text": [
      "Relatório de Classificação:\n",
      "               precision    recall  f1-score   support\n",
      "\n",
      "           0       0.85      0.85      0.85      4912\n",
      "           1       0.80      0.90      0.84      4912\n",
      "           2       0.90      0.79      0.84      4912\n",
      "\n",
      "    accuracy                           0.84     14736\n",
      "   macro avg       0.85      0.84      0.84     14736\n",
      "weighted avg       0.85      0.84      0.84     14736\n",
      "\n",
      "Acurácia: 0.8437\n",
      "\n",
      "Matrix de confusão:\n",
      " Predito     0     1     2    All\n",
      "Real                            \n",
      "0        4151   505   256   4912\n",
      "1         316  4404   192   4912\n",
      "2         424   610  3878   4912\n",
      "All      4891  5519  4326  14736 \n"
     ]
    },
    {
     "data": {
      "image/png": "[encoded data removed]",
      "text/plain": [
       "<Figure size 640x480 with 1 Axes>"
      ]
     },
     "metadata": {},
     "output_type": "display_data"
    },
    {
     "name": "stdout",
     "output_type": "stream",
     "text": [
      "\n",
      "\n"
     ]
    },
    {
     "name": "stderr",
     "output_type": "stream",
     "text": [
      "c:\\Users\\alsvi\\notebooks\\analise_sentimet_twitter_2023\\venv\\lib\\site-packages\\sklearn\\feature_extraction\\text.py:528: UserWarning: The parameter 'token_pattern' will not be used since 'tokenizer' is not None'\n",
      "  warnings.warn(\n"
     ]
    },
    {
     "name": "stdout",
     "output_type": "stream",
     "text": [
      "************************************************************************************************************************************\n",
      "Modelo: Pipeline(steps=[('countVectorizer',\n",
      "                 CountVectorizer(tokenizer=<bound method TweetTokenizer.tokenize of <nltk.tokenize.casual.TweetTokenizer object at 0x000001CFCBF12890>>)),\n",
      "                ('modelo',\n",
      "                 PassiveAggressiveClassifier(C=0.003, loss='squared_hinge'))])\n",
      "\n",
      "AVALIANDO O MODELO\n",
      "\n",
      "Relatório de Classificação:\n",
      "               precision    recall  f1-score   support\n",
      "\n",
      "           0       0.85      0.80      0.82      1247\n",
      "           1       0.78      0.88      0.82      1198\n",
      "           2       0.88      0.82      0.85      1239\n",
      "\n",
      "    accuracy                           0.83      3684\n",
      "   macro avg       0.84      0.83      0.83      3684\n",
      "weighted avg       0.84      0.83      0.83      3684\n",
      "\n",
      "Acurácia: 0.8331\n",
      "\n",
      "Matrix de confusão:\n",
      " Predito     0     1     2   All\n",
      "Real                           \n",
      "0         996   174    77  1247\n",
      "1          81  1052    65  1198\n",
      "2          91   127  1021  1239\n",
      "All      1168  1353  1163  3684 \n"
     ]
    },
    {
     "data": {
      "image/png": "[encoded data removed]",
      "text/plain": [
       "<Figure size 640x480 with 1 Axes>"
      ]
     },
     "metadata": {},
     "output_type": "display_data"
    },
    {
     "name": "stdout",
     "output_type": "stream",
     "text": [
      "\n",
      "\n",
      "\n",
      "VALIDAÇÃO CRUZADA\n",
      "\n"
     ]
    },
    {
     "name": "stderr",
     "output_type": "stream",
     "text": [
      "c:\\Users\\alsvi\\notebooks\\analise_sentimet_twitter_2023\\venv\\lib\\site-packages\\sklearn\\feature_extraction\\text.py:528: UserWarning: The parameter 'token_pattern' will not be used since 'tokenizer' is not None'\n",
      "  warnings.warn(\n",
      "c:\\Users\\alsvi\\notebooks\\analise_sentimet_twitter_2023\\venv\\lib\\site-packages\\sklearn\\feature_extraction\\text.py:528: UserWarning: The parameter 'token_pattern' will not be used since 'tokenizer' is not None'\n",
      "  warnings.warn(\n",
      "c:\\Users\\alsvi\\notebooks\\analise_sentimet_twitter_2023\\venv\\lib\\site-packages\\sklearn\\feature_extraction\\text.py:528: UserWarning: The parameter 'token_pattern' will not be used since 'tokenizer' is not None'\n",
      "  warnings.warn(\n",
      "c:\\Users\\alsvi\\notebooks\\analise_sentimet_twitter_2023\\venv\\lib\\site-packages\\sklearn\\feature_extraction\\text.py:528: UserWarning: The parameter 'token_pattern' will not be used since 'tokenizer' is not None'\n",
      "  warnings.warn(\n",
      "c:\\Users\\alsvi\\notebooks\\analise_sentimet_twitter_2023\\venv\\lib\\site-packages\\sklearn\\feature_extraction\\text.py:528: UserWarning: The parameter 'token_pattern' will not be used since 'tokenizer' is not None'\n",
      "  warnings.warn(\n",
      "c:\\Users\\alsvi\\notebooks\\analise_sentimet_twitter_2023\\venv\\lib\\site-packages\\sklearn\\feature_extraction\\text.py:528: UserWarning: The parameter 'token_pattern' will not be used since 'tokenizer' is not None'\n",
      "  warnings.warn(\n",
      "c:\\Users\\alsvi\\notebooks\\analise_sentimet_twitter_2023\\venv\\lib\\site-packages\\sklearn\\feature_extraction\\text.py:528: UserWarning: The parameter 'token_pattern' will not be used since 'tokenizer' is not None'\n",
      "  warnings.warn(\n",
      "c:\\Users\\alsvi\\notebooks\\analise_sentimet_twitter_2023\\venv\\lib\\site-packages\\sklearn\\feature_extraction\\text.py:528: UserWarning: The parameter 'token_pattern' will not be used since 'tokenizer' is not None'\n",
      "  warnings.warn(\n",
      "c:\\Users\\alsvi\\notebooks\\analise_sentimet_twitter_2023\\venv\\lib\\site-packages\\sklearn\\feature_extraction\\text.py:528: UserWarning: The parameter 'token_pattern' will not be used since 'tokenizer' is not None'\n",
      "  warnings.warn(\n",
      "c:\\Users\\alsvi\\notebooks\\analise_sentimet_twitter_2023\\venv\\lib\\site-packages\\sklearn\\feature_extraction\\text.py:528: UserWarning: The parameter 'token_pattern' will not be used since 'tokenizer' is not None'\n",
      "  warnings.warn(\n"
     ]
    },
    {
     "name": "stdout",
     "output_type": "stream",
     "text": [
      "Relatório de Classificação:\n",
      "               precision    recall  f1-score   support\n",
      "\n",
      "           0       0.85      0.84      0.84      4912\n",
      "           1       0.79      0.90      0.84      4912\n",
      "           2       0.89      0.78      0.83      4912\n",
      "\n",
      "    accuracy                           0.84     14736\n",
      "   macro avg       0.84      0.84      0.84     14736\n",
      "weighted avg       0.84      0.84      0.84     14736\n",
      "\n",
      "Acurácia: 0.8375\n",
      "\n",
      "Matrix de confusão:\n",
      " Predito     0     1     2    All\n",
      "Real                            \n",
      "0        4108   524   280   4912\n",
      "1         307  4405   200   4912\n",
      "2         441   643  3828   4912\n",
      "All      4856  5572  4308  14736 \n"
     ]
    },
    {
     "data": {
      "image/png": "[encoded data removed]",
      "text/plain": [
       "<Figure size 640x480 with 1 Axes>"
      ]
     },
     "metadata": {},
     "output_type": "display_data"
    },
    {
     "name": "stdout",
     "output_type": "stream",
     "text": [
      "\n",
      "\n"
     ]
    },
    {
     "name": "stderr",
     "output_type": "stream",
     "text": [
      "c:\\Users\\alsvi\\notebooks\\analise_sentimet_twitter_2023\\venv\\lib\\site-packages\\sklearn\\feature_extraction\\text.py:528: UserWarning: The parameter 'token_pattern' will not be used since 'tokenizer' is not None'\n",
      "  warnings.warn(\n"
     ]
    },
    {
     "name": "stdout",
     "output_type": "stream",
     "text": [
      "************************************************************************************************************************************\n",
      "Modelo: Pipeline(steps=[('tfidfVectorizer',\n",
      "                 TfidfVectorizer(tokenizer=<bound method TweetTokenizer.tokenize of <nltk.tokenize.casual.TweetTokenizer object at 0x000001CFCBF12890>>)),\n",
      "                ('modelo',\n",
      "                 PassiveAggressiveClassifier(C=0.01, loss='squared_hinge'))])\n",
      "\n",
      "AVALIANDO O MODELO\n",
      "\n",
      "Relatório de Classificação:\n",
      "               precision    recall  f1-score   support\n",
      "\n",
      "           0       0.84      0.82      0.83      1247\n",
      "           1       0.79      0.85      0.82      1198\n",
      "           2       0.87      0.83      0.85      1239\n",
      "\n",
      "    accuracy                           0.83      3684\n",
      "   macro avg       0.83      0.83      0.83      3684\n",
      "weighted avg       0.83      0.83      0.83      3684\n",
      "\n",
      "Acurácia: 0.8328\n",
      "\n",
      "Matrix de confusão:\n",
      " Predito     0     1     2   All\n",
      "Real                           \n",
      "0        1019   154    74  1247\n",
      "1          98  1018    82  1198\n",
      "2          89   119  1031  1239\n",
      "All      1206  1291  1187  3684 \n"
     ]
    },
    {
     "data": {
      "image/png": "[encoded data removed]",
      "text/plain": [
       "<Figure size 640x480 with 1 Axes>"
      ]
     },
     "metadata": {},
     "output_type": "display_data"
    },
    {
     "name": "stdout",
     "output_type": "stream",
     "text": [
      "\n",
      "\n",
      "\n",
      "VALIDAÇÃO CRUZADA\n",
      "\n"
     ]
    },
    {
     "name": "stderr",
     "output_type": "stream",
     "text": [
      "c:\\Users\\alsvi\\notebooks\\analise_sentimet_twitter_2023\\venv\\lib\\site-packages\\sklearn\\feature_extraction\\text.py:528: UserWarning: The parameter 'token_pattern' will not be used since 'tokenizer' is not None'\n",
      "  warnings.warn(\n",
      "c:\\Users\\alsvi\\notebooks\\analise_sentimet_twitter_2023\\venv\\lib\\site-packages\\sklearn\\feature_extraction\\text.py:528: UserWarning: The parameter 'token_pattern' will not be used since 'tokenizer' is not None'\n",
      "  warnings.warn(\n",
      "c:\\Users\\alsvi\\notebooks\\analise_sentimet_twitter_2023\\venv\\lib\\site-packages\\sklearn\\feature_extraction\\text.py:528: UserWarning: The parameter 'token_pattern' will not be used since 'tokenizer' is not None'\n",
      "  warnings.warn(\n",
      "c:\\Users\\alsvi\\notebooks\\analise_sentimet_twitter_2023\\venv\\lib\\site-packages\\sklearn\\feature_extraction\\text.py:528: UserWarning: The parameter 'token_pattern' will not be used since 'tokenizer' is not None'\n",
      "  warnings.warn(\n",
      "c:\\Users\\alsvi\\notebooks\\analise_sentimet_twitter_2023\\venv\\lib\\site-packages\\sklearn\\feature_extraction\\text.py:528: UserWarning: The parameter 'token_pattern' will not be used since 'tokenizer' is not None'\n",
      "  warnings.warn(\n",
      "c:\\Users\\alsvi\\notebooks\\analise_sentimet_twitter_2023\\venv\\lib\\site-packages\\sklearn\\feature_extraction\\text.py:528: UserWarning: The parameter 'token_pattern' will not be used since 'tokenizer' is not None'\n",
      "  warnings.warn(\n",
      "c:\\Users\\alsvi\\notebooks\\analise_sentimet_twitter_2023\\venv\\lib\\site-packages\\sklearn\\feature_extraction\\text.py:528: UserWarning: The parameter 'token_pattern' will not be used since 'tokenizer' is not None'\n",
      "  warnings.warn(\n",
      "c:\\Users\\alsvi\\notebooks\\analise_sentimet_twitter_2023\\venv\\lib\\site-packages\\sklearn\\feature_extraction\\text.py:528: UserWarning: The parameter 'token_pattern' will not be used since 'tokenizer' is not None'\n",
      "  warnings.warn(\n",
      "c:\\Users\\alsvi\\notebooks\\analise_sentimet_twitter_2023\\venv\\lib\\site-packages\\sklearn\\feature_extraction\\text.py:528: UserWarning: The parameter 'token_pattern' will not be used since 'tokenizer' is not None'\n",
      "  warnings.warn(\n",
      "c:\\Users\\alsvi\\notebooks\\analise_sentimet_twitter_2023\\venv\\lib\\site-packages\\sklearn\\feature_extraction\\text.py:528: UserWarning: The parameter 'token_pattern' will not be used since 'tokenizer' is not None'\n",
      "  warnings.warn(\n"
     ]
    },
    {
     "name": "stdout",
     "output_type": "stream",
     "text": [
      "Relatório de Classificação:\n",
      "               precision    recall  f1-score   support\n",
      "\n",
      "           0       0.83      0.84      0.84      4912\n",
      "           1       0.80      0.87      0.83      4912\n",
      "           2       0.87      0.78      0.82      4912\n",
      "\n",
      "    accuracy                           0.83     14736\n",
      "   macro avg       0.83      0.83      0.83     14736\n",
      "weighted avg       0.83      0.83      0.83     14736\n",
      "\n",
      "Acurácia: 0.8310\n",
      "\n",
      "Matrix de confusão:\n",
      " Predito     0     1     2    All\n",
      "Real                            \n",
      "0        4126   485   301   4912\n",
      "1         366  4287   259   4912\n",
      "2         463   616  3833   4912\n",
      "All      4955  5388  4393  14736 \n"
     ]
    },
    {
     "data": {
      "image/png": "[encoded data removed]",
      "text/plain": [
       "<Figure size 640x480 with 1 Axes>"
      ]
     },
     "metadata": {},
     "output_type": "display_data"
    },
    {
     "name": "stdout",
     "output_type": "stream",
     "text": [
      "\n",
      "\n"
     ]
    },
    {
     "name": "stderr",
     "output_type": "stream",
     "text": [
      "c:\\Users\\alsvi\\notebooks\\analise_sentimet_twitter_2023\\venv\\lib\\site-packages\\sklearn\\feature_extraction\\text.py:528: UserWarning: The parameter 'token_pattern' will not be used since 'tokenizer' is not None'\n",
      "  warnings.warn(\n"
     ]
    },
    {
     "name": "stdout",
     "output_type": "stream",
     "text": [
      "************************************************************************************************************************************\n",
      "Modelo: Pipeline(steps=[('countVectorizer',\n",
      "                 CountVectorizer(tokenizer=<bound method TweetTokenizer.tokenize of <nltk.tokenize.casual.TweetTokenizer object at 0x000001CFCBF12890>>)),\n",
      "                ('modelo', RandomForestClassifier(n_estimators=10))])\n",
      "\n",
      "AVALIANDO O MODELO\n",
      "\n",
      "Relatório de Classificação:\n",
      "               precision    recall  f1-score   support\n",
      "\n",
      "           0       0.82      0.78      0.80      1247\n",
      "           1       0.68      0.89      0.77      1198\n",
      "           2       0.89      0.69      0.78      1239\n",
      "\n",
      "    accuracy                           0.78      3684\n",
      "   macro avg       0.80      0.78      0.78      3684\n",
      "weighted avg       0.80      0.78      0.78      3684\n",
      "\n",
      "Acurácia: 0.7820\n",
      "\n",
      "Matrix de confusão:\n",
      " Predito     0     1    2   All\n",
      "Real                          \n",
      "0         967   222   58  1247\n",
      "1          93  1061   44  1198\n",
      "2         120   266  853  1239\n",
      "All      1180  1549  955  3684 \n"
     ]
    },
    {
     "data": {
      "image/png": "[encoded data removed]",
      "text/plain": [
       "<Figure size 640x480 with 1 Axes>"
      ]
     },
     "metadata": {},
     "output_type": "display_data"
    },
    {
     "name": "stdout",
     "output_type": "stream",
     "text": [
      "\n",
      "\n",
      "\n",
      "VALIDAÇÃO CRUZADA\n",
      "\n"
     ]
    },
    {
     "name": "stderr",
     "output_type": "stream",
     "text": [
      "c:\\Users\\alsvi\\notebooks\\analise_sentimet_twitter_2023\\venv\\lib\\site-packages\\sklearn\\feature_extraction\\text.py:528: UserWarning: The parameter 'token_pattern' will not be used since 'tokenizer' is not None'\n",
      "  warnings.warn(\n",
      "c:\\Users\\alsvi\\notebooks\\analise_sentimet_twitter_2023\\venv\\lib\\site-packages\\sklearn\\feature_extraction\\text.py:528: UserWarning: The parameter 'token_pattern' will not be used since 'tokenizer' is not None'\n",
      "  warnings.warn(\n",
      "c:\\Users\\alsvi\\notebooks\\analise_sentimet_twitter_2023\\venv\\lib\\site-packages\\sklearn\\feature_extraction\\text.py:528: UserWarning: The parameter 'token_pattern' will not be used since 'tokenizer' is not None'\n",
      "  warnings.warn(\n",
      "c:\\Users\\alsvi\\notebooks\\analise_sentimet_twitter_2023\\venv\\lib\\site-packages\\sklearn\\feature_extraction\\text.py:528: UserWarning: The parameter 'token_pattern' will not be used since 'tokenizer' is not None'\n",
      "  warnings.warn(\n",
      "c:\\Users\\alsvi\\notebooks\\analise_sentimet_twitter_2023\\venv\\lib\\site-packages\\sklearn\\feature_extraction\\text.py:528: UserWarning: The parameter 'token_pattern' will not be used since 'tokenizer' is not None'\n",
      "  warnings.warn(\n",
      "c:\\Users\\alsvi\\notebooks\\analise_sentimet_twitter_2023\\venv\\lib\\site-packages\\sklearn\\feature_extraction\\text.py:528: UserWarning: The parameter 'token_pattern' will not be used since 'tokenizer' is not None'\n",
      "  warnings.warn(\n",
      "c:\\Users\\alsvi\\notebooks\\analise_sentimet_twitter_2023\\venv\\lib\\site-packages\\sklearn\\feature_extraction\\text.py:528: UserWarning: The parameter 'token_pattern' will not be used since 'tokenizer' is not None'\n",
      "  warnings.warn(\n",
      "c:\\Users\\alsvi\\notebooks\\analise_sentimet_twitter_2023\\venv\\lib\\site-packages\\sklearn\\feature_extraction\\text.py:528: UserWarning: The parameter 'token_pattern' will not be used since 'tokenizer' is not None'\n",
      "  warnings.warn(\n",
      "c:\\Users\\alsvi\\notebooks\\analise_sentimet_twitter_2023\\venv\\lib\\site-packages\\sklearn\\feature_extraction\\text.py:528: UserWarning: The parameter 'token_pattern' will not be used since 'tokenizer' is not None'\n",
      "  warnings.warn(\n",
      "c:\\Users\\alsvi\\notebooks\\analise_sentimet_twitter_2023\\venv\\lib\\site-packages\\sklearn\\feature_extraction\\text.py:528: UserWarning: The parameter 'token_pattern' will not be used since 'tokenizer' is not None'\n",
      "  warnings.warn(\n"
     ]
    },
    {
     "name": "stdout",
     "output_type": "stream",
     "text": [
      "Relatório de Classificação:\n",
      "               precision    recall  f1-score   support\n",
      "\n",
      "           0       0.82      0.80      0.81      4912\n",
      "           1       0.69      0.90      0.78      4912\n",
      "           2       0.88      0.63      0.74      4912\n",
      "\n",
      "    accuracy                           0.78     14736\n",
      "   macro avg       0.80      0.78      0.78     14736\n",
      "weighted avg       0.80      0.78      0.78     14736\n",
      "\n",
      "Acurácia: 0.7771\n",
      "\n",
      "Matrix de confusão:\n",
      " Predito     0     1     2    All\n",
      "Real                            \n",
      "0        3927   715   270   4912\n",
      "1         334  4415   163   4912\n",
      "2         528  1275  3109   4912\n",
      "All      4789  6405  3542  14736 \n"
     ]
    },
    {
     "data": {
      "image/png": "[encoded data removed]",
      "text/plain": [
       "<Figure size 640x480 with 1 Axes>"
      ]
     },
     "metadata": {},
     "output_type": "display_data"
    },
    {
     "name": "stdout",
     "output_type": "stream",
     "text": [
      "\n",
      "\n"
     ]
    },
    {
     "name": "stderr",
     "output_type": "stream",
     "text": [
      "c:\\Users\\alsvi\\notebooks\\analise_sentimet_twitter_2023\\venv\\lib\\site-packages\\sklearn\\feature_extraction\\text.py:528: UserWarning: The parameter 'token_pattern' will not be used since 'tokenizer' is not None'\n",
      "  warnings.warn(\n"
     ]
    },
    {
     "name": "stdout",
     "output_type": "stream",
     "text": [
      "************************************************************************************************************************************\n",
      "Modelo: Pipeline(steps=[('tfidfVectorizer',\n",
      "                 TfidfVectorizer(tokenizer=<bound method TweetTokenizer.tokenize of <nltk.tokenize.casual.TweetTokenizer object at 0x000001CFCBF12890>>)),\n",
      "                ('modelo', RandomForestClassifier(n_estimators=10))])\n",
      "\n",
      "AVALIANDO O MODELO\n",
      "\n",
      "Relatório de Classificação:\n",
      "               precision    recall  f1-score   support\n",
      "\n",
      "           0       0.82      0.79      0.81      1247\n",
      "           1       0.72      0.88      0.79      1198\n",
      "           2       0.86      0.70      0.77      1239\n",
      "\n",
      "    accuracy                           0.79      3684\n",
      "   macro avg       0.80      0.79      0.79      3684\n",
      "weighted avg       0.80      0.79      0.79      3684\n",
      "\n",
      "Acurácia: 0.7902\n",
      "\n",
      "Matrix de confusão:\n",
      " Predito     0     1     2   All\n",
      "Real                           \n",
      "0         989   176    82  1247\n",
      "1          85  1052    61  1198\n",
      "2         132   237   870  1239\n",
      "All      1206  1465  1013  3684 \n"
     ]
    },
    {
     "data": {
      "image/png": "[encoded data removed]",
      "text/plain": [
       "<Figure size 640x480 with 1 Axes>"
      ]
     },
     "metadata": {},
     "output_type": "display_data"
    },
    {
     "name": "stdout",
     "output_type": "stream",
     "text": [
      "\n",
      "\n",
      "\n",
      "VALIDAÇÃO CRUZADA\n",
      "\n"
     ]
    },
    {
     "name": "stderr",
     "output_type": "stream",
     "text": [
      "c:\\Users\\alsvi\\notebooks\\analise_sentimet_twitter_2023\\venv\\lib\\site-packages\\sklearn\\feature_extraction\\text.py:528: UserWarning: The parameter 'token_pattern' will not be used since 'tokenizer' is not None'\n",
      "  warnings.warn(\n",
      "c:\\Users\\alsvi\\notebooks\\analise_sentimet_twitter_2023\\venv\\lib\\site-packages\\sklearn\\feature_extraction\\text.py:528: UserWarning: The parameter 'token_pattern' will not be used since 'tokenizer' is not None'\n",
      "  warnings.warn(\n",
      "c:\\Users\\alsvi\\notebooks\\analise_sentimet_twitter_2023\\venv\\lib\\site-packages\\sklearn\\feature_extraction\\text.py:528: UserWarning: The parameter 'token_pattern' will not be used since 'tokenizer' is not None'\n",
      "  warnings.warn(\n",
      "c:\\Users\\alsvi\\notebooks\\analise_sentimet_twitter_2023\\venv\\lib\\site-packages\\sklearn\\feature_extraction\\text.py:528: UserWarning: The parameter 'token_pattern' will not be used since 'tokenizer' is not None'\n",
      "  warnings.warn(\n",
      "c:\\Users\\alsvi\\notebooks\\analise_sentimet_twitter_2023\\venv\\lib\\site-packages\\sklearn\\feature_extraction\\text.py:528: UserWarning: The parameter 'token_pattern' will not be used since 'tokenizer' is not None'\n",
      "  warnings.warn(\n",
      "c:\\Users\\alsvi\\notebooks\\analise_sentimet_twitter_2023\\venv\\lib\\site-packages\\sklearn\\feature_extraction\\text.py:528: UserWarning: The parameter 'token_pattern' will not be used since 'tokenizer' is not None'\n",
      "  warnings.warn(\n",
      "c:\\Users\\alsvi\\notebooks\\analise_sentimet_twitter_2023\\venv\\lib\\site-packages\\sklearn\\feature_extraction\\text.py:528: UserWarning: The parameter 'token_pattern' will not be used since 'tokenizer' is not None'\n",
      "  warnings.warn(\n",
      "c:\\Users\\alsvi\\notebooks\\analise_sentimet_twitter_2023\\venv\\lib\\site-packages\\sklearn\\feature_extraction\\text.py:528: UserWarning: The parameter 'token_pattern' will not be used since 'tokenizer' is not None'\n",
      "  warnings.warn(\n",
      "c:\\Users\\alsvi\\notebooks\\analise_sentimet_twitter_2023\\venv\\lib\\site-packages\\sklearn\\feature_extraction\\text.py:528: UserWarning: The parameter 'token_pattern' will not be used since 'tokenizer' is not None'\n",
      "  warnings.warn(\n",
      "c:\\Users\\alsvi\\notebooks\\analise_sentimet_twitter_2023\\venv\\lib\\site-packages\\sklearn\\feature_extraction\\text.py:528: UserWarning: The parameter 'token_pattern' will not be used since 'tokenizer' is not None'\n",
      "  warnings.warn(\n"
     ]
    },
    {
     "name": "stdout",
     "output_type": "stream",
     "text": [
      "Relatório de Classificação:\n",
      "               precision    recall  f1-score   support\n",
      "\n",
      "           0       0.79      0.81      0.80      4912\n",
      "           1       0.71      0.87      0.78      4912\n",
      "           2       0.85      0.62      0.72      4912\n",
      "\n",
      "    accuracy                           0.77     14736\n",
      "   macro avg       0.78      0.77      0.77     14736\n",
      "weighted avg       0.78      0.77      0.77     14736\n",
      "\n",
      "Acurácia: 0.7702\n",
      "\n",
      "Matrix de confusão:\n",
      " Predito     0     1     2    All\n",
      "Real                            \n",
      "0        3985   618   309   4912\n",
      "1         383  4295   234   4912\n",
      "2         696  1146  3070   4912\n",
      "All      5064  6059  3613  14736 \n"
     ]
    },
    {
     "data": {
      "image/png": "[encoded data removed]",
      "text/plain": [
       "<Figure size 640x480 with 1 Axes>"
      ]
     },
     "metadata": {},
     "output_type": "display_data"
    },
    {
     "name": "stdout",
     "output_type": "stream",
     "text": [
      "\n",
      "\n"
     ]
    },
    {
     "name": "stderr",
     "output_type": "stream",
     "text": [
      "c:\\Users\\alsvi\\notebooks\\analise_sentimet_twitter_2023\\venv\\lib\\site-packages\\sklearn\\feature_extraction\\text.py:528: UserWarning: The parameter 'token_pattern' will not be used since 'tokenizer' is not None'\n",
      "  warnings.warn(\n"
     ]
    },
    {
     "name": "stdout",
     "output_type": "stream",
     "text": [
      "************************************************************************************************************************************\n",
      "Modelo: Pipeline(steps=[('countVectorizer',\n",
      "                 CountVectorizer(tokenizer=<bound method TweetTokenizer.tokenize of <nltk.tokenize.casual.TweetTokenizer object at 0x000001CFCBF12890>>)),\n",
      "                ('modelo', SGDClassifier(penalty='elasticnet'))])\n",
      "\n",
      "AVALIANDO O MODELO\n",
      "\n",
      "Relatório de Classificação:\n",
      "               precision    recall  f1-score   support\n",
      "\n",
      "           0       0.86      0.80      0.83      1247\n",
      "           1       0.77      0.88      0.82      1198\n",
      "           2       0.88      0.83      0.85      1239\n",
      "\n",
      "    accuracy                           0.83      3684\n",
      "   macro avg       0.84      0.84      0.83      3684\n",
      "weighted avg       0.84      0.83      0.83      3684\n",
      "\n",
      "Acurácia: 0.8344\n",
      "\n",
      "Matrix de confusão:\n",
      " Predito     0     1     2   All\n",
      "Real                           \n",
      "0         992   178    77  1247\n",
      "1          75  1056    67  1198\n",
      "2          81   132  1026  1239\n",
      "All      1148  1366  1170  3684 \n"
     ]
    },
    {
     "data": {
      "image/png": "[encoded data removed]",
      "text/plain": [
       "<Figure size 640x480 with 1 Axes>"
      ]
     },
     "metadata": {},
     "output_type": "display_data"
    },
    {
     "name": "stdout",
     "output_type": "stream",
     "text": [
      "\n",
      "\n",
      "\n",
      "VALIDAÇÃO CRUZADA\n",
      "\n"
     ]
    },
    {
     "name": "stderr",
     "output_type": "stream",
     "text": [
      "c:\\Users\\alsvi\\notebooks\\analise_sentimet_twitter_2023\\venv\\lib\\site-packages\\sklearn\\feature_extraction\\text.py:528: UserWarning: The parameter 'token_pattern' will not be used since 'tokenizer' is not None'\n",
      "  warnings.warn(\n",
      "c:\\Users\\alsvi\\notebooks\\analise_sentimet_twitter_2023\\venv\\lib\\site-packages\\sklearn\\feature_extraction\\text.py:528: UserWarning: The parameter 'token_pattern' will not be used since 'tokenizer' is not None'\n",
      "  warnings.warn(\n",
      "c:\\Users\\alsvi\\notebooks\\analise_sentimet_twitter_2023\\venv\\lib\\site-packages\\sklearn\\feature_extraction\\text.py:528: UserWarning: The parameter 'token_pattern' will not be used since 'tokenizer' is not None'\n",
      "  warnings.warn(\n",
      "c:\\Users\\alsvi\\notebooks\\analise_sentimet_twitter_2023\\venv\\lib\\site-packages\\sklearn\\feature_extraction\\text.py:528: UserWarning: The parameter 'token_pattern' will not be used since 'tokenizer' is not None'\n",
      "  warnings.warn(\n",
      "c:\\Users\\alsvi\\notebooks\\analise_sentimet_twitter_2023\\venv\\lib\\site-packages\\sklearn\\feature_extraction\\text.py:528: UserWarning: The parameter 'token_pattern' will not be used since 'tokenizer' is not None'\n",
      "  warnings.warn(\n",
      "c:\\Users\\alsvi\\notebooks\\analise_sentimet_twitter_2023\\venv\\lib\\site-packages\\sklearn\\feature_extraction\\text.py:528: UserWarning: The parameter 'token_pattern' will not be used since 'tokenizer' is not None'\n",
      "  warnings.warn(\n",
      "c:\\Users\\alsvi\\notebooks\\analise_sentimet_twitter_2023\\venv\\lib\\site-packages\\sklearn\\feature_extraction\\text.py:528: UserWarning: The parameter 'token_pattern' will not be used since 'tokenizer' is not None'\n",
      "  warnings.warn(\n",
      "c:\\Users\\alsvi\\notebooks\\analise_sentimet_twitter_2023\\venv\\lib\\site-packages\\sklearn\\feature_extraction\\text.py:528: UserWarning: The parameter 'token_pattern' will not be used since 'tokenizer' is not None'\n",
      "  warnings.warn(\n",
      "c:\\Users\\alsvi\\notebooks\\analise_sentimet_twitter_2023\\venv\\lib\\site-packages\\sklearn\\feature_extraction\\text.py:528: UserWarning: The parameter 'token_pattern' will not be used since 'tokenizer' is not None'\n",
      "  warnings.warn(\n",
      "c:\\Users\\alsvi\\notebooks\\analise_sentimet_twitter_2023\\venv\\lib\\site-packages\\sklearn\\feature_extraction\\text.py:528: UserWarning: The parameter 'token_pattern' will not be used since 'tokenizer' is not None'\n",
      "  warnings.warn(\n"
     ]
    },
    {
     "name": "stdout",
     "output_type": "stream",
     "text": [
      "Relatório de Classificação:\n",
      "               precision    recall  f1-score   support\n",
      "\n",
      "           0       0.85      0.82      0.83      4912\n",
      "           1       0.78      0.90      0.84      4912\n",
      "           2       0.89      0.78      0.83      4912\n",
      "\n",
      "    accuracy                           0.83     14736\n",
      "   macro avg       0.84      0.83      0.83     14736\n",
      "weighted avg       0.84      0.83      0.83     14736\n",
      "\n",
      "Acurácia: 0.8344\n",
      "\n",
      "Matrix de confusão:\n",
      " Predito     0     1     2    All\n",
      "Real                            \n",
      "0        4011   602   299   4912\n",
      "1         288  4440   184   4912\n",
      "2         403   665  3844   4912\n",
      "All      4702  5707  4327  14736 \n"
     ]
    },
    {
     "data": {
      "image/png": "[encoded data removed]",
      "text/plain": [
       "<Figure size 640x480 with 1 Axes>"
      ]
     },
     "metadata": {},
     "output_type": "display_data"
    },
    {
     "name": "stdout",
     "output_type": "stream",
     "text": [
      "\n",
      "\n"
     ]
    },
    {
     "name": "stderr",
     "output_type": "stream",
     "text": [
      "c:\\Users\\alsvi\\notebooks\\analise_sentimet_twitter_2023\\venv\\lib\\site-packages\\sklearn\\feature_extraction\\text.py:528: UserWarning: The parameter 'token_pattern' will not be used since 'tokenizer' is not None'\n",
      "  warnings.warn(\n"
     ]
    },
    {
     "name": "stdout",
     "output_type": "stream",
     "text": [
      "************************************************************************************************************************************\n",
      "Modelo: Pipeline(steps=[('tfidfVectorizer',\n",
      "                 TfidfVectorizer(tokenizer=<bound method TweetTokenizer.tokenize of <nltk.tokenize.casual.TweetTokenizer object at 0x000001CFCBF12890>>)),\n",
      "                ('modelo',\n",
      "                 SGDClassifier(loss='modified_huber', penalty='elasticnet'))])\n",
      "\n",
      "AVALIANDO O MODELO\n",
      "\n",
      "Relatório de Classificação:\n",
      "               precision    recall  f1-score   support\n",
      "\n",
      "           0       0.85      0.82      0.83      1247\n",
      "           1       0.78      0.86      0.82      1198\n",
      "           2       0.87      0.83      0.85      1239\n",
      "\n",
      "    accuracy                           0.84      3684\n",
      "   macro avg       0.84      0.84      0.84      3684\n",
      "weighted avg       0.84      0.84      0.84      3684\n",
      "\n",
      "Acurácia: 0.8358\n",
      "\n",
      "Matrix de confusão:\n",
      " Predito     0     1     2   All\n",
      "Real                           \n",
      "0        1017   155    75  1247\n",
      "1          89  1036    73  1198\n",
      "2          84   129  1026  1239\n",
      "All      1190  1320  1174  3684 \n"
     ]
    },
    {
     "data": {
      "image/png": "[encoded data removed]",
      "text/plain": [
       "<Figure size 640x480 with 1 Axes>"
      ]
     },
     "metadata": {},
     "output_type": "display_data"
    },
    {
     "name": "stdout",
     "output_type": "stream",
     "text": [
      "\n",
      "\n",
      "\n",
      "VALIDAÇÃO CRUZADA\n",
      "\n"
     ]
    },
    {
     "name": "stderr",
     "output_type": "stream",
     "text": [
      "c:\\Users\\alsvi\\notebooks\\analise_sentimet_twitter_2023\\venv\\lib\\site-packages\\sklearn\\feature_extraction\\text.py:528: UserWarning: The parameter 'token_pattern' will not be used since 'tokenizer' is not None'\n",
      "  warnings.warn(\n",
      "c:\\Users\\alsvi\\notebooks\\analise_sentimet_twitter_2023\\venv\\lib\\site-packages\\sklearn\\feature_extraction\\text.py:528: UserWarning: The parameter 'token_pattern' will not be used since 'tokenizer' is not None'\n",
      "  warnings.warn(\n",
      "c:\\Users\\alsvi\\notebooks\\analise_sentimet_twitter_2023\\venv\\lib\\site-packages\\sklearn\\feature_extraction\\text.py:528: UserWarning: The parameter 'token_pattern' will not be used since 'tokenizer' is not None'\n",
      "  warnings.warn(\n",
      "c:\\Users\\alsvi\\notebooks\\analise_sentimet_twitter_2023\\venv\\lib\\site-packages\\sklearn\\feature_extraction\\text.py:528: UserWarning: The parameter 'token_pattern' will not be used since 'tokenizer' is not None'\n",
      "  warnings.warn(\n",
      "c:\\Users\\alsvi\\notebooks\\analise_sentimet_twitter_2023\\venv\\lib\\site-packages\\sklearn\\feature_extraction\\text.py:528: UserWarning: The parameter 'token_pattern' will not be used since 'tokenizer' is not None'\n",
      "  warnings.warn(\n",
      "c:\\Users\\alsvi\\notebooks\\analise_sentimet_twitter_2023\\venv\\lib\\site-packages\\sklearn\\feature_extraction\\text.py:528: UserWarning: The parameter 'token_pattern' will not be used since 'tokenizer' is not None'\n",
      "  warnings.warn(\n",
      "c:\\Users\\alsvi\\notebooks\\analise_sentimet_twitter_2023\\venv\\lib\\site-packages\\sklearn\\feature_extraction\\text.py:528: UserWarning: The parameter 'token_pattern' will not be used since 'tokenizer' is not None'\n",
      "  warnings.warn(\n",
      "c:\\Users\\alsvi\\notebooks\\analise_sentimet_twitter_2023\\venv\\lib\\site-packages\\sklearn\\feature_extraction\\text.py:528: UserWarning: The parameter 'token_pattern' will not be used since 'tokenizer' is not None'\n",
      "  warnings.warn(\n",
      "c:\\Users\\alsvi\\notebooks\\analise_sentimet_twitter_2023\\venv\\lib\\site-packages\\sklearn\\feature_extraction\\text.py:528: UserWarning: The parameter 'token_pattern' will not be used since 'tokenizer' is not None'\n",
      "  warnings.warn(\n",
      "c:\\Users\\alsvi\\notebooks\\analise_sentimet_twitter_2023\\venv\\lib\\site-packages\\sklearn\\feature_extraction\\text.py:528: UserWarning: The parameter 'token_pattern' will not be used since 'tokenizer' is not None'\n",
      "  warnings.warn(\n"
     ]
    },
    {
     "name": "stdout",
     "output_type": "stream",
     "text": [
      "Relatório de Classificação:\n",
      "               precision    recall  f1-score   support\n",
      "\n",
      "           0       0.83      0.83      0.83      4912\n",
      "           1       0.78      0.88      0.83      4912\n",
      "           2       0.88      0.77      0.82      4912\n",
      "\n",
      "    accuracy                           0.83     14736\n",
      "   macro avg       0.83      0.83      0.83     14736\n",
      "weighted avg       0.83      0.83      0.83     14736\n",
      "\n",
      "Acurácia: 0.8256\n",
      "\n",
      "Matrix de confusão:\n",
      " Predito     0     1     2    All\n",
      "Real                            \n",
      "0        4073   548   291   4912\n",
      "1         362  4329   221   4912\n",
      "2         460   688  3764   4912\n",
      "All      4895  5565  4276  14736 \n"
     ]
    },
    {
     "data": {
      "image/png": "[encoded data removed]",
      "text/plain": [
       "<Figure size 640x480 with 1 Axes>"
      ]
     },
     "metadata": {},
     "output_type": "display_data"
    },
    {
     "name": "stdout",
     "output_type": "stream",
     "text": [
      "\n",
      "\n"
     ]
    },
    {
     "name": "stderr",
     "output_type": "stream",
     "text": [
      "c:\\Users\\alsvi\\notebooks\\analise_sentimet_twitter_2023\\venv\\lib\\site-packages\\sklearn\\feature_extraction\\text.py:528: UserWarning: The parameter 'token_pattern' will not be used since 'tokenizer' is not None'\n",
      "  warnings.warn(\n"
     ]
    },
    {
     "name": "stdout",
     "output_type": "stream",
     "text": [
      "************************************************************************************************************************************\n",
      "Modelo: Pipeline(steps=[('countVectorizer',\n",
      "                 CountVectorizer(tokenizer=<bound method TweetTokenizer.tokenize of <nltk.tokenize.casual.TweetTokenizer object at 0x000001CFCBF12890>>)),\n",
      "                ('modelo', SVC(C=1, gamma=1, kernel='linear'))])\n",
      "\n",
      "AVALIANDO O MODELO\n",
      "\n",
      "Relatório de Classificação:\n",
      "               precision    recall  f1-score   support\n",
      "\n",
      "           0       0.82      0.79      0.81      1247\n",
      "           1       0.78      0.88      0.83      1198\n",
      "           2       0.88      0.80      0.84      1239\n",
      "\n",
      "    accuracy                           0.82      3684\n",
      "   macro avg       0.83      0.82      0.82      3684\n",
      "weighted avg       0.83      0.82      0.82      3684\n",
      "\n",
      "Acurácia: 0.8233\n",
      "\n",
      "Matrix de confusão:\n",
      " Predito     0     1     2   All\n",
      "Real                           \n",
      "0         986   179    82  1247\n",
      "1          88  1054    56  1198\n",
      "2         123   123   993  1239\n",
      "All      1197  1356  1131  3684 \n"
     ]
    },
    {
     "data": {
      "image/png": "[encoded data removed]",
      "text/plain": [
       "<Figure size 640x480 with 1 Axes>"
      ]
     },
     "metadata": {},
     "output_type": "display_data"
    },
    {
     "name": "stdout",
     "output_type": "stream",
     "text": [
      "\n",
      "\n",
      "\n",
      "VALIDAÇÃO CRUZADA\n",
      "\n"
     ]
    },
    {
     "name": "stderr",
     "output_type": "stream",
     "text": [
      "c:\\Users\\alsvi\\notebooks\\analise_sentimet_twitter_2023\\venv\\lib\\site-packages\\sklearn\\feature_extraction\\text.py:528: UserWarning: The parameter 'token_pattern' will not be used since 'tokenizer' is not None'\n",
      "  warnings.warn(\n",
      "c:\\Users\\alsvi\\notebooks\\analise_sentimet_twitter_2023\\venv\\lib\\site-packages\\sklearn\\feature_extraction\\text.py:528: UserWarning: The parameter 'token_pattern' will not be used since 'tokenizer' is not None'\n",
      "  warnings.warn(\n",
      "c:\\Users\\alsvi\\notebooks\\analise_sentimet_twitter_2023\\venv\\lib\\site-packages\\sklearn\\feature_extraction\\text.py:528: UserWarning: The parameter 'token_pattern' will not be used since 'tokenizer' is not None'\n",
      "  warnings.warn(\n",
      "c:\\Users\\alsvi\\notebooks\\analise_sentimet_twitter_2023\\venv\\lib\\site-packages\\sklearn\\feature_extraction\\text.py:528: UserWarning: The parameter 'token_pattern' will not be used since 'tokenizer' is not None'\n",
      "  warnings.warn(\n",
      "c:\\Users\\alsvi\\notebooks\\analise_sentimet_twitter_2023\\venv\\lib\\site-packages\\sklearn\\feature_extraction\\text.py:528: UserWarning: The parameter 'token_pattern' will not be used since 'tokenizer' is not None'\n",
      "  warnings.warn(\n",
      "c:\\Users\\alsvi\\notebooks\\analise_sentimet_twitter_2023\\venv\\lib\\site-packages\\sklearn\\feature_extraction\\text.py:528: UserWarning: The parameter 'token_pattern' will not be used since 'tokenizer' is not None'\n",
      "  warnings.warn(\n",
      "c:\\Users\\alsvi\\notebooks\\analise_sentimet_twitter_2023\\venv\\lib\\site-packages\\sklearn\\feature_extraction\\text.py:528: UserWarning: The parameter 'token_pattern' will not be used since 'tokenizer' is not None'\n",
      "  warnings.warn(\n",
      "c:\\Users\\alsvi\\notebooks\\analise_sentimet_twitter_2023\\venv\\lib\\site-packages\\sklearn\\feature_extraction\\text.py:528: UserWarning: The parameter 'token_pattern' will not be used since 'tokenizer' is not None'\n",
      "  warnings.warn(\n",
      "c:\\Users\\alsvi\\notebooks\\analise_sentimet_twitter_2023\\venv\\lib\\site-packages\\sklearn\\feature_extraction\\text.py:528: UserWarning: The parameter 'token_pattern' will not be used since 'tokenizer' is not None'\n",
      "  warnings.warn(\n",
      "c:\\Users\\alsvi\\notebooks\\analise_sentimet_twitter_2023\\venv\\lib\\site-packages\\sklearn\\feature_extraction\\text.py:528: UserWarning: The parameter 'token_pattern' will not be used since 'tokenizer' is not None'\n",
      "  warnings.warn(\n"
     ]
    },
    {
     "name": "stdout",
     "output_type": "stream",
     "text": [
      "Relatório de Classificação:\n",
      "               precision    recall  f1-score   support\n",
      "\n",
      "           0       0.81      0.83      0.82      4912\n",
      "           1       0.78      0.89      0.83      4912\n",
      "           2       0.89      0.75      0.81      4912\n",
      "\n",
      "    accuracy                           0.82     14736\n",
      "   macro avg       0.83      0.82      0.82     14736\n",
      "weighted avg       0.83      0.82      0.82     14736\n",
      "\n",
      "Acurácia: 0.8223\n",
      "\n",
      "Matrix de confusão:\n",
      " Predito     0     1     2    All\n",
      "Real                            \n",
      "0        4067   561   284   4912\n",
      "1         343  4379   190   4912\n",
      "2         586   655  3671   4912\n",
      "All      4996  5595  4145  14736 \n"
     ]
    },
    {
     "data": {
      "image/png": "[encoded data removed]",
      "text/plain": [
       "<Figure size 640x480 with 1 Axes>"
      ]
     },
     "metadata": {},
     "output_type": "display_data"
    },
    {
     "name": "stdout",
     "output_type": "stream",
     "text": [
      "\n",
      "\n"
     ]
    },
    {
     "name": "stderr",
     "output_type": "stream",
     "text": [
      "c:\\Users\\alsvi\\notebooks\\analise_sentimet_twitter_2023\\venv\\lib\\site-packages\\sklearn\\feature_extraction\\text.py:528: UserWarning: The parameter 'token_pattern' will not be used since 'tokenizer' is not None'\n",
      "  warnings.warn(\n"
     ]
    },
    {
     "name": "stdout",
     "output_type": "stream",
     "text": [
      "************************************************************************************************************************************\n",
      "Modelo: Pipeline(steps=[('tfidfVectorizer',\n",
      "                 TfidfVectorizer(tokenizer=<bound method TweetTokenizer.tokenize of <nltk.tokenize.casual.TweetTokenizer object at 0x000001CFCBF12890>>)),\n",
      "                ('modelo', SVC(C=10, gamma=1))])\n",
      "\n",
      "AVALIANDO O MODELO\n",
      "\n",
      "Relatório de Classificação:\n",
      "               precision    recall  f1-score   support\n",
      "\n",
      "           0       0.86      0.83      0.84      1247\n",
      "           1       0.79      0.86      0.82      1198\n",
      "           2       0.87      0.82      0.84      1239\n",
      "\n",
      "    accuracy                           0.83      3684\n",
      "   macro avg       0.84      0.83      0.83      3684\n",
      "weighted avg       0.84      0.83      0.83      3684\n",
      "\n",
      "Acurácia: 0.8341\n",
      "\n",
      "Matrix de confusão:\n",
      " Predito     0     1     2   All\n",
      "Real                           \n",
      "0        1033   142    72  1247\n",
      "1          87  1026    85  1198\n",
      "2          87   138  1014  1239\n",
      "All      1207  1306  1171  3684 \n"
     ]
    },
    {
     "data": {
      "image/png": "[encoded data removed]",
      "text/plain": [
       "<Figure size 640x480 with 1 Axes>"
      ]
     },
     "metadata": {},
     "output_type": "display_data"
    },
    {
     "name": "stdout",
     "output_type": "stream",
     "text": [
      "\n",
      "\n",
      "\n",
      "VALIDAÇÃO CRUZADA\n",
      "\n"
     ]
    },
    {
     "name": "stderr",
     "output_type": "stream",
     "text": [
      "c:\\Users\\alsvi\\notebooks\\analise_sentimet_twitter_2023\\venv\\lib\\site-packages\\sklearn\\feature_extraction\\text.py:528: UserWarning: The parameter 'token_pattern' will not be used since 'tokenizer' is not None'\n",
      "  warnings.warn(\n",
      "c:\\Users\\alsvi\\notebooks\\analise_sentimet_twitter_2023\\venv\\lib\\site-packages\\sklearn\\feature_extraction\\text.py:528: UserWarning: The parameter 'token_pattern' will not be used since 'tokenizer' is not None'\n",
      "  warnings.warn(\n",
      "c:\\Users\\alsvi\\notebooks\\analise_sentimet_twitter_2023\\venv\\lib\\site-packages\\sklearn\\feature_extraction\\text.py:528: UserWarning: The parameter 'token_pattern' will not be used since 'tokenizer' is not None'\n",
      "  warnings.warn(\n",
      "c:\\Users\\alsvi\\notebooks\\analise_sentimet_twitter_2023\\venv\\lib\\site-packages\\sklearn\\feature_extraction\\text.py:528: UserWarning: The parameter 'token_pattern' will not be used since 'tokenizer' is not None'\n",
      "  warnings.warn(\n",
      "c:\\Users\\alsvi\\notebooks\\analise_sentimet_twitter_2023\\venv\\lib\\site-packages\\sklearn\\feature_extraction\\text.py:528: UserWarning: The parameter 'token_pattern' will not be used since 'tokenizer' is not None'\n",
      "  warnings.warn(\n",
      "c:\\Users\\alsvi\\notebooks\\analise_sentimet_twitter_2023\\venv\\lib\\site-packages\\sklearn\\feature_extraction\\text.py:528: UserWarning: The parameter 'token_pattern' will not be used since 'tokenizer' is not None'\n",
      "  warnings.warn(\n",
      "c:\\Users\\alsvi\\notebooks\\analise_sentimet_twitter_2023\\venv\\lib\\site-packages\\sklearn\\feature_extraction\\text.py:528: UserWarning: The parameter 'token_pattern' will not be used since 'tokenizer' is not None'\n",
      "  warnings.warn(\n",
      "c:\\Users\\alsvi\\notebooks\\analise_sentimet_twitter_2023\\venv\\lib\\site-packages\\sklearn\\feature_extraction\\text.py:528: UserWarning: The parameter 'token_pattern' will not be used since 'tokenizer' is not None'\n",
      "  warnings.warn(\n",
      "c:\\Users\\alsvi\\notebooks\\analise_sentimet_twitter_2023\\venv\\lib\\site-packages\\sklearn\\feature_extraction\\text.py:528: UserWarning: The parameter 'token_pattern' will not be used since 'tokenizer' is not None'\n",
      "  warnings.warn(\n",
      "c:\\Users\\alsvi\\notebooks\\analise_sentimet_twitter_2023\\venv\\lib\\site-packages\\sklearn\\feature_extraction\\text.py:528: UserWarning: The parameter 'token_pattern' will not be used since 'tokenizer' is not None'\n",
      "  warnings.warn(\n"
     ]
    },
    {
     "name": "stdout",
     "output_type": "stream",
     "text": [
      "Relatório de Classificação:\n",
      "               precision    recall  f1-score   support\n",
      "\n",
      "           0       0.83      0.85      0.84      4912\n",
      "           1       0.78      0.88      0.83      4912\n",
      "           2       0.87      0.75      0.80      4912\n",
      "\n",
      "    accuracy                           0.82     14736\n",
      "   macro avg       0.83      0.82      0.82     14736\n",
      "weighted avg       0.83      0.82      0.82     14736\n",
      "\n",
      "Acurácia: 0.8240\n",
      "\n",
      "Matrix de confusão:\n",
      " Predito     0     1     2    All\n",
      "Real                            \n",
      "0        4164   453   295   4912\n",
      "1         356  4298   258   4912\n",
      "2         486   745  3681   4912\n",
      "All      5006  5496  4234  14736 \n"
     ]
    },
    {
     "data": {
      "image/png": "[encoded data removed]",
      "text/plain": [
       "<Figure size 640x480 with 1 Axes>"
      ]
     },
     "metadata": {},
     "output_type": "display_data"
    },
    {
     "name": "stdout",
     "output_type": "stream",
     "text": [
      "\n",
      "\n"
     ]
    }
   ],
   "source": [
    "reports=[]\n",
    "modelos=[]\n",
    "\n",
    "for i in range(1,11):\n",
    "    modelo = escolher_pipeline(i)\n",
    "    nome = (str(modelo))# nome do modelo\n",
    "    modelo = modelo.fit(X_train, y_train)\n",
    "    modelo_pred = modelo.predict(X_test)\n",
    "    \n",
    "    #relatório\n",
    "    reports.append(metrics.classification_report(y_test, modelo_pred, output_dict=True))\n",
    "    modelos.append(nome)\n",
    "    \n",
    "    print(\"*\"*132)\n",
    "    print(f\"Modelo: {nome}\\n\")\n",
    "    print(\"AVALIANDO O MODELO\\n\")\n",
    "    matriz_confusao(y_test, modelo_pred)\n",
    "    \n",
    "    print('\\nVALIDAÇÃO CRUZADA\\n')\n",
    "    validacao_cruzada = cross_val_predict(modelo, X, y, cv=10)\n",
    "    matriz_confusao(y, validacao_cruzada)"
   ]
  },
  {
   "attachments": {},
   "cell_type": "markdown",
   "metadata": {},
   "source": [
    "## Geração do relatório para análise do melhor modelo"
   ]
  },
  {
   "cell_type": "code",
   "execution_count": 32,
   "metadata": {},
   "outputs": [],
   "source": [
    "# criando o dataframe para o relatório consolidado\n",
    "columns = ['modelo', 'f1_score', 'accuracy']\n",
    "report_df = pd.DataFrame(columns=columns)"
   ]
  },
  {
   "cell_type": "code",
   "execution_count": 33,
   "metadata": {},
   "outputs": [],
   "source": [
    "# loop para criação do relátorio consolidado\n",
    "for i in range(len(reports)):\n",
    "    report_df.loc[i] = [modelos[i],\n",
    "                    round(reports[i]['weighted avg']['f1-score'], 2), \n",
    "                    round(reports[i]['accuracy'], 2)]\n"
   ]
  },
  {
   "cell_type": "code",
   "execution_count": 34,
   "metadata": {},
   "outputs": [],
   "source": [
    "def formatar_nome_modelo(modelo):\n",
    "    ''' Função que formata o nome do modelo junto com o vetorizador '''\n",
    "    vec = modelo[18:33] #nome do vetorizador\n",
    "    \n",
    "    start_name = (modelo.rfind(\"modelo\")+9) #início do nome do classificador\n",
    "    end_name = (modelo.rfind('(')) #fim do nome do classificador\n",
    "    \n",
    "    classif = modelo[start_name: end_name] #nome completo do classificador\n",
    "    return(f'{classif} - {vec}')"
   ]
  },
  {
   "cell_type": "code",
   "execution_count": 35,
   "metadata": {},
   "outputs": [
    {
     "data": {
      "text/html": [
       "<div>\n",
       "<style scoped>\n",
       "    .dataframe tbody tr th:only-of-type {\n",
       "        vertical-align: middle;\n",
       "    }\n",
       "\n",
       "    .dataframe tbody tr th {\n",
       "        vertical-align: top;\n",
       "    }\n",
       "\n",
       "    .dataframe thead th {\n",
       "        text-align: right;\n",
       "    }\n",
       "</style>\n",
       "<table border=\"1\" class=\"dataframe\">\n",
       "  <thead>\n",
       "    <tr style=\"text-align: right;\">\n",
       "      <th></th>\n",
       "      <th>modelo</th>\n",
       "      <th>f1_score</th>\n",
       "      <th>accuracy</th>\n",
       "    </tr>\n",
       "  </thead>\n",
       "  <tbody>\n",
       "    <tr>\n",
       "      <th>0</th>\n",
       "      <td>LogisticRegression - countVectorizer</td>\n",
       "      <td>0.85</td>\n",
       "      <td>0.85</td>\n",
       "    </tr>\n",
       "    <tr>\n",
       "      <th>1</th>\n",
       "      <td>LogisticRegression - tfidfVectorizer</td>\n",
       "      <td>0.85</td>\n",
       "      <td>0.85</td>\n",
       "    </tr>\n",
       "    <tr>\n",
       "      <th>7</th>\n",
       "      <td>SGDClassifier - tfidfVectorizer</td>\n",
       "      <td>0.84</td>\n",
       "      <td>0.84</td>\n",
       "    </tr>\n",
       "    <tr>\n",
       "      <th>2</th>\n",
       "      <td>PassiveAggressiveClassifier - countVectorizer</td>\n",
       "      <td>0.83</td>\n",
       "      <td>0.83</td>\n",
       "    </tr>\n",
       "    <tr>\n",
       "      <th>3</th>\n",
       "      <td>PassiveAggressiveClassifier - tfidfVectorizer</td>\n",
       "      <td>0.83</td>\n",
       "      <td>0.83</td>\n",
       "    </tr>\n",
       "    <tr>\n",
       "      <th>6</th>\n",
       "      <td>SGDClassifier - countVectorizer</td>\n",
       "      <td>0.83</td>\n",
       "      <td>0.83</td>\n",
       "    </tr>\n",
       "    <tr>\n",
       "      <th>9</th>\n",
       "      <td>SVC - tfidfVectorizer</td>\n",
       "      <td>0.83</td>\n",
       "      <td>0.83</td>\n",
       "    </tr>\n",
       "    <tr>\n",
       "      <th>8</th>\n",
       "      <td>SVC - countVectorizer</td>\n",
       "      <td>0.82</td>\n",
       "      <td>0.82</td>\n",
       "    </tr>\n",
       "    <tr>\n",
       "      <th>5</th>\n",
       "      <td>RandomForestClassifier - tfidfVectorizer</td>\n",
       "      <td>0.79</td>\n",
       "      <td>0.79</td>\n",
       "    </tr>\n",
       "    <tr>\n",
       "      <th>4</th>\n",
       "      <td>RandomForestClassifier - countVectorizer</td>\n",
       "      <td>0.78</td>\n",
       "      <td>0.78</td>\n",
       "    </tr>\n",
       "  </tbody>\n",
       "</table>\n",
       "</div>"
      ],
      "text/plain": [
       "                                                           modelo  f1_score  \\\n",
       "0                            LogisticRegression - countVectorizer      0.85   \n",
       "1                            LogisticRegression - tfidfVectorizer      0.85   \n",
       "7                                 SGDClassifier - tfidfVectorizer      0.84   \n",
       "2                   PassiveAggressiveClassifier - countVectorizer      0.83   \n",
       "3                   PassiveAggressiveClassifier - tfidfVectorizer      0.83   \n",
       "6                                 SGDClassifier - countVectorizer      0.83   \n",
       "9                                           SVC - tfidfVectorizer      0.83   \n",
       "8                                           SVC - countVectorizer      0.82   \n",
       "5                        RandomForestClassifier - tfidfVectorizer      0.79   \n",
       "4                        RandomForestClassifier - countVectorizer      0.78   \n",
       "\n",
       "   accuracy  \n",
       "0      0.85  \n",
       "1      0.85  \n",
       "7      0.84  \n",
       "2      0.83  \n",
       "3      0.83  \n",
       "6      0.83  \n",
       "9      0.83  \n",
       "8      0.82  \n",
       "5      0.79  \n",
       "4      0.78  "
      ]
     },
     "execution_count": 35,
     "metadata": {},
     "output_type": "execute_result"
    }
   ],
   "source": [
    "report_df['modelo'] = report_df['modelo'].apply(formatar_nome_modelo)\n",
    "report_df.sort_values(by='accuracy', ascending=False)"
   ]
  },
  {
   "attachments": {},
   "cell_type": "markdown",
   "metadata": {},
   "source": [
    "# Salvando o melhor modelo"
   ]
  },
  {
   "cell_type": "code",
   "execution_count": 37,
   "metadata": {},
   "outputs": [],
   "source": [
    "model = escolher_pipeline(1)"
   ]
  },
  {
   "cell_type": "code",
   "execution_count": 38,
   "metadata": {},
   "outputs": [],
   "source": [
    "# salvar modelo\n",
    "import pickle\n",
    "# salvar o modelo LogisticRegression (modelo1) no arquivo analise_sentimento.pkl\n",
    "with open('analise_sentimento2.pkl', 'wb') as file:\n",
    "    pickle.dump(model, file)"
   ]
  }
 ],
 "metadata": {
  "kernelspec": {
   "display_name": "venv",
   "language": "python",
   "name": "python3"
  },
  "language_info": {
   "codemirror_mode": {
    "name": "ipython",
    "version": 3
   },
   "file_extension": ".py",
   "mimetype": "text/x-python",
   "name": "python",
   "nbconvert_exporter": "python",
   "pygments_lexer": "ipython3",
   "version": "3.10.8"
  },
  "orig_nbformat": 4,
  "vscode": {
   "interpreter": {
    "hash": "e3971530ebee88d17684850d55f1a01c02cb93a6b767f3eec2f2091aded2f323"
   }
  }
 },
 "nbformat": 4,
 "nbformat_minor": 2
}
